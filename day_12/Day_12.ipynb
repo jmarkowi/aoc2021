{
 "cells": [
  {
   "cell_type": "markdown",
   "id": "6f96dec5",
   "metadata": {},
   "source": [
    "# Day 12: Passage Pathing\n",
    "\n",
    "## Part 1:\n",
    "\n",
    "With your submarine's subterranean subsystems subsisting suboptimally, the only way you're getting out of this cave anytime soon is by finding a path yourself. Not just a path - the only way to know if you've found the best path is to find all of them.\n",
    "\n",
    "Fortunately, the sensors are still mostly working, and so you build a rough map of the remaining caves (your puzzle input). For example:\n",
    "```\n",
    "start-A\n",
    "start-b\n",
    "A-c\n",
    "A-b\n",
    "b-d\n",
    "A-end\n",
    "b-end\n",
    "```\n",
    "\n",
    "This is a list of how all of the caves are connected. You start in the cave named start, and your destination is the cave named end. An entry like b-d means that cave b is connected to cave d - that is, you can move between them.\n",
    "\n",
    "So, the above cave system looks roughly like this:\n",
    "```\n",
    "    start\n",
    "    /   \\\n",
    "c--A-----b--d\n",
    "    \\   /\n",
    "     end\n",
    "```\n",
    "\n",
    "Your goal is to find the number of distinct paths that start at start, end at end, and don't visit small caves more than once. There are two types of caves: big caves (written in uppercase, like A) and small caves (written in lowercase, like b). It would be a waste of time to visit any small cave more than once, but big caves are large enough that it might be worth visiting them multiple times. So, all paths you find should visit small caves at most once, and can visit big caves any number of times.\n",
    "\n",
    "Given these rules, there are 10 paths through this example cave system:\n",
    "```\n",
    "start,A,b,A,c,A,end\n",
    "start,A,b,A,end\n",
    "start,A,b,end\n",
    "start,A,c,A,b,A,end\n",
    "start,A,c,A,b,end\n",
    "start,A,c,A,end\n",
    "start,A,end\n",
    "start,b,A,c,A,end\n",
    "start,b,A,end\n",
    "start,b,end\n",
    "```\n",
    "\n",
    "(Each line in the above list corresponds to a single path; the caves visited by that path are listed in the order they are visited and separated by commas.)\n",
    "\n",
    "Note that in this cave system, cave d is never visited by any path: to do so, cave b would need to be visited twice (once on the way to cave d and a second time when returning from cave d), and since cave b is small, this is not allowed.\n",
    "\n",
    "Here is a slightly larger example:\n",
    "```\n",
    "dc-end\n",
    "HN-start\n",
    "start-kj\n",
    "dc-start\n",
    "dc-HN\n",
    "LN-dc\n",
    "HN-end\n",
    "kj-sa\n",
    "kj-HN\n",
    "kj-dc\n",
    "```\n",
    "\n",
    "The 19 paths through it are as follows:\n",
    "```\n",
    "start,HN,dc,HN,end\n",
    "start,HN,dc,HN,kj,HN,end\n",
    "start,HN,dc,end\n",
    "start,HN,dc,kj,HN,end\n",
    "start,HN,end\n",
    "start,HN,kj,HN,dc,HN,end\n",
    "start,HN,kj,HN,dc,end\n",
    "start,HN,kj,HN,end\n",
    "start,HN,kj,dc,HN,end\n",
    "start,HN,kj,dc,end\n",
    "start,dc,HN,end\n",
    "start,dc,HN,kj,HN,end\n",
    "start,dc,end\n",
    "start,dc,kj,HN,end\n",
    "start,kj,HN,dc,HN,end\n",
    "start,kj,HN,dc,end\n",
    "start,kj,HN,end\n",
    "start,kj,dc,HN,end\n",
    "start,kj,dc,end\n",
    "```\n",
    "\n",
    "Finally, this even larger example has 226 paths through it:\n",
    "```\n",
    "fs-end\n",
    "he-DX\n",
    "fs-he\n",
    "start-DX\n",
    "pj-DX\n",
    "end-zg\n",
    "zg-sl\n",
    "zg-pj\n",
    "pj-he\n",
    "RW-he\n",
    "fs-DX\n",
    "pj-RW\n",
    "zg-RW\n",
    "start-pj\n",
    "he-WI\n",
    "zg-he\n",
    "pj-fs\n",
    "start-RW\n",
    "```\n",
    "\n",
    "**How many paths through this cave system are there that visit small caves at most once?**"
   ]
  },
  {
   "cell_type": "markdown",
   "id": "6671c42d",
   "metadata": {},
   "source": [
    "This is pretty clearly a graph (node, edge) problem. Time to learn how to create graphs! I'm going to use the [NetworkX](https://networkx.org/documentation/stable/tutorial.html) Python package."
   ]
  },
  {
   "cell_type": "code",
   "execution_count": 5,
   "id": "28bcef25",
   "metadata": {
    "ExecuteTime": {
     "end_time": "2021-12-12T16:53:50.987527Z",
     "start_time": "2021-12-12T16:53:49.673387Z"
    }
   },
   "outputs": [],
   "source": [
    "import networkx as nx\n",
    "import matplotlib as plt"
   ]
  },
  {
   "cell_type": "markdown",
   "id": "42d0eb8d",
   "metadata": {},
   "source": [
    "There are multiple test input examples given this time, with increasing length/complexity. I'm going to start with the simplest first."
   ]
  },
  {
   "cell_type": "code",
   "execution_count": 3,
   "id": "9c117f50",
   "metadata": {
    "ExecuteTime": {
     "end_time": "2021-12-12T16:51:14.579480Z",
     "start_time": "2021-12-12T16:51:14.568702Z"
    },
    "scrolled": true
   },
   "outputs": [
    {
     "data": {
      "text/plain": [
       "['start-A', 'start-b', 'A-c', 'A-b', 'b-d', 'A-end', 'b-end']"
      ]
     },
     "execution_count": 3,
     "metadata": {},
     "output_type": "execute_result"
    }
   ],
   "source": [
    "# Get test input\n",
    "with open('./test_input_12-1.txt') as f:\n",
    "    lines = f.readlines()\n",
    "test_input = [line.strip() for line in lines]\n",
    "test_input"
   ]
  },
  {
   "cell_type": "markdown",
   "id": "a956b4bc",
   "metadata": {},
   "source": [
    "I'm going to create a directed graph (`DiGraph()`) to account for `'start'` and `'end'`, plus maybe that will also help with the repetition of capital letter nodes. I'll set it so that capital letter nodes are bidirectional, while lower case nodes are not."
   ]
  },
  {
   "cell_type": "code",
   "execution_count": 48,
   "id": "f465fc2c",
   "metadata": {
    "ExecuteTime": {
     "end_time": "2021-12-12T17:17:48.583310Z",
     "start_time": "2021-12-12T17:17:48.579887Z"
    }
   },
   "outputs": [],
   "source": [
    "G = nx.DiGraph()\n",
    "for pair in test_input:\n",
    "    (x, y) = pair.split('-')\n",
    "    G.add_edge(x, y)\n",
    "    if (x.isupper() or y.isupper()) and x!='start' and y!='end':\n",
    "        G.add_edge(y, x)"
   ]
  },
  {
   "cell_type": "code",
   "execution_count": 59,
   "id": "c37c3c24",
   "metadata": {
    "ExecuteTime": {
     "end_time": "2021-12-12T17:18:09.861092Z",
     "start_time": "2021-12-12T17:18:09.707069Z"
    }
   },
   "outputs": [
    {
     "data": {
      "image/png": "[encoded data removed]",
      "text/plain": [
       "<Figure size 432x288 with 1 Axes>"
      ]
     },
     "metadata": {},
     "output_type": "display_data"
    }
   ],
   "source": [
    "nx.draw_networkx(G, node_size=1000, node_color='white', edgecolors='black')"
   ]
  },
  {
   "cell_type": "markdown",
   "id": "e4502dcc",
   "metadata": {},
   "source": [
    "That's basically what the first simple example looked like as given, but I'm not sure if making it directed actually helped... \n",
    "\n",
    "Now, how to 'travel' the nodes?"
   ]
  },
  {
   "cell_type": "code",
   "execution_count": 75,
   "id": "069cdfc5",
   "metadata": {
    "ExecuteTime": {
     "end_time": "2021-12-12T17:37:15.165478Z",
     "start_time": "2021-12-12T17:37:15.160839Z"
    }
   },
   "outputs": [
    {
     "data": {
      "text/plain": [
       "[('start', 'A'),\n",
       " ('start', 'b'),\n",
       " ('A', 'c'),\n",
       " ('A', 'b'),\n",
       " ('A', 'end'),\n",
       " ('b', 'A'),\n",
       " ('b', 'd'),\n",
       " ('b', 'end'),\n",
       " ('c', 'A')]"
      ]
     },
     "execution_count": 75,
     "metadata": {},
     "output_type": "execute_result"
    }
   ],
   "source": [
    "list(G.edges)"
   ]
  },
  {
   "cell_type": "code",
   "execution_count": 61,
   "id": "8e6498ac",
   "metadata": {
    "ExecuteTime": {
     "end_time": "2021-12-12T17:18:21.605172Z",
     "start_time": "2021-12-12T17:18:21.602073Z"
    }
   },
   "outputs": [
    {
     "name": "stdout",
     "output_type": "stream",
     "text": [
      "['start', 'A', 'c', 'b', 'd', 'end']\n"
     ]
    }
   ],
   "source": [
    "print(list(nx.dfs_tree(G, source='start')))"
   ]
  },
  {
   "cell_type": "code",
   "execution_count": 62,
   "id": "34a5457a",
   "metadata": {
    "ExecuteTime": {
     "end_time": "2021-12-12T17:18:23.029929Z",
     "start_time": "2021-12-12T17:18:23.026727Z"
    }
   },
   "outputs": [
    {
     "name": "stdout",
     "output_type": "stream",
     "text": [
      "['start', 'A', 'b', 'c', 'end', 'd']\n"
     ]
    }
   ],
   "source": [
    "print(list(nx.bfs_tree(G, source='start')))"
   ]
  },
  {
   "cell_type": "code",
   "execution_count": 67,
   "id": "4306eae7",
   "metadata": {
    "ExecuteTime": {
     "end_time": "2021-12-12T17:32:51.858261Z",
     "start_time": "2021-12-12T17:32:51.844309Z"
    }
   },
   "outputs": [
    {
     "data": {
      "text/plain": [
       "['start', 'A', 'b', 'c', 'd', 'end']"
      ]
     },
     "execution_count": 67,
     "metadata": {},
     "output_type": "execute_result"
    }
   ],
   "source": [
    "list(G.nodes)"
   ]
  },
  {
   "cell_type": "code",
   "execution_count": 66,
   "id": "45e5e824",
   "metadata": {
    "ExecuteTime": {
     "end_time": "2021-12-12T17:19:45.436191Z",
     "start_time": "2021-12-12T17:19:45.431225Z"
    }
   },
   "outputs": [
    {
     "data": {
      "text/plain": [
       "[['start', 'A', 'b', 'end'],\n",
       " ['start', 'A', 'end'],\n",
       " ['start', 'b', 'A', 'end'],\n",
       " ['start', 'b', 'end']]"
      ]
     },
     "execution_count": 66,
     "metadata": {},
     "output_type": "execute_result"
    }
   ],
   "source": [
    "list(nx.all_simple_paths(G, source='start', target='end'))"
   ]
  },
  {
   "cell_type": "markdown",
   "id": "52f81a4b",
   "metadata": {},
   "source": [
    "Not sure if this is actually helping me or if I just don't really know how to use it yet."
   ]
  },
  {
   "cell_type": "code",
   "execution_count": 74,
   "id": "cf22b28d",
   "metadata": {
    "ExecuteTime": {
     "end_time": "2021-12-12T17:36:43.365748Z",
     "start_time": "2021-12-12T17:36:43.361683Z"
    }
   },
   "outputs": [
    {
     "data": {
      "text/plain": [
       "['start A', 'start b', 'A c', 'A b', 'A end', 'b A', 'b d', 'b end', 'c A']"
      ]
     },
     "execution_count": 74,
     "metadata": {},
     "output_type": "execute_result"
    }
   ],
   "source": [
    "list(nx.generate_edgelist(G, data=False))"
   ]
  },
  {
   "cell_type": "code",
   "execution_count": 84,
   "id": "2f51c164",
   "metadata": {
    "ExecuteTime": {
     "end_time": "2021-12-12T17:43:05.704541Z",
     "start_time": "2021-12-12T17:43:05.700531Z"
    }
   },
   "outputs": [
    {
     "data": {
      "text/plain": [
       "[]"
      ]
     },
     "execution_count": 84,
     "metadata": {},
     "output_type": "execute_result"
    }
   ],
   "source": [
    "list(nx.all_simple_paths(G, source='d', target='end'))"
   ]
  },
  {
   "cell_type": "code",
   "execution_count": 87,
   "id": "88611c57",
   "metadata": {
    "ExecuteTime": {
     "end_time": "2021-12-12T17:46:35.193927Z",
     "start_time": "2021-12-12T17:46:35.188992Z"
    }
   },
   "outputs": [
    {
     "data": {
      "text/plain": [
       "['c', 'b', 'end']"
      ]
     },
     "execution_count": 87,
     "metadata": {},
     "output_type": "execute_result"
    }
   ],
   "source": [
    "list(G['A'])"
   ]
  },
  {
   "cell_type": "markdown",
   "id": "157a0281",
   "metadata": {},
   "source": [
    "From doing some research, I need to implement an algorithm that keeps track of 'visited' nodes (i.e., lowercase nodes).\n",
    "\n",
    "Pseudocode solution:\n",
    " - Create a graph from the input text *(not sure it **needs** to be directed if I'm keeping track of visitors?)*\n",
    " - Start a 'start' node, get connected nodes\n",
    " - For each connected node:\n",
    "  - Mark only lower-case nodes as 'visited'\n",
    "  - Get connected nodes that are NOT 'visited'\n",
    "  - If you get to 'end', add 1 to 'paths'\n",
    "  \n",
    "**Note:** I realized that the graph should *not* be directed because it's very possible to have a set of lowercase nodes that could be traversed in either direction: `A -- a -- b -- c -- A` for instance."
   ]
  },
  {
   "cell_type": "code",
   "execution_count": 89,
   "id": "de5dce75",
   "metadata": {
    "ExecuteTime": {
     "end_time": "2021-12-12T18:20:34.773850Z",
     "start_time": "2021-12-12T18:20:34.754815Z"
    }
   },
   "outputs": [
    {
     "data": {
      "text/plain": [
       "{'start': False, 'A': False, 'b': False, 'c': False, 'd': False, 'end': False}"
      ]
     },
     "execution_count": 89,
     "metadata": {},
     "output_type": "execute_result"
    }
   ],
   "source": [
    "visited_dict = {node:False for node in list(G.nodes)}\n",
    "visited_dict"
   ]
  },
  {
   "cell_type": "code",
   "execution_count": 127,
   "id": "5734753a",
   "metadata": {
    "ExecuteTime": {
     "end_time": "2021-12-12T22:21:04.581376Z",
     "start_time": "2021-12-12T22:21:04.573869Z"
    }
   },
   "outputs": [],
   "source": [
    "def make_graph(input_text):\n",
    "    G = nx.Graph()\n",
    "    for pair in input_text:\n",
    "        (x, y) = pair.split('-')\n",
    "        G.add_edge(x, y)\n",
    "        if (x.isupper() or y.isupper()) and x!='start' and y!='end':\n",
    "            G.add_edge(y, x)\n",
    "    return G\n",
    "# With help from https://www.geeksforgeeks.org/count-possible-paths-two-vertices/\n",
    "def count_paths(G, start, visited, paths):\n",
    "    if start=='end':\n",
    "        paths[0] += 1\n",
    "        return\n",
    "    \n",
    "    if start.islower():\n",
    "        visited.append(start)\n",
    "    \n",
    "    for node in list(G[start]):\n",
    "        if node not in visited:\n",
    "            count_paths(G, node, visited, paths)\n",
    "    \n",
    "    if start in visited:\n",
    "        visited.remove(start)\n",
    "            \n",
    "def solution(input_text):\n",
    "    G = make_graph(input_text)\n",
    "\n",
    "    visited = []\n",
    "    paths = [0]\n",
    "    \n",
    "    count_paths(G, 'start', visited, paths)\n",
    "    \n",
    "    return paths"
   ]
  },
  {
   "cell_type": "code",
   "execution_count": null,
   "id": "72bd35ed",
   "metadata": {},
   "outputs": [],
   "source": [
    "visited_dict = {node:False for node in list(G.nodes)}"
   ]
  },
  {
   "cell_type": "code",
   "execution_count": 126,
   "id": "51bd4498",
   "metadata": {
    "ExecuteTime": {
     "end_time": "2021-12-12T22:20:42.821466Z",
     "start_time": "2021-12-12T22:20:42.814023Z"
    }
   },
   "outputs": [
    {
     "data": {
      "text/plain": [
       "[10]"
      ]
     },
     "execution_count": 126,
     "metadata": {},
     "output_type": "execute_result"
    }
   ],
   "source": [
    "solution(test_input)"
   ]
  },
  {
   "cell_type": "markdown",
   "id": "e04f4046",
   "metadata": {},
   "source": [
    "Great, now to try it on the other test inputs."
   ]
  },
  {
   "cell_type": "code",
   "execution_count": 135,
   "id": "9577d6cc",
   "metadata": {
    "ExecuteTime": {
     "end_time": "2021-12-12T22:25:05.379423Z",
     "start_time": "2021-12-12T22:25:05.373253Z"
    }
   },
   "outputs": [],
   "source": [
    "# Get test input\n",
    "with open('./test_input_12-2.txt') as f:\n",
    "    lines = f.readlines()\n",
    "test2 = [line.strip() for line in lines]\n",
    "with open('./test_input_12-3.txt') as f:\n",
    "    lines = f.readlines()\n",
    "test3 = [line.strip() for line in lines]"
   ]
  },
  {
   "cell_type": "code",
   "execution_count": 136,
   "id": "46098a0d",
   "metadata": {
    "ExecuteTime": {
     "end_time": "2021-12-12T22:25:05.946316Z",
     "start_time": "2021-12-12T22:25:05.941666Z"
    }
   },
   "outputs": [
    {
     "data": {
      "text/plain": [
       "['dc-end',\n",
       " 'HN-start',\n",
       " 'start-kj',\n",
       " 'dc-start',\n",
       " 'dc-HN',\n",
       " 'LN-dc',\n",
       " 'HN-end',\n",
       " 'kj-sa',\n",
       " 'kj-HN',\n",
       " 'kj-dc']"
      ]
     },
     "execution_count": 136,
     "metadata": {},
     "output_type": "execute_result"
    }
   ],
   "source": [
    "test2"
   ]
  },
  {
   "cell_type": "code",
   "execution_count": 137,
   "id": "d16be260",
   "metadata": {
    "ExecuteTime": {
     "end_time": "2021-12-12T22:25:07.008402Z",
     "start_time": "2021-12-12T22:25:07.004387Z"
    }
   },
   "outputs": [
    {
     "data": {
      "text/plain": [
       "[19]"
      ]
     },
     "execution_count": 137,
     "metadata": {},
     "output_type": "execute_result"
    }
   ],
   "source": [
    "solution(test2)\n",
    "# 19"
   ]
  },
  {
   "cell_type": "code",
   "execution_count": 138,
   "id": "96fa0d44",
   "metadata": {
    "ExecuteTime": {
     "end_time": "2021-12-12T22:25:08.180515Z",
     "start_time": "2021-12-12T22:25:08.171964Z"
    }
   },
   "outputs": [
    {
     "data": {
      "text/plain": [
       "[226]"
      ]
     },
     "execution_count": 138,
     "metadata": {},
     "output_type": "execute_result"
    }
   ],
   "source": [
    "solution(test3)\n",
    "# 226"
   ]
  },
  {
   "cell_type": "code",
   "execution_count": 139,
   "id": "3dc82b76",
   "metadata": {
    "ExecuteTime": {
     "end_time": "2021-12-12T22:25:33.858193Z",
     "start_time": "2021-12-12T22:25:33.852319Z"
    }
   },
   "outputs": [],
   "source": [
    "# Get full input\n",
    "with open('./input_12.txt') as f:\n",
    "    lines = f.readlines()\n",
    "full_input = [line.strip() for line in lines]"
   ]
  },
  {
   "cell_type": "code",
   "execution_count": 140,
   "id": "3021816c",
   "metadata": {
    "ExecuteTime": {
     "end_time": "2021-12-12T22:25:36.915411Z",
     "start_time": "2021-12-12T22:25:36.875069Z"
    }
   },
   "outputs": [
    {
     "data": {
      "text/plain": [
       "[4241]"
      ]
     },
     "execution_count": 140,
     "metadata": {},
     "output_type": "execute_result"
    }
   ],
   "source": [
    "solution(full_input)"
   ]
  },
  {
   "cell_type": "markdown",
   "id": "a3df16a6",
   "metadata": {},
   "source": [
    "## Part 2:\n",
    "\n",
    "After reviewing the available paths, you realize you might have time to visit a single small cave twice. Specifically, big caves can be visited any number of times, a single small cave can be visited at most twice, and the remaining small caves can be visited at most once. However, the caves named start and end can only be visited exactly once each: once you leave the start cave, you may not return to it, and once you reach the end cave, the path must end immediately.\n",
    "\n",
    "Now, the 36 possible paths through the first example above are:\n",
    "```\n",
    "start,A,b,A,b,A,c,A,end\n",
    "start,A,b,A,b,A,end\n",
    "start,A,b,A,b,end\n",
    "start,A,b,A,c,A,b,A,end\n",
    "start,A,b,A,c,A,b,end\n",
    "start,A,b,A,c,A,c,A,end\n",
    "start,A,b,A,c,A,end\n",
    "start,A,b,A,end\n",
    "start,A,b,d,b,A,c,A,end\n",
    "start,A,b,d,b,A,end\n",
    "start,A,b,d,b,end\n",
    "start,A,b,end\n",
    "start,A,c,A,b,A,b,A,end\n",
    "start,A,c,A,b,A,b,end\n",
    "start,A,c,A,b,A,c,A,end\n",
    "start,A,c,A,b,A,end\n",
    "start,A,c,A,b,d,b,A,end\n",
    "start,A,c,A,b,d,b,end\n",
    "start,A,c,A,b,end\n",
    "start,A,c,A,c,A,b,A,end\n",
    "start,A,c,A,c,A,b,end\n",
    "start,A,c,A,c,A,end\n",
    "start,A,c,A,end\n",
    "start,A,end\n",
    "start,b,A,b,A,c,A,end\n",
    "start,b,A,b,A,end\n",
    "start,b,A,b,end\n",
    "start,b,A,c,A,b,A,end\n",
    "start,b,A,c,A,b,end\n",
    "start,b,A,c,A,c,A,end\n",
    "start,b,A,c,A,end\n",
    "start,b,A,end\n",
    "start,b,d,b,A,c,A,end\n",
    "start,b,d,b,A,end\n",
    "start,b,d,b,end\n",
    "start,b,end\n",
    "```\n",
    "\n",
    "The slightly larger example above now has 103 paths through it, and the even larger example now has 3509 paths through it.\n",
    "\n",
    "Given these new rules, **how many paths through this cave system are there?**\n",
    "\n"
   ]
  },
  {
   "cell_type": "code",
   "execution_count": null,
   "id": "0adb2bfe",
   "metadata": {},
   "outputs": [],
   "source": []
  }
 ],
 "metadata": {
  "kernelspec": {
   "display_name": "Python 3 (ipykernel)",
   "language": "python",
   "name": "python3"
  },
  "language_info": {
   "codemirror_mode": {
    "name": "ipython",
    "version": 3
   },
   "file_extension": ".py",
   "mimetype": "text/x-python",
   "name": "python",
   "nbconvert_exporter": "python",
   "pygments_lexer": "ipython3",
   "version": "3.8.12"
  }
 },
 "nbformat": 4,
 "nbformat_minor": 5
}
