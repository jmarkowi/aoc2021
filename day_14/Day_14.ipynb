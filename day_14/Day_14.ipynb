{
 "cells": [
  {
   "cell_type": "markdown",
   "id": "6f96dec5",
   "metadata": {},
   "source": [
    "# Day 14: Extended Polymerization\n",
    "\n",
    "## Part 1:\n",
    "\n",
    "The incredible pressures at this depth are starting to put a strain on your submarine. The submarine has polymerization equipment that would produce suitable materials to reinforce the submarine, and the nearby volcanically-active caves should even have the necessary input elements in sufficient quantities.\n",
    "\n",
    "The submarine manual contains instructions for finding the optimal polymer formula; specifically, it offers a polymer template and a list of pair insertion rules (your puzzle input). You just need to work out what polymer would result after repeating the pair insertion process a few times.\n",
    "\n",
    "For example:\n",
    "```\n",
    "NNCB\n",
    "\n",
    "CH -> B\n",
    "HH -> N\n",
    "CB -> H\n",
    "NH -> C\n",
    "HB -> C\n",
    "HC -> B\n",
    "HN -> C\n",
    "NN -> C\n",
    "BH -> H\n",
    "NC -> B\n",
    "NB -> B\n",
    "BN -> B\n",
    "BB -> N\n",
    "BC -> B\n",
    "CC -> N\n",
    "CN -> C\n",
    "```\n",
    "\n",
    "The first line is the polymer template - this is the starting point of the process.\n",
    "\n",
    "The following section defines the pair insertion rules. A rule like AB -> C means that when elements A and B are immediately adjacent, element C should be inserted between them. These insertions all happen simultaneously.\n",
    "\n",
    "So, starting with the polymer template NNCB, the first step simultaneously considers all three pairs:\n",
    "\n",
    " - The first pair (NN) matches the rule NN -> C, so element C is inserted between the first N and the second N.\n",
    " - The second pair (NC) matches the rule NC -> B, so element B is inserted between the N and the C.\n",
    " - The third pair (CB) matches the rule CB -> H, so element H is inserted between the C and the B.\n",
    "\n",
    "Note that these pairs overlap: the second element of one pair is the first element of the next pair. Also, because all pairs are considered simultaneously, inserted elements are not considered to be part of a pair until the next step.\n",
    "\n",
    "After the first step of this process, the polymer becomes NCNBCHB.\n",
    "\n",
    "Here are the results of a few steps using the above rules:\n",
    "```\n",
    "Template:     NNCB\n",
    "After step 1: NCNBCHB\n",
    "After step 2: NBCCNBBBCBHCB\n",
    "After step 3: NBBBCNCCNBBNBNBBCHBHHBCHB\n",
    "After step 4: NBBNBNBBCCNBCNCCNBBNBBNBBBNBBNBBCBHCBHHNHCBBCBHCB\n",
    "```\n",
    "\n",
    "This polymer grows quickly. After step 5, it has length 97; After step 10, it has length 3073. After step 10, B occurs 1749 times, C occurs 298 times, H occurs 161 times, and N occurs 865 times; taking the quantity of the most common element (B, 1749) and subtracting the quantity of the least common element (H, 161) produces 1749 - 161 = 1588.\n",
    "\n",
    "Apply 10 steps of pair insertion to the polymer template and find the most and least common elements in the result. **What do you get if you take the quantity of the most common element and subtract the quantity of the least common element?**"
   ]
  },
  {
   "cell_type": "markdown",
   "id": "2e999298",
   "metadata": {},
   "source": [
    "*This sure seems like that quadratic growth fish problem all over again...*"
   ]
  },
  {
   "cell_type": "code",
   "execution_count": 2,
   "id": "bea74584",
   "metadata": {
    "ExecuteTime": {
     "end_time": "2021-12-14T22:33:39.592232Z",
     "start_time": "2021-12-14T22:33:39.587326Z"
    }
   },
   "outputs": [
    {
     "data": {
      "text/plain": [
       "['NNCB',\n",
       " '',\n",
       " 'CH -> B',\n",
       " 'HH -> N',\n",
       " 'CB -> H',\n",
       " 'NH -> C',\n",
       " 'HB -> C',\n",
       " 'HC -> B',\n",
       " 'HN -> C',\n",
       " 'NN -> C',\n",
       " 'BH -> H',\n",
       " 'NC -> B',\n",
       " 'NB -> B',\n",
       " 'BN -> B',\n",
       " 'BB -> N',\n",
       " 'BC -> B',\n",
       " 'CC -> N',\n",
       " 'CN -> C']"
      ]
     },
     "execution_count": 2,
     "metadata": {},
     "output_type": "execute_result"
    }
   ],
   "source": [
    "# Get test input\n",
    "with open('./test_input_14.txt') as f:\n",
    "    lines = f.readlines()\n",
    "test_input = [line.strip() for line in lines]\n",
    "test_input"
   ]
  },
  {
   "cell_type": "code",
   "execution_count": 3,
   "id": "ccbea330",
   "metadata": {
    "ExecuteTime": {
     "end_time": "2021-12-14T22:33:41.400878Z",
     "start_time": "2021-12-14T22:33:41.394780Z"
    },
    "scrolled": true
   },
   "outputs": [
    {
     "data": {
      "text/plain": [
       "['NNSOFOCNHBVVNOBSBHCB',\n",
       " '',\n",
       " 'HN -> S',\n",
       " 'FK -> N',\n",
       " 'CH -> P',\n",
       " 'VP -> P',\n",
       " 'VV -> C',\n",
       " 'PB -> H',\n",
       " 'CP -> F',\n",
       " 'KO -> P',\n",
       " 'KN -> V',\n",
       " 'NO -> K',\n",
       " 'NF -> N',\n",
       " 'CO -> P',\n",
       " 'HO -> H',\n",
       " 'VH -> V',\n",
       " 'OV -> C',\n",
       " 'VS -> F',\n",
       " 'PK -> H',\n",
       " 'OS -> S',\n",
       " 'BF -> S',\n",
       " 'SN -> P',\n",
       " 'NK -> N',\n",
       " 'SV -> O',\n",
       " 'KB -> O',\n",
       " 'ON -> O',\n",
       " 'FN -> H',\n",
       " 'FO -> N',\n",
       " 'KV -> S',\n",
       " 'CS -> C',\n",
       " 'VO -> O',\n",
       " 'SP -> O',\n",
       " 'VK -> H',\n",
       " 'KP -> S',\n",
       " 'SK -> N',\n",
       " 'NC -> B',\n",
       " 'PN -> N',\n",
       " 'HV -> O',\n",
       " 'HS -> C',\n",
       " 'CN -> N',\n",
       " 'OO -> V',\n",
       " 'FF -> B',\n",
       " 'VC -> V',\n",
       " 'HK -> K',\n",
       " 'CC -> H',\n",
       " 'BO -> H',\n",
       " 'SC -> O',\n",
       " 'HH -> C',\n",
       " 'BV -> P',\n",
       " 'OB -> O',\n",
       " 'FC -> H',\n",
       " 'PO -> C',\n",
       " 'FV -> C',\n",
       " 'BK -> F',\n",
       " 'HB -> B',\n",
       " 'NH -> P',\n",
       " 'KF -> N',\n",
       " 'BP -> H',\n",
       " 'KK -> O',\n",
       " 'OH -> K',\n",
       " 'CB -> H',\n",
       " 'CK -> C',\n",
       " 'OK -> H',\n",
       " 'NN -> F',\n",
       " 'VF -> N',\n",
       " 'SO -> K',\n",
       " 'OP -> F',\n",
       " 'NP -> B',\n",
       " 'FS -> S',\n",
       " 'SH -> O',\n",
       " 'FP -> O',\n",
       " 'SF -> V',\n",
       " 'HF -> N',\n",
       " 'KC -> K',\n",
       " 'SB -> V',\n",
       " 'FH -> N',\n",
       " 'SS -> C',\n",
       " 'BB -> C',\n",
       " 'NV -> K',\n",
       " 'OC -> S',\n",
       " 'CV -> N',\n",
       " 'HC -> P',\n",
       " 'BC -> N',\n",
       " 'OF -> K',\n",
       " 'BH -> N',\n",
       " 'NS -> K',\n",
       " 'BN -> F',\n",
       " 'PC -> C',\n",
       " 'CF -> N',\n",
       " 'HP -> F',\n",
       " 'BS -> O',\n",
       " 'PF -> S',\n",
       " 'PV -> B',\n",
       " 'KH -> K',\n",
       " 'VN -> V',\n",
       " 'NB -> N',\n",
       " 'PH -> V',\n",
       " 'KS -> B',\n",
       " 'PP -> V',\n",
       " 'PS -> C',\n",
       " 'VB -> N',\n",
       " 'FB -> N']"
      ]
     },
     "execution_count": 3,
     "metadata": {},
     "output_type": "execute_result"
    }
   ],
   "source": [
    "# Get full input\n",
    "with open('./input_14.txt') as f:\n",
    "    lines = f.readlines()\n",
    "full_input = [line.strip() for line in lines]\n",
    "full_input"
   ]
  },
  {
   "cell_type": "code",
   "execution_count": 13,
   "id": "fb0540ed",
   "metadata": {
    "ExecuteTime": {
     "end_time": "2021-12-14T22:41:52.461598Z",
     "start_time": "2021-12-14T22:41:52.457761Z"
    }
   },
   "outputs": [
    {
     "data": {
      "text/plain": [
       "['N', 'N', 'C', 'B']"
      ]
     },
     "execution_count": 13,
     "metadata": {},
     "output_type": "execute_result"
    }
   ],
   "source": [
    "polymer = [char for char in test_input[0]]\n",
    "polymer"
   ]
  },
  {
   "cell_type": "code",
   "execution_count": 14,
   "id": "189788bf",
   "metadata": {
    "ExecuteTime": {
     "end_time": "2021-12-14T22:42:00.182081Z",
     "start_time": "2021-12-14T22:42:00.177226Z"
    }
   },
   "outputs": [
    {
     "data": {
      "text/plain": [
       "'NN'"
      ]
     },
     "execution_count": 14,
     "metadata": {},
     "output_type": "execute_result"
    }
   ],
   "source": [
    "polymer[0] + polymer[1]"
   ]
  },
  {
   "cell_type": "code",
   "execution_count": 24,
   "id": "1ea64527",
   "metadata": {
    "ExecuteTime": {
     "end_time": "2021-12-14T22:48:41.956577Z",
     "start_time": "2021-12-14T22:48:41.954235Z"
    }
   },
   "outputs": [],
   "source": [
    "from collections import Counter"
   ]
  },
  {
   "cell_type": "code",
   "execution_count": 60,
   "id": "75e6b32a",
   "metadata": {
    "ExecuteTime": {
     "end_time": "2021-12-14T22:59:16.592491Z",
     "start_time": "2021-12-14T22:59:16.587123Z"
    }
   },
   "outputs": [],
   "source": [
    "def p1_solution(input_text, steps):\n",
    "    polymer = [char for char in input_text[0]]\n",
    "    rules = {line.split(' -> ')[0]:line.split(' -> ')[1] for line in input_text[2:]}\n",
    "    print(polymer)\n",
    "    print(rules)\n",
    "    \n",
    "    for s in range(steps):\n",
    "        temp = []\n",
    "        for i in range(len(polymer)-1):\n",
    "            pair = polymer[i] + polymer[i+1]\n",
    "            if pair in rules.keys():\n",
    "                temp.append(rules[pair])\n",
    "        \n",
    "        new_polymer = polymer[0]\n",
    "        for i in range(len(temp)):\n",
    "            new_polymer += temp[i]\n",
    "            new_polymer += polymer[i + 1]\n",
    "        # print(f'After Step {s+1}: ', new_polymer)\n",
    "        polymer = new_polymer\n",
    "    \n",
    "    counter = Counter(polymer)\n",
    "    ascending = sorted(counter.items(), key=lambda item: item[1])\n",
    "    \n",
    "    return ascending[-1][1] - ascending[0][1]"
   ]
  },
  {
   "cell_type": "code",
   "execution_count": 42,
   "id": "f7771b2f",
   "metadata": {
    "ExecuteTime": {
     "end_time": "2021-12-14T22:53:37.412205Z",
     "start_time": "2021-12-14T22:53:37.407810Z"
    }
   },
   "outputs": [],
   "source": [
    "polymer, ascending = p1_solution(test_input, 10)\n",
    "# 1588"
   ]
  },
  {
   "cell_type": "code",
   "execution_count": 43,
   "id": "c4a75616",
   "metadata": {
    "ExecuteTime": {
     "end_time": "2021-12-14T22:53:40.483244Z",
     "start_time": "2021-12-14T22:53:40.479595Z"
    }
   },
   "outputs": [
    {
     "data": {
      "text/plain": [
       "3073"
      ]
     },
     "execution_count": 43,
     "metadata": {},
     "output_type": "execute_result"
    }
   ],
   "source": [
    "len(polymer)"
   ]
  },
  {
   "cell_type": "code",
   "execution_count": 48,
   "id": "077e5562",
   "metadata": {
    "ExecuteTime": {
     "end_time": "2021-12-14T22:54:25.339204Z",
     "start_time": "2021-12-14T22:54:25.334046Z"
    }
   },
   "outputs": [
    {
     "data": {
      "text/plain": [
       "1588"
      ]
     },
     "execution_count": 48,
     "metadata": {},
     "output_type": "execute_result"
    }
   ],
   "source": [
    "ascending[-1][1] - ascending[0][1]"
   ]
  },
  {
   "cell_type": "code",
   "execution_count": 49,
   "id": "0a3d309a",
   "metadata": {
    "ExecuteTime": {
     "end_time": "2021-12-14T22:54:27.723024Z",
     "start_time": "2021-12-14T22:54:27.718141Z"
    }
   },
   "outputs": [
    {
     "data": {
      "text/plain": [
       "('NBBNBBNBBNBBNBBNBBNBBNBBNBBNBBNBBNBBNBBNBBNBBNBBNBBNBBNBBNBBNBBNBBNBBNBBNBBNBBNBBNBBNBBNBBNBBNBBNBBNBBNBBNBBNBBNBBNBBNBBNBBNBBNBBNBBNBBNBBNBBNBBNBBNBBNBBNBBNBBNBBNBBNBBNBBNBBNBBNBBNBBNBBNBBNBBNBBNBBNBBNBBNBBNBBNBBNBBNBBNBBNBBNBBNBBNBBNBBNBBNBBNBBNBBNBBNBBNBNBBNBBNBBNBBNBBNBBNBBNBBNBBNBBNBBNBBNBBNBBNBBNBBNBBNBBNBBNBBNBBNBBNBBNBBNBBNBBNBBNBBNBBNBBNBBNBBNBBNBBNBBNBBNBBNBBNBBNBBNBBNBBNBBNBBNBBNBBNBBNBBNBBNBBNBBNBBNBBNBBNBBNBBNBBNBBNBBNBBNBBNBBNBBNBBNBBNBBNBBNBBNBBNBBNBBNBBNBBNBBNBBNBBNBBNBBNBBNBBNBBNBBNBBNBBNBBCCNBCNCCNBBNBNBBCNCCNBBBCCNBCNCCNBBNBBNBBNBBNBBNBNBBNBBNBBNBBNBBCNCCNBBBCCNBCNCCNBBNBBNBBBNBBNBBCCNBCNCCNBBNBNBBCNCCNBBBCCNBCNCCNBBNBBNBBNBBNBBNBBNBBNBBNBBNBBNBBNBBNBBNBBNBBNBBNBBNBBNBBNBBNBBNBNBBNBBNBBNBBNBBNBBNBBNBBNBBNBBNBBNBBNBBNBBNBBNBBNBBNBBNBBNBBNBBCNCCNBBBCCNBCNCCNBBNBBNBBBNBBNBBCCNBCNCCNBBNBNBBCNCCNBBBCCNBCNCCNBBNBBNBBNBBNBBNBBNBBNBBNBBNBBNBBBNBBNBBNBBNBBNBBNBBNBBNBBNBBNBBCCNBCNCCNBBNBNBBCNCCNBBBCCNBCNCCNBBNBBNBBNBBNBBNBNBBNBBNBBNBBNBBCNCCNBBBCCNBCNCCNBBNBBNBBBNBBNBBCCNBCNCCNBBNBNBBCNCCNBBBCCNBCNCCNBBNBBNBBNBBNBBNBBNBBNBBNBBNBBNBBNBBNBBNBBNBBNBBNBBNBBNBBNBBNBBNBBNBBNBBNBBNBBNBBNBBNBBNBBNBBNBBNBBNBBNBBNBBNBBNBBNBBNBBNBBNBBNBBNBBNBBNBBNBBNBBNBBNBBNBBNBBNBBNBBNBBNBBNBBNBBNBBNBBNBBNBBNBBNBBNBBNBBNBBNBBNBBNBBNBBNBBNBBNBBNBBNBBNBBNBBNBBNBBNBBNBBNBBNBBNBBNBNBBNBBNBBNBBNBBNBBNBBNBBNBBNBBNBBNBBNBBNBBNBBNBBNBBNBBNBBNBBNBBNBBNBBNBBNBBNBBNBBNBBNBBNBBNBBNBBNBBNBBNBBNBBNBBNBBNBBNBBNBBNBBNBBNBBNBBNBBNBBNBBNBBNBBNBBNBBNBBNBBNBBNBBNBBNBBNBBNBBNBBNBBNBBNBBNBBNBBNBBNBBNBBNBBNBBNBBNBBNBBNBBNBBNBBNBBNBBNBBNBBNBBNBBNBBNBBCBHCBHHNHCBBCBHCBHHNHCNCHBCCNBCBHCBBCBHCBBNBBNBBCBHCBHHNHCBBCBHCBHHNHCNCHBCCNBCBHCBBCNCCNBBBCHBHHBCHBNBBCCNBCNCCNBBNBNBBCBHCBHHNHCBBCBHCBBNBBNBBCBHCBHHNHCBBCBHCBBNBBNBBNBBNBBNBBNBBNBBNBBNBBNBBCBHCBHHNHCBBCBHCBHHNHCNCHBCCNBCBHCBBCBHCBBNBBNBBCBHCBHHNHCBBCBHCBNBBNBBNBBNBBNBBNBBNBBNBBNBBNBBNBBNBBNBBNBBNBBNBBNBBNBBNBBNBBNBBNBBNBBNBBNBBNBBNBBNBBNBBNBBNBBNBBNBBNBBNBBNBBNBBNBBNBBNBBNBBNBBNBBNBBNBBNBBNBBNBBNBBNBBNBBNBBNBBNBBNBBNBBNBBNBBNBBNBBNBBNBBNBBNBB',\n",
       " [('H', 51), ('C', 151), ('N', 603), ('B', 1180)])"
      ]
     },
     "execution_count": 49,
     "metadata": {},
     "output_type": "execute_result"
    }
   ],
   "source": [
    "p1_solution(full_input, 10)"
   ]
  },
  {
   "cell_type": "markdown",
   "id": "eb5c1fc7",
   "metadata": {},
   "source": [
    "First attempt gives `1129`, which is too low!\n",
    "\n",
    "Wow, I did it again--I hardcoded the `test_input` into the solution function."
   ]
  },
  {
   "cell_type": "code",
   "execution_count": 58,
   "id": "9e9467f0",
   "metadata": {
    "ExecuteTime": {
     "end_time": "2021-12-14T22:57:54.380120Z",
     "start_time": "2021-12-14T22:57:54.373998Z"
    }
   },
   "outputs": [
    {
     "name": "stdout",
     "output_type": "stream",
     "text": [
      "['N', 'N', 'C', 'B']\n",
      "{'CH': 'B', 'HH': 'N', 'CB': 'H', 'NH': 'C', 'HB': 'C', 'HC': 'B', 'HN': 'C', 'NN': 'C', 'BH': 'H', 'NC': 'B', 'NB': 'B', 'BN': 'B', 'BB': 'N', 'BC': 'B', 'CC': 'N', 'CN': 'C'}\n"
     ]
    },
    {
     "data": {
      "text/plain": [
       "1588"
      ]
     },
     "execution_count": 58,
     "metadata": {},
     "output_type": "execute_result"
    }
   ],
   "source": [
    "p1_solution(test_input, 10)"
   ]
  },
  {
   "cell_type": "code",
   "execution_count": 61,
   "id": "a14c8a01",
   "metadata": {
    "ExecuteTime": {
     "end_time": "2021-12-14T22:59:29.774948Z",
     "start_time": "2021-12-14T22:59:29.755031Z"
    }
   },
   "outputs": [
    {
     "name": "stdout",
     "output_type": "stream",
     "text": [
      "['N', 'N', 'S', 'O', 'F', 'O', 'C', 'N', 'H', 'B', 'V', 'V', 'N', 'O', 'B', 'S', 'B', 'H', 'C', 'B']\n",
      "{'HN': 'S', 'FK': 'N', 'CH': 'P', 'VP': 'P', 'VV': 'C', 'PB': 'H', 'CP': 'F', 'KO': 'P', 'KN': 'V', 'NO': 'K', 'NF': 'N', 'CO': 'P', 'HO': 'H', 'VH': 'V', 'OV': 'C', 'VS': 'F', 'PK': 'H', 'OS': 'S', 'BF': 'S', 'SN': 'P', 'NK': 'N', 'SV': 'O', 'KB': 'O', 'ON': 'O', 'FN': 'H', 'FO': 'N', 'KV': 'S', 'CS': 'C', 'VO': 'O', 'SP': 'O', 'VK': 'H', 'KP': 'S', 'SK': 'N', 'NC': 'B', 'PN': 'N', 'HV': 'O', 'HS': 'C', 'CN': 'N', 'OO': 'V', 'FF': 'B', 'VC': 'V', 'HK': 'K', 'CC': 'H', 'BO': 'H', 'SC': 'O', 'HH': 'C', 'BV': 'P', 'OB': 'O', 'FC': 'H', 'PO': 'C', 'FV': 'C', 'BK': 'F', 'HB': 'B', 'NH': 'P', 'KF': 'N', 'BP': 'H', 'KK': 'O', 'OH': 'K', 'CB': 'H', 'CK': 'C', 'OK': 'H', 'NN': 'F', 'VF': 'N', 'SO': 'K', 'OP': 'F', 'NP': 'B', 'FS': 'S', 'SH': 'O', 'FP': 'O', 'SF': 'V', 'HF': 'N', 'KC': 'K', 'SB': 'V', 'FH': 'N', 'SS': 'C', 'BB': 'C', 'NV': 'K', 'OC': 'S', 'CV': 'N', 'HC': 'P', 'BC': 'N', 'OF': 'K', 'BH': 'N', 'NS': 'K', 'BN': 'F', 'PC': 'C', 'CF': 'N', 'HP': 'F', 'BS': 'O', 'PF': 'S', 'PV': 'B', 'KH': 'K', 'VN': 'V', 'NB': 'N', 'PH': 'V', 'KS': 'B', 'PP': 'V', 'PS': 'C', 'VB': 'N', 'FB': 'N'}\n"
     ]
    },
    {
     "data": {
      "text/plain": [
       "3906"
      ]
     },
     "execution_count": 61,
     "metadata": {},
     "output_type": "execute_result"
    }
   ],
   "source": [
    "p1_solution(full_input, 10)"
   ]
  },
  {
   "cell_type": "markdown",
   "id": "a3df16a6",
   "metadata": {},
   "source": [
    "## Part 2:\n",
    "\n",
    "The resulting polymer isn't nearly strong enough to reinforce the submarine. You'll need to run more steps of the pair insertion process; a total of 40 steps should do it.\n",
    "\n",
    "In the above example, the most common element is B (occurring `2192039569602` times) and the least common element is H (occurring `3849876073` times); subtracting these produces `2188189693529`.\n",
    "\n",
    "Apply 40 steps of pair insertion to the polymer template and find the most and least common elements in the result. **What do you get if you take the quantity of the most common element and subtract the quantity of the least common element?**"
   ]
  },
  {
   "cell_type": "code",
   "execution_count": null,
   "id": "a92363a6",
   "metadata": {
    "ExecuteTime": {
     "start_time": "2021-12-14T23:06:01.946Z"
    }
   },
   "outputs": [
    {
     "name": "stdout",
     "output_type": "stream",
     "text": [
      "['N', 'N', 'C', 'B']\n",
      "{'CH': 'B', 'HH': 'N', 'CB': 'H', 'NH': 'C', 'HB': 'C', 'HC': 'B', 'HN': 'C', 'NN': 'C', 'BH': 'H', 'NC': 'B', 'NB': 'B', 'BN': 'B', 'BB': 'N', 'BC': 'B', 'CC': 'N', 'CN': 'C'}\n"
     ]
    }
   ],
   "source": [
    "p1_solution(test_input, 40)"
   ]
  },
  {
   "cell_type": "code",
   "execution_count": null,
   "id": "6935d97c",
   "metadata": {},
   "outputs": [],
   "source": []
  }
 ],
 "metadata": {
  "kernelspec": {
   "display_name": "Python 3",
   "language": "python",
   "name": "python3"
  },
  "language_info": {
   "codemirror_mode": {
    "name": "ipython",
    "version": 3
   },
   "file_extension": ".py",
   "mimetype": "text/x-python",
   "name": "python",
   "nbconvert_exporter": "python",
   "pygments_lexer": "ipython3",
   "version": "3.8.8"
  }
 },
 "nbformat": 4,
 "nbformat_minor": 5
}
