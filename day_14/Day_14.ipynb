{
 "cells": [
  {
   "cell_type": "markdown",
   "id": "6f96dec5",
   "metadata": {},
   "source": [
    "# Day 14: Extended Polymerization\n",
    "\n",
    "## Part 1:\n",
    "\n",
    "The incredible pressures at this depth are starting to put a strain on your submarine. The submarine has polymerization equipment that would produce suitable materials to reinforce the submarine, and the nearby volcanically-active caves should even have the necessary input elements in sufficient quantities.\n",
    "\n",
    "The submarine manual contains instructions for finding the optimal polymer formula; specifically, it offers a polymer template and a list of pair insertion rules (your puzzle input). You just need to work out what polymer would result after repeating the pair insertion process a few times.\n",
    "\n",
    "For example:\n",
    "```\n",
    "NNCB\n",
    "\n",
    "CH -> B\n",
    "HH -> N\n",
    "CB -> H\n",
    "NH -> C\n",
    "HB -> C\n",
    "HC -> B\n",
    "HN -> C\n",
    "NN -> C\n",
    "BH -> H\n",
    "NC -> B\n",
    "NB -> B\n",
    "BN -> B\n",
    "BB -> N\n",
    "BC -> B\n",
    "CC -> N\n",
    "CN -> C\n",
    "```\n",
    "\n",
    "The first line is the polymer template - this is the starting point of the process.\n",
    "\n",
    "The following section defines the pair insertion rules. A rule like AB -> C means that when elements A and B are immediately adjacent, element C should be inserted between them. These insertions all happen simultaneously.\n",
    "\n",
    "So, starting with the polymer template NNCB, the first step simultaneously considers all three pairs:\n",
    "\n",
    " - The first pair (NN) matches the rule NN -> C, so element C is inserted between the first N and the second N.\n",
    " - The second pair (NC) matches the rule NC -> B, so element B is inserted between the N and the C.\n",
    " - The third pair (CB) matches the rule CB -> H, so element H is inserted between the C and the B.\n",
    "\n",
    "Note that these pairs overlap: the second element of one pair is the first element of the next pair. Also, because all pairs are considered simultaneously, inserted elements are not considered to be part of a pair until the next step.\n",
    "\n",
    "After the first step of this process, the polymer becomes NCNBCHB.\n",
    "\n",
    "Here are the results of a few steps using the above rules:\n",
    "```\n",
    "Template:     NNCB\n",
    "After step 1: NCNBCHB\n",
    "After step 2: NBCCNBBBCBHCB\n",
    "After step 3: NBBBCNCCNBBNBNBBCHBHHBCHB\n",
    "After step 4: NBBNBNBBCCNBCNCCNBBNBBNBBBNBBNBBCBHCBHHNHCBBCBHCB\n",
    "```\n",
    "\n",
    "This polymer grows quickly. After step 5, it has length 97; After step 10, it has length 3073. After step 10, B occurs 1749 times, C occurs 298 times, H occurs 161 times, and N occurs 865 times; taking the quantity of the most common element (B, 1749) and subtracting the quantity of the least common element (H, 161) produces 1749 - 161 = 1588.\n",
    "\n",
    "Apply 10 steps of pair insertion to the polymer template and find the most and least common elements in the result. **What do you get if you take the quantity of the most common element and subtract the quantity of the least common element?**"
   ]
  },
  {
   "cell_type": "markdown",
   "id": "6b70f1eb",
   "metadata": {},
   "source": [
    "*This sure seems like that quadratic growth fish problem all over again...*"
   ]
  },
  {
   "cell_type": "code",
   "execution_count": 2,
   "id": "bea74584",
   "metadata": {
    "ExecuteTime": {
     "end_time": "2021-12-14T22:33:39.592232Z",
     "start_time": "2021-12-14T22:33:39.587326Z"
    }
   },
   "outputs": [
    {
     "data": {
      "text/plain": [
       "['NNCB',\n",
       " '',\n",
       " 'CH -> B',\n",
       " 'HH -> N',\n",
       " 'CB -> H',\n",
       " 'NH -> C',\n",
       " 'HB -> C',\n",
       " 'HC -> B',\n",
       " 'HN -> C',\n",
       " 'NN -> C',\n",
       " 'BH -> H',\n",
       " 'NC -> B',\n",
       " 'NB -> B',\n",
       " 'BN -> B',\n",
       " 'BB -> N',\n",
       " 'BC -> B',\n",
       " 'CC -> N',\n",
       " 'CN -> C']"
      ]
     },
     "execution_count": 2,
     "metadata": {},
     "output_type": "execute_result"
    }
   ],
   "source": [
    "# Get test input\n",
    "with open('./test_input_14.txt') as f:\n",
    "    lines = f.readlines()\n",
    "test_input = [line.strip() for line in lines]\n",
    "test_input"
   ]
  },
  {
   "cell_type": "code",
   "execution_count": 3,
   "id": "ccbea330",
   "metadata": {
    "ExecuteTime": {
     "end_time": "2021-12-14T22:33:41.400878Z",
     "start_time": "2021-12-14T22:33:41.394780Z"
    },
    "scrolled": true
   },
   "outputs": [
    {
     "data": {
      "text/plain": [
       "['NNSOFOCNHBVVNOBSBHCB',\n",
       " '',\n",
       " 'HN -> S',\n",
       " 'FK -> N',\n",
       " 'CH -> P',\n",
       " 'VP -> P',\n",
       " 'VV -> C',\n",
       " 'PB -> H',\n",
       " 'CP -> F',\n",
       " 'KO -> P',\n",
       " 'KN -> V',\n",
       " 'NO -> K',\n",
       " 'NF -> N',\n",
       " 'CO -> P',\n",
       " 'HO -> H',\n",
       " 'VH -> V',\n",
       " 'OV -> C',\n",
       " 'VS -> F',\n",
       " 'PK -> H',\n",
       " 'OS -> S',\n",
       " 'BF -> S',\n",
       " 'SN -> P',\n",
       " 'NK -> N',\n",
       " 'SV -> O',\n",
       " 'KB -> O',\n",
       " 'ON -> O',\n",
       " 'FN -> H',\n",
       " 'FO -> N',\n",
       " 'KV -> S',\n",
       " 'CS -> C',\n",
       " 'VO -> O',\n",
       " 'SP -> O',\n",
       " 'VK -> H',\n",
       " 'KP -> S',\n",
       " 'SK -> N',\n",
       " 'NC -> B',\n",
       " 'PN -> N',\n",
       " 'HV -> O',\n",
       " 'HS -> C',\n",
       " 'CN -> N',\n",
       " 'OO -> V',\n",
       " 'FF -> B',\n",
       " 'VC -> V',\n",
       " 'HK -> K',\n",
       " 'CC -> H',\n",
       " 'BO -> H',\n",
       " 'SC -> O',\n",
       " 'HH -> C',\n",
       " 'BV -> P',\n",
       " 'OB -> O',\n",
       " 'FC -> H',\n",
       " 'PO -> C',\n",
       " 'FV -> C',\n",
       " 'BK -> F',\n",
       " 'HB -> B',\n",
       " 'NH -> P',\n",
       " 'KF -> N',\n",
       " 'BP -> H',\n",
       " 'KK -> O',\n",
       " 'OH -> K',\n",
       " 'CB -> H',\n",
       " 'CK -> C',\n",
       " 'OK -> H',\n",
       " 'NN -> F',\n",
       " 'VF -> N',\n",
       " 'SO -> K',\n",
       " 'OP -> F',\n",
       " 'NP -> B',\n",
       " 'FS -> S',\n",
       " 'SH -> O',\n",
       " 'FP -> O',\n",
       " 'SF -> V',\n",
       " 'HF -> N',\n",
       " 'KC -> K',\n",
       " 'SB -> V',\n",
       " 'FH -> N',\n",
       " 'SS -> C',\n",
       " 'BB -> C',\n",
       " 'NV -> K',\n",
       " 'OC -> S',\n",
       " 'CV -> N',\n",
       " 'HC -> P',\n",
       " 'BC -> N',\n",
       " 'OF -> K',\n",
       " 'BH -> N',\n",
       " 'NS -> K',\n",
       " 'BN -> F',\n",
       " 'PC -> C',\n",
       " 'CF -> N',\n",
       " 'HP -> F',\n",
       " 'BS -> O',\n",
       " 'PF -> S',\n",
       " 'PV -> B',\n",
       " 'KH -> K',\n",
       " 'VN -> V',\n",
       " 'NB -> N',\n",
       " 'PH -> V',\n",
       " 'KS -> B',\n",
       " 'PP -> V',\n",
       " 'PS -> C',\n",
       " 'VB -> N',\n",
       " 'FB -> N']"
      ]
     },
     "execution_count": 3,
     "metadata": {},
     "output_type": "execute_result"
    }
   ],
   "source": [
    "# Get full input\n",
    "with open('./input_14.txt') as f:\n",
    "    lines = f.readlines()\n",
    "full_input = [line.strip() for line in lines]\n",
    "full_input"
   ]
  },
  {
   "cell_type": "code",
   "execution_count": 13,
   "id": "000b6f77",
   "metadata": {
    "ExecuteTime": {
     "end_time": "2021-12-14T22:41:52.461598Z",
     "start_time": "2021-12-14T22:41:52.457761Z"
    }
   },
   "outputs": [
    {
     "data": {
      "text/plain": [
       "['N', 'N', 'C', 'B']"
      ]
     },
     "execution_count": 13,
     "metadata": {},
     "output_type": "execute_result"
    }
   ],
   "source": [
    "polymer = [char for char in test_input[0]]\n",
    "polymer"
   ]
  },
  {
   "cell_type": "code",
   "execution_count": 14,
   "id": "6a2ca4be",
   "metadata": {
    "ExecuteTime": {
     "end_time": "2021-12-14T22:42:00.182081Z",
     "start_time": "2021-12-14T22:42:00.177226Z"
    }
   },
   "outputs": [
    {
     "data": {
      "text/plain": [
       "'NN'"
      ]
     },
     "execution_count": 14,
     "metadata": {},
     "output_type": "execute_result"
    }
   ],
   "source": [
    "polymer[0] + polymer[1]"
   ]
  },
  {
   "cell_type": "code",
   "execution_count": 24,
   "id": "c1e3ef07",
   "metadata": {
    "ExecuteTime": {
     "end_time": "2021-12-14T22:48:41.956577Z",
     "start_time": "2021-12-14T22:48:41.954235Z"
    }
   },
   "outputs": [],
   "source": [
    "from collections import Counter"
   ]
  },
  {
   "cell_type": "code",
   "execution_count": 63,
   "id": "7741b7ac",
   "metadata": {
    "ExecuteTime": {
     "end_time": "2021-12-14T23:27:58.660264Z",
     "start_time": "2021-12-14T23:27:58.039274Z"
    }
   },
   "outputs": [],
   "source": [
    "def p1_solution(input_text, steps):\n",
    "    polymer = [char for char in input_text[0]]\n",
    "    rules = {line.split(' -> ')[0]:line.split(' -> ')[1] for line in input_text[2:]}\n",
    "    print(polymer)\n",
    "    print(rules)\n",
    "    \n",
    "    for s in range(steps):\n",
    "        temp = []\n",
    "        for i in range(len(polymer)-1):\n",
    "            pair = polymer[i] + polymer[i+1]\n",
    "            if pair in rules.keys():\n",
    "                temp.append(rules[pair])\n",
    "        \n",
    "        new_polymer = polymer[0]\n",
    "        for i in range(len(temp)):\n",
    "            new_polymer += temp[i]\n",
    "            new_polymer += polymer[i + 1]\n",
    "        print(f'After Step {s+1}: ', new_polymer)\n",
    "        polymer = new_polymer\n",
    "    \n",
    "    counter = Counter(polymer)\n",
    "    ascending = sorted(counter.items(), key=lambda item: item[1])\n",
    "    \n",
    "    return ascending[-1][1] - ascending[0][1]"
   ]
  },
  {
   "cell_type": "code",
   "execution_count": 42,
   "id": "d2ee5708",
   "metadata": {
    "ExecuteTime": {
     "end_time": "2021-12-14T22:53:37.412205Z",
     "start_time": "2021-12-14T22:53:37.407810Z"
    }
   },
   "outputs": [],
   "source": [
    "polymer, ascending = p1_solution(test_input, 10)\n",
    "# 1588"
   ]
  },
  {
   "cell_type": "code",
   "execution_count": 43,
   "id": "a7e0ec0c",
   "metadata": {
    "ExecuteTime": {
     "end_time": "2021-12-14T22:53:40.483244Z",
     "start_time": "2021-12-14T22:53:40.479595Z"
    }
   },
   "outputs": [
    {
     "data": {
      "text/plain": [
       "3073"
      ]
     },
     "execution_count": 43,
     "metadata": {},
     "output_type": "execute_result"
    }
   ],
   "source": [
    "len(polymer)"
   ]
  },
  {
   "cell_type": "code",
   "execution_count": 48,
   "id": "c89fc60a",
   "metadata": {
    "ExecuteTime": {
     "end_time": "2021-12-14T22:54:25.339204Z",
     "start_time": "2021-12-14T22:54:25.334046Z"
    }
   },
   "outputs": [
    {
     "data": {
      "text/plain": [
       "1588"
      ]
     },
     "execution_count": 48,
     "metadata": {},
     "output_type": "execute_result"
    }
   ],
   "source": [
    "ascending[-1][1] - ascending[0][1]"
   ]
  },
  {
   "cell_type": "code",
   "execution_count": 49,
   "id": "3b01b6d0",
   "metadata": {
    "ExecuteTime": {
     "end_time": "2021-12-14T22:54:27.723024Z",
     "start_time": "2021-12-14T22:54:27.718141Z"
    }
   },
   "outputs": [
    {
     "data": {
      "text/plain": [
       "('NBBNBBNBBNBBNBBNBBNBBNBBNBBNBBNBBNBBNBBNBBNBBNBBNBBNBBNBBNBBNBBNBBNBBNBBNBBNBBNBBNBBNBBNBBNBBNBBNBBNBBNBBNBBNBBNBBNBBNBBNBBNBBNBBNBBNBBNBBNBBNBBNBBNBBNBBNBBNBBNBBNBBNBBNBBNBBNBBNBBNBBNBBNBBNBBNBBNBBNBBNBBNBBNBBNBBNBBNBBNBBNBBNBBNBBNBBNBBNBBNBBNBBNBBNBBNBBNBNBBNBBNBBNBBNBBNBBNBBNBBNBBNBBNBBNBBNBBNBBNBBNBBNBBNBBNBBNBBNBBNBBNBBNBBNBBNBBNBBNBBNBBNBBNBBNBBNBBNBBNBBNBBNBBNBBNBBNBBNBBNBBNBBNBBNBBNBBNBBNBBNBBNBBNBBNBBNBBNBBNBBNBBNBBNBBNBBNBBNBBNBBNBBNBBNBBNBBNBBNBBNBBNBBNBBNBBNBBNBBNBBNBBNBBNBBNBBNBBNBBNBBNBBNBBNBBCCNBCNCCNBBNBNBBCNCCNBBBCCNBCNCCNBBNBBNBBNBBNBBNBNBBNBBNBBNBBNBBCNCCNBBBCCNBCNCCNBBNBBNBBBNBBNBBCCNBCNCCNBBNBNBBCNCCNBBBCCNBCNCCNBBNBBNBBNBBNBBNBBNBBNBBNBBNBBNBBNBBNBBNBBNBBNBBNBBNBBNBBNBBNBBNBNBBNBBNBBNBBNBBNBBNBBNBBNBBNBBNBBNBBNBBNBBNBBNBBNBBNBBNBBNBBNBBCNCCNBBBCCNBCNCCNBBNBBNBBBNBBNBBCCNBCNCCNBBNBNBBCNCCNBBBCCNBCNCCNBBNBBNBBNBBNBBNBBNBBNBBNBBNBBNBBBNBBNBBNBBNBBNBBNBBNBBNBBNBBNBBCCNBCNCCNBBNBNBBCNCCNBBBCCNBCNCCNBBNBBNBBNBBNBBNBNBBNBBNBBNBBNBBCNCCNBBBCCNBCNCCNBBNBBNBBBNBBNBBCCNBCNCCNBBNBNBBCNCCNBBBCCNBCNCCNBBNBBNBBNBBNBBNBBNBBNBBNBBNBBNBBNBBNBBNBBNBBNBBNBBNBBNBBNBBNBBNBBNBBNBBNBBNBBNBBNBBNBBNBBNBBNBBNBBNBBNBBNBBNBBNBBNBBNBBNBBNBBNBBNBBNBBNBBNBBNBBNBBNBBNBBNBBNBBNBBNBBNBBNBBNBBNBBNBBNBBNBBNBBNBBNBBNBBNBBNBBNBBNBBNBBNBBNBBNBBNBBNBBNBBNBBNBBNBBNBBNBBNBBNBBNBBNBNBBNBBNBBNBBNBBNBBNBBNBBNBBNBBNBBNBBNBBNBBNBBNBBNBBNBBNBBNBBNBBNBBNBBNBBNBBNBBNBBNBBNBBNBBNBBNBBNBBNBBNBBNBBNBBNBBNBBNBBNBBNBBNBBNBBNBBNBBNBBNBBNBBNBBNBBNBBNBBNBBNBBNBBNBBNBBNBBNBBNBBNBBNBBNBBNBBNBBNBBNBBNBBNBBNBBNBBNBBNBBNBBNBBNBBNBBNBBNBBNBBNBBNBBNBBNBBCBHCBHHNHCBBCBHCBHHNHCNCHBCCNBCBHCBBCBHCBBNBBNBBCBHCBHHNHCBBCBHCBHHNHCNCHBCCNBCBHCBBCNCCNBBBCHBHHBCHBNBBCCNBCNCCNBBNBNBBCBHCBHHNHCBBCBHCBBNBBNBBCBHCBHHNHCBBCBHCBBNBBNBBNBBNBBNBBNBBNBBNBBNBBNBBCBHCBHHNHCBBCBHCBHHNHCNCHBCCNBCBHCBBCBHCBBNBBNBBCBHCBHHNHCBBCBHCBNBBNBBNBBNBBNBBNBBNBBNBBNBBNBBNBBNBBNBBNBBNBBNBBNBBNBBNBBNBBNBBNBBNBBNBBNBBNBBNBBNBBNBBNBBNBBNBBNBBNBBNBBNBBNBBNBBNBBNBBNBBNBBNBBNBBNBBNBBNBBNBBNBBNBBNBBNBBNBBNBBNBBNBBNBBNBBNBBNBBNBBNBBNBBNBB',\n",
       " [('H', 51), ('C', 151), ('N', 603), ('B', 1180)])"
      ]
     },
     "execution_count": 49,
     "metadata": {},
     "output_type": "execute_result"
    }
   ],
   "source": [
    "p1_solution(full_input, 10)"
   ]
  },
  {
   "cell_type": "markdown",
   "id": "cfb78a9c",
   "metadata": {},
   "source": [
    "First attempt gives `1129`, which is too low!\n",
    "\n",
    "Wow, I did it again--I hardcoded the `test_input` into the solution function."
   ]
  },
  {
   "cell_type": "code",
   "execution_count": 58,
   "id": "083ed53d",
   "metadata": {
    "ExecuteTime": {
     "end_time": "2021-12-14T22:57:54.380120Z",
     "start_time": "2021-12-14T22:57:54.373998Z"
    }
   },
   "outputs": [
    {
     "name": "stdout",
     "output_type": "stream",
     "text": [
      "['N', 'N', 'C', 'B']\n",
      "{'CH': 'B', 'HH': 'N', 'CB': 'H', 'NH': 'C', 'HB': 'C', 'HC': 'B', 'HN': 'C', 'NN': 'C', 'BH': 'H', 'NC': 'B', 'NB': 'B', 'BN': 'B', 'BB': 'N', 'BC': 'B', 'CC': 'N', 'CN': 'C'}\n"
     ]
    },
    {
     "data": {
      "text/plain": [
       "1588"
      ]
     },
     "execution_count": 58,
     "metadata": {},
     "output_type": "execute_result"
    }
   ],
   "source": [
    "p1_solution(test_input, 10)"
   ]
  },
  {
   "cell_type": "code",
   "execution_count": 61,
   "id": "3754fcde",
   "metadata": {
    "ExecuteTime": {
     "end_time": "2021-12-14T22:59:29.774948Z",
     "start_time": "2021-12-14T22:59:29.755031Z"
    }
   },
   "outputs": [
    {
     "name": "stdout",
     "output_type": "stream",
     "text": [
      "['N', 'N', 'S', 'O', 'F', 'O', 'C', 'N', 'H', 'B', 'V', 'V', 'N', 'O', 'B', 'S', 'B', 'H', 'C', 'B']\n",
      "{'HN': 'S', 'FK': 'N', 'CH': 'P', 'VP': 'P', 'VV': 'C', 'PB': 'H', 'CP': 'F', 'KO': 'P', 'KN': 'V', 'NO': 'K', 'NF': 'N', 'CO': 'P', 'HO': 'H', 'VH': 'V', 'OV': 'C', 'VS': 'F', 'PK': 'H', 'OS': 'S', 'BF': 'S', 'SN': 'P', 'NK': 'N', 'SV': 'O', 'KB': 'O', 'ON': 'O', 'FN': 'H', 'FO': 'N', 'KV': 'S', 'CS': 'C', 'VO': 'O', 'SP': 'O', 'VK': 'H', 'KP': 'S', 'SK': 'N', 'NC': 'B', 'PN': 'N', 'HV': 'O', 'HS': 'C', 'CN': 'N', 'OO': 'V', 'FF': 'B', 'VC': 'V', 'HK': 'K', 'CC': 'H', 'BO': 'H', 'SC': 'O', 'HH': 'C', 'BV': 'P', 'OB': 'O', 'FC': 'H', 'PO': 'C', 'FV': 'C', 'BK': 'F', 'HB': 'B', 'NH': 'P', 'KF': 'N', 'BP': 'H', 'KK': 'O', 'OH': 'K', 'CB': 'H', 'CK': 'C', 'OK': 'H', 'NN': 'F', 'VF': 'N', 'SO': 'K', 'OP': 'F', 'NP': 'B', 'FS': 'S', 'SH': 'O', 'FP': 'O', 'SF': 'V', 'HF': 'N', 'KC': 'K', 'SB': 'V', 'FH': 'N', 'SS': 'C', 'BB': 'C', 'NV': 'K', 'OC': 'S', 'CV': 'N', 'HC': 'P', 'BC': 'N', 'OF': 'K', 'BH': 'N', 'NS': 'K', 'BN': 'F', 'PC': 'C', 'CF': 'N', 'HP': 'F', 'BS': 'O', 'PF': 'S', 'PV': 'B', 'KH': 'K', 'VN': 'V', 'NB': 'N', 'PH': 'V', 'KS': 'B', 'PP': 'V', 'PS': 'C', 'VB': 'N', 'FB': 'N'}\n"
     ]
    },
    {
     "data": {
      "text/plain": [
       "3906"
      ]
     },
     "execution_count": 61,
     "metadata": {},
     "output_type": "execute_result"
    }
   ],
   "source": [
    "p1_solution(full_input, 10)"
   ]
  },
  {
   "cell_type": "markdown",
   "id": "a3df16a6",
   "metadata": {},
   "source": [
    "## Part 2:\n",
    "\n",
    "The resulting polymer isn't nearly strong enough to reinforce the submarine. You'll need to run more steps of the pair insertion process; a total of 40 steps should do it.\n",
    "\n",
    "In the above example, the most common element is B (occurring `2192039569602` times) and the least common element is H (occurring `3849876073` times); subtracting these produces `2188189693529`.\n",
    "\n",
    "Apply 40 steps of pair insertion to the polymer template and find the most and least common elements in the result. **What do you get if you take the quantity of the most common element and subtract the quantity of the least common element?**"
   ]
  },
  {
   "cell_type": "markdown",
   "id": "b3a35049",
   "metadata": {},
   "source": [
    "*Yup, just as suspected. I have to refactor to make this not take **forever**.*"
   ]
  },
  {
   "cell_type": "markdown",
   "id": "62388b03",
   "metadata": {},
   "source": [
    "Let's do some investigating. I suspect there is a lot of repetition in how the polymers grow."
   ]
  },
  {
   "cell_type": "code",
   "execution_count": 64,
   "id": "3a8e5097",
   "metadata": {
    "ExecuteTime": {
     "end_time": "2021-12-14T23:28:23.290016Z",
     "start_time": "2021-12-14T23:28:23.282506Z"
    },
    "scrolled": true
   },
   "outputs": [
    {
     "name": "stdout",
     "output_type": "stream",
     "text": [
      "['N', 'N', 'C', 'B']\n",
      "{'CH': 'B', 'HH': 'N', 'CB': 'H', 'NH': 'C', 'HB': 'C', 'HC': 'B', 'HN': 'C', 'NN': 'C', 'BH': 'H', 'NC': 'B', 'NB': 'B', 'BN': 'B', 'BB': 'N', 'BC': 'B', 'CC': 'N', 'CN': 'C'}\n",
      "After Step 1:  NCNBCHB\n",
      "After Step 2:  NBCCNBBBCBHCB\n",
      "After Step 3:  NBBBCNCCNBBNBNBBCHBHHBCHB\n",
      "After Step 4:  NBBNBNBBCCNBCNCCNBBNBBNBBBNBBNBBCBHCBHHNHCBBCBHCB\n",
      "After Step 5:  NBBNBBNBBBNBBNBBCNCCNBBBCCNBCNCCNBBNBBNBBNBBNBBNBNBBNBBNBBNBBNBBCHBHHBCHBHHNHCNCHBCHBNBBCHBHHBCHB\n",
      "After Step 6:  NBBNBBNBBNBBNBBNBNBBNBBNBBNBBNBBCCNBCNCCNBBNBNBBCNCCNBBBCCNBCNCCNBBNBBNBBNBBNBBNBBNBBNBBNBBNBBNBBBNBBNBBNBBNBBNBBNBBNBBNBBNBBNBBCBHCBHHNHCBBCBHCBHHNHCNCHBCCNBCBHCBBCBHCBBNBBNBBCBHCBHHNHCBBCBHCB\n",
      "After Step 7:  NBBNBBNBBNBBNBBNBBNBBNBBNBBNBBNBBBNBBNBBNBBNBBNBBNBBNBBNBBNBBNBBCNCCNBBBCCNBCNCCNBBNBBNBBBNBBNBBCCNBCNCCNBBNBNBBCNCCNBBBCCNBCNCCNBBNBBNBBNBBNBBNBBNBBNBBNBBNBBNBBNBBNBBNBBNBBNBBNBBNBBNBBNBBNBBNBNBBNBBNBBNBBNBBNBBNBBNBBNBBNBBNBBNBBNBBNBBNBBNBBNBBNBBNBBNBBNBBCHBHHBCHBHHNHCNCHBCHBNBBCHBHHBCHBHHNHCNCHBCCNBCBHCBBCNCCNBBBCHBHHBCHBNBBCHBHHBCHBNBBNBBNBBNBBNBBCHBHHBCHBHHNHCNCHBCHBNBBCHBHHBCHB\n",
      "After Step 8:  NBBNBBNBBNBBNBBNBBNBBNBBNBBNBBNBBNBBNBBNBBNBBNBBNBBNBBNBBNBBNBBNBNBBNBBNBBNBBNBBNBBNBBNBBNBBNBBNBBNBBNBBNBBNBBNBBNBBNBBNBBNBBNBBCCNBCNCCNBBNBNBBCNCCNBBBCCNBCNCCNBBNBBNBBNBBNBBNBNBBNBBNBBNBBNBBCNCCNBBBCCNBCNCCNBBNBBNBBBNBBNBBCCNBCNCCNBBNBNBBCNCCNBBBCCNBCNCCNBBNBBNBBNBBNBBNBBNBBNBBNBBNBBNBBNBBNBBNBBNBBNBBNBBNBBNBBNBBNBBNBBNBBNBBNBBNBBNBBNBBNBBNBBNBBNBBNBBNBBNBBNBBNBBNBBNBBNBBNBBNBBNBBBNBBNBBNBBNBBNBBNBBNBBNBBNBBNBBNBBNBBNBBNBBNBBNBBNBBNBBNBBNBBNBBNBBNBBNBBNBBNBBNBBNBBNBBNBBNBBNBBNBBNBBNBBNBBNBBNBBNBBNBBNBBNBBCBHCBHHNHCBBCBHCBHHNHCNCHBCCNBCBHCBBCBHCBBNBBNBBCBHCBHHNHCBBCBHCBHHNHCNCHBCCNBCBHCBBCNCCNBBBCHBHHBCHBNBBCCNBCNCCNBBNBNBBCBHCBHHNHCBBCBHCBBNBBNBBCBHCBHHNHCBBCBHCBBNBBNBBNBBNBBNBBNBBNBBNBBNBBNBBCBHCBHHNHCBBCBHCBHHNHCNCHBCCNBCBHCBBCBHCBBNBBNBBCBHCBHHNHCBBCBHCB\n",
      "After Step 9:  NBBNBBNBBNBBNBBNBBNBBNBBNBBNBBNBBNBBNBBNBBNBBNBBNBBNBBNBBNBBNBBNBBNBBNBBNBBNBBNBBNBBNBBNBBNBBNBBNBBNBBNBBNBBNBBNBBNBBNBBNBBNBBNBBBNBBNBBNBBNBBNBBNBBNBBNBBNBBNBBNBBNBBNBBNBBNBBNBBNBBNBBNBBNBBNBBNBBNBBNBBNBBNBBNBBNBBNBBNBBNBBNBBNBBNBBNBBNBBNBBNBBNBBNBBNBBNBBCNCCNBBBCCNBCNCCNBBNBBNBBBNBBNBBCCNBCNCCNBBNBNBBCNCCNBBBCCNBCNCCNBBNBBNBBNBBNBBNBBNBBNBBNBBNBBNBBBNBBNBBNBBNBBNBBNBBNBBNBBNBBNBBCCNBCNCCNBBNBNBBCNCCNBBBCCNBCNCCNBBNBBNBBNBBNBBNBNBBNBBNBBNBBNBBCNCCNBBBCCNBCNCCNBBNBBNBBBNBBNBBCCNBCNCCNBBNBNBBCNCCNBBBCCNBCNCCNBBNBBNBBNBBNBBNBBNBBNBBNBBNBBNBBNBBNBBNBBNBBNBBNBBNBBNBBNBBNBBNBBNBBNBBNBBNBBNBBNBBNBBNBBNBBNBBNBBNBBNBBNBBNBBNBBNBBNBBNBBNBBNBBNBBNBBNBBNBBNBBNBBNBBNBBNBBNBBNBBNBBNBBNBBNBBNBBNBBNBBNBBNBBNBBNBBNBBNBBNBBNBBNBBNBBNBBNBBNBBNBBNBBNBBNBBNBBNBBNBBNBBNBBNBBNBBNBNBBNBBNBBNBBNBBNBBNBBNBBNBBNBBNBBNBBNBBNBBNBBNBBNBBNBBNBBNBBNBBNBBNBBNBBNBBNBBNBBNBBNBBNBBNBBNBBNBBNBBNBBNBBNBBNBBNBBNBBNBBNBBNBBNBBNBBNBBNBBNBBNBBNBBNBBNBBNBBNBBNBBNBBNBBNBBNBBNBBNBBNBBNBBNBBNBBNBBNBBNBBNBBNBBNBBNBBNBBNBBNBBNBBNBBNBBNBBNBBNBBNBBNBBNBBNBBCHBHHBCHBHHNHCNCHBCHBNBBCHBHHBCHBHHNHCNCHBCCNBCBHCBBCNCCNBBBCHBHHBCHBNBBCHBHHBCHBNBBNBBNBBNBBNBBCHBHHBCHBHHNHCNCHBCHBNBBCHBHHBCHBHHNHCNCHBCCNBCBHCBBCNCCNBBBCHBHHBCHBNBBCCNBCNCCNBBNBNBBCBHCBHHNHCBBCBHCBBNBBNBBCNCCNBBBCCNBCNCCNBBNBBNBBBNBBNBBCHBHHBCHBHHNHCNCHBCHBNBBCHBHHBCHBNBBNBBNBBNBBNBBCHBHHBCHBHHNHCNCHBCHBNBBCHBHHBCHBNBBNBBNBBNBBNBBNBBNBBNBBNBBNBBNBBNBBNBBNBBNBBNBBNBBNBBNBBNBBNBBCHBHHBCHBHHNHCNCHBCHBNBBCHBHHBCHBHHNHCNCHBCCNBCBHCBBCNCCNBBBCHBHHBCHBNBBCHBHHBCHBNBBNBBNBBNBBNBBCHBHHBCHBHHNHCNCHBCHBNBBCHBHHBCHB\n",
      "After Step 10:  NBBNBBNBBNBBNBBNBBNBBNBBNBBNBBNBBNBBNBBNBBNBBNBBNBBNBBNBBNBBNBBNBBNBBNBBNBBNBBNBBNBBNBBNBBNBBNBBNBBNBBNBBNBBNBBNBBNBBNBBNBBNBBNBBNBBNBBNBBNBBNBBNBBNBBNBBNBBNBBNBBNBBNBBNBBNBBNBBNBBNBBNBBNBBNBBNBBNBBNBBNBBNBBNBBNBBNBBNBBNBBNBBNBBNBBNBBNBBNBBNBBNBBNBBNBBNBBNBNBBNBBNBBNBBNBBNBBNBBNBBNBBNBBNBBNBBNBBNBBNBBNBBNBBNBBNBBNBBNBBNBBNBBNBBNBBNBBNBBNBBNBBNBBNBBNBBNBBNBBNBBNBBNBBNBBNBBNBBNBBNBBNBBNBBNBBNBBNBBNBBNBBNBBNBBNBBNBBNBBNBBNBBNBBNBBNBBNBBNBBNBBNBBNBBNBBNBBNBBNBBNBBNBBNBBNBBNBBNBBNBBNBBNBBNBBNBBNBBNBBNBBNBBNBBNBBCCNBCNCCNBBNBNBBCNCCNBBBCCNBCNCCNBBNBBNBBNBBNBBNBNBBNBBNBBNBBNBBCNCCNBBBCCNBCNCCNBBNBBNBBBNBBNBBCCNBCNCCNBBNBNBBCNCCNBBBCCNBCNCCNBBNBBNBBNBBNBBNBBNBBNBBNBBNBBNBBNBBNBBNBBNBBNBBNBBNBBNBBNBBNBBNBNBBNBBNBBNBBNBBNBBNBBNBBNBBNBBNBBNBBNBBNBBNBBNBBNBBNBBNBBNBBNBBCNCCNBBBCCNBCNCCNBBNBBNBBBNBBNBBCCNBCNCCNBBNBNBBCNCCNBBBCCNBCNCCNBBNBBNBBNBBNBBNBBNBBNBBNBBNBBNBBBNBBNBBNBBNBBNBBNBBNBBNBBNBBNBBCCNBCNCCNBBNBNBBCNCCNBBBCCNBCNCCNBBNBBNBBNBBNBBNBNBBNBBNBBNBBNBBCNCCNBBBCCNBCNCCNBBNBBNBBBNBBNBBCCNBCNCCNBBNBNBBCNCCNBBBCCNBCNCCNBBNBBNBBNBBNBBNBBNBBNBBNBBNBBNBBNBBNBBNBBNBBNBBNBBNBBNBBNBBNBBNBBNBBNBBNBBNBBNBBNBBNBBNBBNBBNBBNBBNBBNBBNBBNBBNBBNBBNBBNBBNBBNBBNBBNBBNBBNBBNBBNBBNBBNBBNBBNBBNBBNBBNBBNBBNBBNBBNBBNBBNBBNBBNBBNBBNBBNBBNBBNBBNBBNBBNBBNBBNBBNBBNBBNBBNBBNBBNBBNBBNBBNBBNBBNBBNBBNBBNBBNBBNBBNBBNBBNBBNBBNBBNBBNBBNBBNBBNBBNBBNBBNBBNBBNBBNBBNBBNBBNBBNBBNBBNBBNBBNBBNBBNBBNBBNBBNBBNBBNBBNBBNBBNBBNBBNBBNBBNBBNBBNBBNBBNBBNBBNBBNBBNBBNBBNBBNBBNBBNBBNBBNBBNBBNBBNBBNBBNBBNBBNBBNBBNBBNBBNBBNBBNBBNBBNBBNBBNBBNBBNBBNBBNBBNBBNBBNBBNBBNBBNBBNBBBNBBNBBNBBNBBNBBNBBNBBNBBNBBNBBNBBNBBNBBNBBNBBNBBNBBNBBNBBNBBNBBNBBNBBNBBNBBNBBNBBNBBNBBNBBNBBNBBNBBNBBNBBNBBNBBNBBNBBNBBNBBNBBNBBNBBNBBNBBNBBNBBNBBNBBNBBNBBNBBNBBNBBNBBNBBNBBNBBNBBNBBNBBNBBNBBNBBNBBNBBNBBNBBNBBNBBNBBNBBNBBNBBNBBNBBNBBNBBNBBNBBNBBNBBNBBNBBNBBNBBNBBNBBNBBNBBNBBNBBNBBNBBNBBNBBNBBNBBNBBNBBNBBNBBNBBNBBNBBNBBNBBNBBNBBNBBNBBNBBNBBNBBNBBNBBNBBNBBNBBNBBNBBNBBNBBNBBNBBNBBNBBNBBNBBNBBNBBNBBNBBNBBNBBNBBNBBNBBNBBNBBNBBNBBNBBNBBNBBNBBNBBNBBNBBNBBNBBNBBNBBNBBNBBNBBNBBNBBNBBNBBNBBNBBNBBNBBNBBNBBNBBNBBNBBCBHCBHHNHCBBCBHCBHHNHCNCHBCCNBCBHCBBCBHCBBNBBNBBCBHCBHHNHCBBCBHCBHHNHCNCHBCCNBCBHCBBCNCCNBBBCHBHHBCHBNBBCCNBCNCCNBBNBNBBCBHCBHHNHCBBCBHCBBNBBNBBCBHCBHHNHCBBCBHCBBNBBNBBNBBNBBNBBNBBNBBNBBNBBNBBCBHCBHHNHCBBCBHCBHHNHCNCHBCCNBCBHCBBCBHCBBNBBNBBCBHCBHHNHCBBCBHCBHHNHCNCHBCCNBCBHCBBCNCCNBBBCHBHHBCHBNBBCCNBCNCCNBBNBNBBCBHCBHHNHCBBCBHCBBNBBNBBCNCCNBBBCCNBCNCCNBBNBBNBBBNBBNBBCHBHHBCHBHHNHCNCHBCHBNBBCHBHHBCHBNBBNBBNBBNBBNBBCCNBCNCCNBBNBNBBCNCCNBBBCCNBCNCCNBBNBBNBBNBBNBBNBNBBNBBNBBNBBNBBCBHCBHHNHCBBCBHCBHHNHCNCHBCCNBCBHCBBCBHCBBNBBNBBCBHCBHHNHCBBCBHCBBNBBNBBNBBNBBNBBNBBNBBNBBNBBNBBCBHCBHHNHCBBCBHCBHHNHCNCHBCCNBCBHCBBCBHCBBNBBNBBCBHCBHHNHCBBCBHCBBNBBNBBNBBNBBNBBNBBNBBNBBNBBNBBNBBNBBNBBNBBNBBNBBNBBNBBNBBNBBNBBNBBNBBNBBNBBNBBNBBNBBNBBNBBNBBNBBNBBNBBNBBNBBNBBNBBNBBNBBNBBNBBCBHCBHHNHCBBCBHCBHHNHCNCHBCCNBCBHCBBCBHCBBNBBNBBCBHCBHHNHCBBCBHCBHHNHCNCHBCCNBCBHCBBCNCCNBBBCHBHHBCHBNBBCCNBCNCCNBBNBNBBCBHCBHHNHCBBCBHCBBNBBNBBCBHCBHHNHCBBCBHCBBNBBNBBNBBNBBNBBNBBNBBNBBNBBNBBCBHCBHHNHCBBCBHCBHHNHCNCHBCCNBCBHCBBCBHCBBNBBNBBCBHCBHHNHCBBCBHCB\n"
     ]
    },
    {
     "data": {
      "text/plain": [
       "1588"
      ]
     },
     "execution_count": 64,
     "metadata": {},
     "output_type": "execute_result"
    }
   ],
   "source": [
    "p1_solution(test_input, 10)"
   ]
  },
  {
   "cell_type": "code",
   "execution_count": 66,
   "id": "f62e6ff2",
   "metadata": {
    "ExecuteTime": {
     "end_time": "2021-12-14T23:30:56.523938Z",
     "start_time": "2021-12-14T23:30:56.516758Z"
    },
    "scrolled": true
   },
   "outputs": [
    {
     "name": "stdout",
     "output_type": "stream",
     "text": [
      "['N', 'N', 'S', 'O', 'F', 'O', 'C', 'N', 'H', 'B', 'V', 'V', 'N', 'O', 'B', 'S', 'B', 'H', 'C', 'B']\n",
      "{'HN': 'S', 'FK': 'N', 'CH': 'P', 'VP': 'P', 'VV': 'C', 'PB': 'H', 'CP': 'F', 'KO': 'P', 'KN': 'V', 'NO': 'K', 'NF': 'N', 'CO': 'P', 'HO': 'H', 'VH': 'V', 'OV': 'C', 'VS': 'F', 'PK': 'H', 'OS': 'S', 'BF': 'S', 'SN': 'P', 'NK': 'N', 'SV': 'O', 'KB': 'O', 'ON': 'O', 'FN': 'H', 'FO': 'N', 'KV': 'S', 'CS': 'C', 'VO': 'O', 'SP': 'O', 'VK': 'H', 'KP': 'S', 'SK': 'N', 'NC': 'B', 'PN': 'N', 'HV': 'O', 'HS': 'C', 'CN': 'N', 'OO': 'V', 'FF': 'B', 'VC': 'V', 'HK': 'K', 'CC': 'H', 'BO': 'H', 'SC': 'O', 'HH': 'C', 'BV': 'P', 'OB': 'O', 'FC': 'H', 'PO': 'C', 'FV': 'C', 'BK': 'F', 'HB': 'B', 'NH': 'P', 'KF': 'N', 'BP': 'H', 'KK': 'O', 'OH': 'K', 'CB': 'H', 'CK': 'C', 'OK': 'H', 'NN': 'F', 'VF': 'N', 'SO': 'K', 'OP': 'F', 'NP': 'B', 'FS': 'S', 'SH': 'O', 'FP': 'O', 'SF': 'V', 'HF': 'N', 'KC': 'K', 'SB': 'V', 'FH': 'N', 'SS': 'C', 'BB': 'C', 'NV': 'K', 'OC': 'S', 'CV': 'N', 'HC': 'P', 'BC': 'N', 'OF': 'K', 'BH': 'N', 'NS': 'K', 'BN': 'F', 'PC': 'C', 'CF': 'N', 'HP': 'F', 'BS': 'O', 'PF': 'S', 'PV': 'B', 'KH': 'K', 'VN': 'V', 'NB': 'N', 'PH': 'V', 'KS': 'B', 'PP': 'V', 'PS': 'C', 'VB': 'N', 'FB': 'N'}\n",
      "After Step 1:  NFNKSKOKFNOSCNNPHBBPVCVVNKOOBOSVBNHPCHB\n",
      "After Step 2:  NNFHNNKBSNKPOHKNFHNKOSSOCNNFNBPVHBBCBHPBVVCNVCVVNNKPOVOOBHOSSOVNBFNPHFPCCPHBB\n",
      "After Step 3:  NFNNFNHSNFNNKOBOSPNNKSPCOKHKKVNNFNHSNNKPOSSCSKOSCNNFNNFHNNBHPBVVHBBCBNCHBNHFPHBPVCVVCNNKVVCNVCVVNFNNKSPCOCVOOVOOBNHHOSSCSKOCVVNNBSFHNBPVHNFOPCCHCFPVHBBCB\n",
      "After Step 4:  NNFHNFNNFHNPHCSPNNFHNFNNKPOOBHOSSOPNNFNNKBSOPCCPOHKKHKKOKSVVNFNNFHNPHCSPNFNNKSPCOSSCSOCCSNKPOSSOCNNFNNFHNFNNFNHSNFNNBNHFPHBPVCVVHBBCBNCHBFNBCPHBBFNPHNFOPVHBBHPBVVCNVCVVCNNFNNKSVCVVCNNKVVCNVCVVNNFHNFNNKBSOPCCPOSCNVOOVOCVOOVOOBFNPHCHHOSSCSOCCSNKPOSCNVCVVNFNNBOSVFNHSNNBHPBVVHSNNFNOFPCCHCPHPCNFOPBVVHBBCBNCHB\n",
      "After Step 5:  NFNNFNHSNNFHNFNNFNHSNBPVHPCCSOPNNFNNFNHSNNFHNFNNKSPCOVOOBNHHOSSCSKOFPNNFNNFHNFNNKOBOSKOFPCCHCFPCOKHKKOKKHKKOKPOHKBSOVCVVNNFHNFNNFNHSNBPVHPCCSOPNNNFHNFNNKBSOPCCPOSSCSOCCSKOSCHCCSPNNKSPCOSSCSKOSCNNFNNFHNFNNFNHSNNFHNFNNFHNPHCSPNNFHNFNNBFNPHNFOPVHBBHPBVVCNVCVVHBBCBNCHBFNBCPHBBSFHNNBNCFPVHBBCBSFHNBPVHSNNFNOFPBVVHBBCBNHFPHBPVCVVCNNKVVCNVCVVCNNFNNFHNFNNKBSOVVCNVCVVCNNFNNKSVCVVCNNKVVCNVCVVNFNNFNHSNNFHNFNNKOBOSKOFPCCHCFPCOSSOCNNKVOOVOCVOOSCNVOOVOCVOOVOOBSFHNBPVHPCPHCHHOSSCSOCCSKOSCHCCSPNNKSPCOSSOCNNKVVCNVCVVNNFHNFNNBHOSSOVNFHNPHCSPNFNNBNHFPHBPVCVVHCSPNFNNFHNKOKFOPCCHCPHPCFPVHFPCCNNNFNOFPHBPVCVVHBBCBNCHBFNBCPHBB\n",
      "After Step 6:  NNFHNFNNFHNPHCSPNFNNFNHSNNFHNFNNFHNPHCSPNNBHPBVVHFPCCHCCSKOFPNNFNNFHNFNNFHNPHCSPNFNNFNHSNNFHNFNNKBSOPCCPOCVOOVOOBFNPHCHHOSSCSOCCSNKPOKFOPNNFNNFHNFNNFNHSNNFHNFNNKPOOBHOSSNKPOKFOPCCHCPHPCNFOPCCPOHKKHKKOKPOHKOKKHKKOKPOHKSPCOKHKKOBOSKOCVVCNVCVVNFNNFNHSNNFHNFNNFHNPHCSPNNBHPBVVHFPCCHCCSKOFPNNFNFNNFNHSNNFHNFNNKOBOSKOFPCCHCFPCOSSCSOCCSKOSCHCCSNKPOSSOCPHPCHCCSOPNNFNNKBSOPCCPOSSCSOCCSNKPOSSOCNNFNNFHNFNNFNHSNNFHNFNNFHNPHCSPNFNNFNHSNNFHNFNNFNHSNBPVHPCCSOPNNFNNFNHSNNFHNFNNBSFHNBPVHSNNFNOFPBVVHBBCBNHFPHBPVCVVCNNKVVCNVCVVHBBCBNCHBFNBCPHBBSFHNNBNCFPVHBBCBOSVFNHSNFNNBFNBCNFOPBVVHBBCBNCHBOSVFNHSNNBHPBVVHCSPNFNNFHNKOKFOPHBPVCVVHBBCBNCHBFNPHNFOPVHBBHPBVVCNVCVVCNNFNNKSVCVVCNNKVVCNVCVVCNNFNNFHNFNNFNHSNNFHNFNNKOBOSKOCVCVVCNNKVVCNVCVVCNNFNNFHNFNNKBSOVVCNVCVVCNNFNNKSVCVVCNNKVVCNVCVVNNFHNFNNFHNPHCSPNFNNFNHSNNFHNFNNKPOOBHOSSNKPOKFOPCCHCPHPCNFOPCCPOSSCSKOSCNNFNNKSVOOVOCVOOSCNVOOVOSSOCNNKVOOVOCVOOSCNVOOVOCVOOVOOBOSVFNHSNNBHPBVVHFPCCFPVHPCPHCHHOSSCSOCCSKOSCHCCSNKPOSSOCPHPCHCCSOPNNFNNKBSOPCCPOSSCSKOSCNNFNNKSVCVVCNNKVVCNVCVVNFNNFNHSNNFHNFNNBNHHOSSCSKOCVVNNFNHSNBPVHPCCSOPNNNFHNFNNBFNPHNFOPVHBBHPBVVCNVCVVHPCCSOPNNNFHNFNNFNHSNNKPOHKNFNOFPCCHCPHPCFPVHFPCCNFOPBVVHNFOPCCHCNNFNFNNFHNKOKFOPVHBBHPBVVCNVCVVHBBCBNCHBFNBCPHBBSFHNNBNCFPVHBBCB\n",
      "After Step 7:  NFNNFNHSNNFHNFNNFNHSNBPVHPCCSOPNNNFHNFNNFHNPHCSPNFNNFNHSNNFHNFNNFNHSNBPVHPCCSOPNNFNNBNHFPHBPVCVVHNFOPCCHCPHPCHCCSNKPOKFOPNNFNNFHNFNNFNHSNNFHNFNNFNHSNBPVHPCCSOPNNNFHNFNNFHNPHCSPNFNNFNHSNNFHNFNNKOBOSKOFPCCHCFPCOSCNVOOVOCVOOVOOBSFHNBPVHPCPHCHHOSSCSOCCSKOSCHCCSPNNKSPCOHKNFNOFPNNFNNFHNFNNFNHSNNFHNFNNFHNPHCSPNFNNFNHSNNFHNFNNKSPCOVOOBNHHOSSCSPNNKSPCOHKNFNOFPCCHCPHPCFPVHFPCCNNNFNOFPCCHCFPCOKHKKOKKHKKOKPOHKSPCOKHKKPOHKOKKHKKOKPOHKSPCOKHKKBSOPCCPOHKKHKKOKPOOBHOSSNKPOSCNVCVVCNNKVVCNVCVVNNFHNFNNFHNPHCSPNFNNFNHSNNFHNFNNFNHSNBPVHPCCSOPNNFNNBNHFPHBPVCVVHNFOPCCHCPHPCHCCSNKPOKFOPNNFNNFHNNFHNFNNFHNPHCSPNFNNFNHSNNFHNFNNKPOOBHOSSNKPOKFOPCCHCPHPCNFOPCCPOSSCSOCCSKOSCHCCSNKPOSSOCPHPCHCCSPNNKSPCOSSCSKOSCFPVHFPCCPHPCHCCSKOFPNNFNNFHNFNNKOBOSKOFPCCHCFPCOSSCSOCCSKOSCHCCSPNNKSPCOSSCSKOSCNNFNNFHNFNNFNHSNNFHNFNNFHNPHCSPNFNNFNHSNNFHNFNNFNHSNBPVHPCCSOPNNNFHNFNNFHNPHCSPNFNNFNHSNNFHNFNNFHNPHCSPNNBHPBVVHFPCCHCCSKOFPNNFNNFHNFNNFHNPHCSPNFNNFNHSNNFHNFNNBOSVFNHSNNBHPBVVHCSPNFNNFHNKOKFOPHBPVCVVHBBCBNCHBFNPHNFOPVHBBHPBVVCNVCVVCNNFNNKSVCVVCNNKVVCNVCVVHBBCBNCHBFNBCPHBBSFHNNBNCFPVHBBCBOSVFNHSNFNNBFNBCNFOPBVVHBBCBNCHBHOSSOVNFHNPHCSPNNFHNFNNBSFHNNBNCNNNFNOFPHBPVCVVHBBCBNCHBFNBCPHBBHOSSOVNFHNPHCSPNFNNBNHFPHBPVCVVHPCCSOPNNNFHNFNNFNHSNNKPOHKNFNOFPVHBBHPBVVCNVCVVHBBCBNCHBFNBCPHBBSFHNBPVHSNNFNOFPBVVHBBCBNHFPHBPVCVVCNNKVVCNVCVVCNNFNNFHNFNNKBSOVVCNVCVVCNNFNNKSVCVVCNNKVVCNVCVVCNNFNNFHNFNNFNHSNNFHNFNNFHNPHCSPNFNNFNHSNNFHNFNNKPOOBHOSSNKPOSCNVVCNVCVVCNNFNNKSVCVVCNNKVVCNVCVVCNNFNNFHNFNNFNHSNNFHNFNNKOBOSKOCVCVVCNNKVVCNVCVVCNNFNNFHNFNNKBSOVVCNVCVVCNNFNNKSVCVVCNNKVVCNVCVVNFNNFNHSNNFHNFNNFNHSNBPVHPCCSOPNNNFHNFNNFHNPHCSPNFNNFNHSNNFHNFNNKSPCOVOOBNHHOSSCSPNNKSPCOHKNFNOFPCCHCPHPCFPVHFPCCNNNFNOFPCCHCFPCOSSCSOCCSNKPOSSOCNNFNNFHNFNNKBSOVOOVOCVOOSCNVOOVOSSOCNNKVOOVOCVOOSSCSKOSCNNFNNKSVOOVOCVOOSCNVOOVOSSOCNNKVOOVOCVOOSCNVOOVOCVOOVOOBHOSSOVNFHNPHCSPNFNNBNHFPHBPVCVVHNFOPCCHCNFOPBVVHFPCCFPVHPCPHCHHOSSCSOCCSKOSCHCCSNKPOSSOCPHPCHCCSPNNKSPCOSSCSKOSCFPVHFPCCPHPCHCCSKOFPNNFNNFHNFNNKOBOSKOFPCCHCFPCOSSCSOCCSNKPOSSOCNNFNNFHNFNNKBSOVVCNVCVVCNNFNNKSVCVVCNNKVVCNVCVVNNFHNFNNFHNPHCSPNFNNFNHSNNFHNFNNBFNPHCHHOSSCSOCCSNKPOSCNVCVVNFNNFHNPHCSPNNBHPBVVHFPCCHCCSKOFPNNFNFNNFNHSNNFHNFNNBSFHNBPVHSNNFNOFPBVVHBBCBNHFPHBPVCVVCNNKVVCNVCVVHFPCCHCCSKOFPNNFNFNNFNHSNNFHNFNNFHNPHCSPNFNNKSPCOKHKKVNNFHNKOKFOPCCHCPHPCFPVHFPCCNFOPBVVHNFOPCCHCNNNFNOFPHBPVCVVHSNNFNOFPCCHCPHPCNNFNNFHNNFHNFNNFNHSNNKPOHKNFNOFPBVVHBBCBNHFPHBPVCVVCNNKVVCNVCVVHBBCBNCHBFNBCPHBBSFHNNBNCFPVHBBCBOSVFNHSNFNNBFNBCNFOPBVVHBBCBNCHB\n"
     ]
    },
    {
     "data": {
      "text/plain": [
       "462"
      ]
     },
     "execution_count": 66,
     "metadata": {},
     "output_type": "execute_result"
    }
   ],
   "source": [
    "p1_solution(full_input, 7)"
   ]
  },
  {
   "cell_type": "markdown",
   "id": "d2933ba8",
   "metadata": {},
   "source": [
    "Hmmm...maybe not as much as I thought.\n",
    "\n",
    "What about recursively expanding each pair for $n$ steps, adding char counts to a dictionary? Then the size of the array each iteration would only get as large as it would between two of the original letters."
   ]
  },
  {
   "cell_type": "code",
   "execution_count": 67,
   "id": "8c58b430",
   "metadata": {
    "ExecuteTime": {
     "end_time": "2021-12-14T23:50:13.878668Z",
     "start_time": "2021-12-14T23:50:13.876399Z"
    }
   },
   "outputs": [],
   "source": [
    "from collections import defaultdict"
   ]
  },
  {
   "cell_type": "code",
   "execution_count": 83,
   "id": "cfe2c09d",
   "metadata": {
    "ExecuteTime": {
     "end_time": "2021-12-14T23:56:09.723633Z",
     "start_time": "2021-12-14T23:56:09.719631Z"
    }
   },
   "outputs": [
    {
     "data": {
      "text/plain": [
       "defaultdict(int, {'a': 1, 'n': 5})"
      ]
     },
     "execution_count": 83,
     "metadata": {},
     "output_type": "execute_result"
    }
   ],
   "source": [
    "counter = defaultdict(int)\n",
    "counter['a'] +=1\n",
    "counter['n'] = 5\n",
    "counter"
   ]
  },
  {
   "cell_type": "markdown",
   "id": "ea06236f",
   "metadata": {},
   "source": [
    "Pseudocode:\n",
    "\n",
    "While we're not at max step, for each step:\n",
    " - Take the first pair and find the one that goes between them\n",
    " - Next step: take the first of original pair and the one that goes between..."
   ]
  },
  {
   "cell_type": "markdown",
   "id": "488be89b",
   "metadata": {},
   "source": [
    "Wait--just do the same original solution, but only for 1 pair at a time. Treat each successive pair in the original polymer as input to the original solution. But instead of returning the new polymer, just add each char in it to char_dict!"
   ]
  },
  {
   "cell_type": "code",
   "execution_count": 104,
   "id": "db109945",
   "metadata": {
    "ExecuteTime": {
     "end_time": "2021-12-15T01:04:44.203929Z",
     "start_time": "2021-12-15T01:04:44.196807Z"
    }
   },
   "outputs": [],
   "source": [
    "def p2_solution(input_text, steps):\n",
    "    polymer = [char for char in input_text[0]]\n",
    "    rules = {line.split(' -> ')[0]:line.split(' -> ')[1] for line in input_text[2:]}\n",
    "    char_dict = defaultdict(int)\n",
    "\n",
    "    for i in range(len(polymer)-1):\n",
    "        sub_polymer = polymer[i]+polymer[i+1]\n",
    "        for s in range(steps):\n",
    "            temp = []\n",
    "            for i in range(len(sub_polymer)-1):\n",
    "                pair = sub_polymer[i] + sub_polymer[i+1]\n",
    "                if pair in rules.keys():\n",
    "                    temp.append(rules[pair])\n",
    "\n",
    "            new_polymer = sub_polymer[0]\n",
    "            for i in range(len(temp)):\n",
    "                new_polymer += temp[i]\n",
    "                new_polymer += sub_polymer[i + 1]\n",
    "            sub_polymer = new_polymer\n",
    "        for char in sub_polymer:\n",
    "            char_dict[char] += 1\n",
    "    \n",
    "    ascending = sorted(char_dict.items(), key=lambda item: item[1])\n",
    "    return ascending[-1][1] - ascending[0][1]"
   ]
  },
  {
   "cell_type": "code",
   "execution_count": 106,
   "id": "5819a9ed",
   "metadata": {
    "ExecuteTime": {
     "end_time": "2021-12-15T01:05:01.128317Z",
     "start_time": "2021-12-15T01:05:01.122970Z"
    }
   },
   "outputs": [
    {
     "data": {
      "text/plain": [
       "1588"
      ]
     },
     "execution_count": 106,
     "metadata": {},
     "output_type": "execute_result"
    }
   ],
   "source": [
    "p2_solution(test_input, 10)\n",
    "# 1588"
   ]
  },
  {
   "cell_type": "code",
   "execution_count": 107,
   "id": "ae019504",
   "metadata": {
    "ExecuteTime": {
     "end_time": "2021-12-15T01:29:00.629443Z",
     "start_time": "2021-12-15T01:05:11.450548Z"
    }
   },
   "outputs": [
    {
     "ename": "KeyboardInterrupt",
     "evalue": "",
     "output_type": "error",
     "traceback": [
      "\u001b[0;31m---------------------------------------------------------------------------\u001b[0m",
      "\u001b[0;31mKeyboardInterrupt\u001b[0m                         Traceback (most recent call last)",
      "\u001b[0;32m<ipython-input-107-e91308d69709>\u001b[0m in \u001b[0;36m<module>\u001b[0;34m\u001b[0m\n\u001b[0;32m----> 1\u001b[0;31m \u001b[0mp2_solution\u001b[0m\u001b[0;34m(\u001b[0m\u001b[0mtest_input\u001b[0m\u001b[0;34m,\u001b[0m \u001b[0;36m40\u001b[0m\u001b[0;34m)\u001b[0m\u001b[0;34m\u001b[0m\u001b[0;34m\u001b[0m\u001b[0m\n\u001b[0m\u001b[1;32m      2\u001b[0m \u001b[0;31m# 2188189693529\u001b[0m\u001b[0;34m\u001b[0m\u001b[0;34m\u001b[0m\u001b[0;34m\u001b[0m\u001b[0m\n",
      "\u001b[0;32m<ipython-input-104-fb622ce44360>\u001b[0m in \u001b[0;36mp2_solution\u001b[0;34m(input_text, steps)\u001b[0m\n\u001b[1;32m     15\u001b[0m             \u001b[0mnew_polymer\u001b[0m \u001b[0;34m=\u001b[0m \u001b[0msub_polymer\u001b[0m\u001b[0;34m[\u001b[0m\u001b[0;36m0\u001b[0m\u001b[0;34m]\u001b[0m\u001b[0;34m\u001b[0m\u001b[0;34m\u001b[0m\u001b[0m\n\u001b[1;32m     16\u001b[0m             \u001b[0;32mfor\u001b[0m \u001b[0mi\u001b[0m \u001b[0;32min\u001b[0m \u001b[0mrange\u001b[0m\u001b[0;34m(\u001b[0m\u001b[0mlen\u001b[0m\u001b[0;34m(\u001b[0m\u001b[0mtemp\u001b[0m\u001b[0;34m)\u001b[0m\u001b[0;34m)\u001b[0m\u001b[0;34m:\u001b[0m\u001b[0;34m\u001b[0m\u001b[0;34m\u001b[0m\u001b[0m\n\u001b[0;32m---> 17\u001b[0;31m                 \u001b[0mnew_polymer\u001b[0m \u001b[0;34m+=\u001b[0m \u001b[0mtemp\u001b[0m\u001b[0;34m[\u001b[0m\u001b[0mi\u001b[0m\u001b[0;34m]\u001b[0m\u001b[0;34m\u001b[0m\u001b[0;34m\u001b[0m\u001b[0m\n\u001b[0m\u001b[1;32m     18\u001b[0m                 \u001b[0mnew_polymer\u001b[0m \u001b[0;34m+=\u001b[0m \u001b[0msub_polymer\u001b[0m\u001b[0;34m[\u001b[0m\u001b[0mi\u001b[0m \u001b[0;34m+\u001b[0m \u001b[0;36m1\u001b[0m\u001b[0;34m]\u001b[0m\u001b[0;34m\u001b[0m\u001b[0;34m\u001b[0m\u001b[0m\n\u001b[1;32m     19\u001b[0m             \u001b[0msub_polymer\u001b[0m \u001b[0;34m=\u001b[0m \u001b[0mnew_polymer\u001b[0m\u001b[0;34m\u001b[0m\u001b[0;34m\u001b[0m\u001b[0m\n",
      "\u001b[0;31mKeyboardInterrupt\u001b[0m: "
     ]
    }
   ],
   "source": [
    "p2_solution(test_input, 40)\n",
    "# 2188189693529"
   ]
  },
  {
   "cell_type": "markdown",
   "id": "2ee97552",
   "metadata": {},
   "source": [
    "Hmm...this is still taking forever. Clearly this isn't the right approach. Maybe my first idea was better, just need to implement it correctly? Or maybe I need a more efficient way to store the information.\n",
    "\n",
    "A hint fron the subreddit suggests keeping track of pairs in a `dict` since each pair generates two more pairs, but only a finite number of possible pairs."
   ]
  },
  {
   "cell_type": "code",
   "execution_count": 151,
   "id": "e06d6f27",
   "metadata": {
    "ExecuteTime": {
     "end_time": "2021-12-15T02:26:13.100226Z",
     "start_time": "2021-12-15T02:26:13.093576Z"
    }
   },
   "outputs": [],
   "source": [
    "def p2_solution(input_text, steps):\n",
    "    polymer = [char for char in input_text[0]]\n",
    "    rules = {line.split(' -> ')[0]:line.split(' -> ')[1] for line in input_text[2:]}\n",
    "    pair_dict = defaultdict(int)\n",
    "    \n",
    "    # Initialize pair_dict with original polymer pairs\n",
    "    for i in range(len(polymer)-1):\n",
    "        pair_dict[(polymer[i]+polymer[i+1])] += 1\n",
    "    \n",
    "    # Now iterate to add new pairs\n",
    "    for _ in range(steps):\n",
    "        new_pair_dict = defaultdict(int)\n",
    "        for pair in pair_dict.keys():\n",
    "            if pair in rules.keys():\n",
    "                new_char = rules[pair]\n",
    "                first_pair = pair[0] + new_char\n",
    "                second_pair = new_char + pair[1]\n",
    "                new_pair_dict[first_pair] += pair_dict[pair] # Number of times it's in the\n",
    "                new_pair_dict[second_pair] += pair_dict[pair] # original dict!\n",
    "            else:\n",
    "                new_pair_dict[pair] += 1\n",
    "        pair_dict = new_pair_dict\n",
    "    \n",
    "    # Parse dict key:value pairs, remembering that they represent repeated letters!\n",
    "    char_dict = defaultdict(int)\n",
    "    for pair in pair_dict.keys():\n",
    "        char_dict[pair[0]] += pair_dict[pair]\n",
    "        char_dict[pair[1]] += pair_dict[pair]\n",
    "    char_dict[polymer[0]] += 1\n",
    "    char_dict[polymer[-1]] += 1\n",
    "    \n",
    "    final_dict = defaultdict(int)\n",
    "    for char in char_dict.keys():\n",
    "        final_dict[char] += char_dict[char]/2\n",
    "    \n",
    "    ascending = sorted(final_dict.items(), key=lambda item: item[1])\n",
    "    \n",
    "    return ascending[-1][1] - ascending[0][1]"
   ]
  },
  {
   "cell_type": "code",
   "execution_count": 152,
   "id": "dd453f45",
   "metadata": {
    "ExecuteTime": {
     "end_time": "2021-12-15T02:26:13.599319Z",
     "start_time": "2021-12-15T02:26:13.595778Z"
    }
   },
   "outputs": [
    {
     "data": {
      "text/plain": [
       "1588.0"
      ]
     },
     "execution_count": 152,
     "metadata": {},
     "output_type": "execute_result"
    }
   ],
   "source": [
    "p2_solution(test_input, 10)"
   ]
  },
  {
   "cell_type": "code",
   "execution_count": 154,
   "id": "f3479371",
   "metadata": {
    "ExecuteTime": {
     "end_time": "2021-12-15T02:26:36.206814Z",
     "start_time": "2021-12-15T02:26:36.202910Z"
    }
   },
   "outputs": [
    {
     "data": {
      "text/plain": [
       "2188189693529.0"
      ]
     },
     "execution_count": 154,
     "metadata": {},
     "output_type": "execute_result"
    }
   ],
   "source": [
    "p2_solution(test_input, 40)\n",
    "# 2188189693529"
   ]
  },
  {
   "cell_type": "markdown",
   "id": "bda95804",
   "metadata": {},
   "source": [
    "How is it that fast???? This is NOT optimized code! Truly crazy."
   ]
  },
  {
   "cell_type": "code",
   "execution_count": 156,
   "id": "41a25eb3",
   "metadata": {
    "ExecuteTime": {
     "end_time": "2021-12-15T02:27:20.445707Z",
     "start_time": "2021-12-15T02:27:20.441444Z"
    }
   },
   "outputs": [
    {
     "data": {
      "text/plain": [
       "3906.0"
      ]
     },
     "execution_count": 156,
     "metadata": {},
     "output_type": "execute_result"
    }
   ],
   "source": [
    "p2_solution(full_input, 10)\n",
    "# 3906"
   ]
  },
  {
   "cell_type": "code",
   "execution_count": 157,
   "id": "2a291479",
   "metadata": {
    "ExecuteTime": {
     "end_time": "2021-12-15T02:27:25.711288Z",
     "start_time": "2021-12-15T02:27:25.705105Z"
    }
   },
   "outputs": [
    {
     "data": {
      "text/plain": [
       "4441317262452.0"
      ]
     },
     "execution_count": 157,
     "metadata": {},
     "output_type": "execute_result"
    }
   ],
   "source": [
    "p2_solution(full_input, 40)"
   ]
  },
  {
   "cell_type": "markdown",
   "id": "d33bd5b5",
   "metadata": {},
   "source": [
    "Definitely needed the hint on this one. I'm just so glad that the subreddit is full of helpful people explaining the concepts/ideas behind their solutions!"
   ]
  },
  {
   "cell_type": "code",
   "execution_count": null,
   "id": "02fc930b",
   "metadata": {},
   "outputs": [],
   "source": []
  }
 ],
 "metadata": {
  "kernelspec": {
   "display_name": "Python 3",
   "language": "python",
   "name": "python3"
  },
  "language_info": {
   "codemirror_mode": {
    "name": "ipython",
    "version": 3
   },
   "file_extension": ".py",
   "mimetype": "text/x-python",
   "name": "python",
   "nbconvert_exporter": "python",
   "pygments_lexer": "ipython3",
   "version": "3.8.8"
  }
 },
 "nbformat": 4,
 "nbformat_minor": 5
}
