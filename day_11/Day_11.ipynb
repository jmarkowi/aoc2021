{
 "cells": [
  {
   "cell_type": "markdown",
   "id": "6f96dec5",
   "metadata": {},
   "source": [
    "# Day 11: Dumbo Octopus\n",
    "\n",
    "## Part 1:\n",
    "\n",
    "You enter a large cavern full of rare bioluminescent dumbo octopuses! They seem to not like the Christmas lights on your submarine, so you turn them off for now.\n",
    "\n",
    "There are 100 octopuses arranged neatly in a 10 by 10 grid. Each octopus slowly gains energy over time and flashes brightly for a moment when its energy is full. Although your lights are off, maybe you could navigate through the cave without disturbing the octopuses if you could predict when the flashes of light will happen.\n",
    "\n",
    "Each octopus has an energy level - your submarine can remotely measure the energy level of each octopus (your puzzle input). For example:\n",
    "```\n",
    "5483143223\n",
    "2745854711\n",
    "5264556173\n",
    "6141336146\n",
    "6357385478\n",
    "4167524645\n",
    "2176841721\n",
    "6882881134\n",
    "4846848554\n",
    "5283751526\n",
    "```\n",
    "\n",
    "The energy level of each octopus is a value between 0 and 9. Here, the top-left octopus has an energy level of 5, the bottom-right one has an energy level of 6, and so on.\n",
    "\n",
    "You can model the energy levels and flashes of light in steps. During a single step, the following occurs:\n",
    "\n",
    " - First, the energy level of each octopus increases by 1.\n",
    " - Then, any octopus with an energy level greater than 9 flashes. This increases the energy level of all adjacent octopuses by 1, including octopuses that are diagonally adjacent. If this causes an octopus to have an energy level greater than 9, it also flashes. This process continues as long as new octopuses keep having their energy level increased beyond 9. (An octopus can only flash at most once per step.)\n",
    " - Finally, any octopus that flashed during this step has its energy level set to 0, as it used all of its energy to flash.\n",
    " \n",
    "Adjacent flashes can cause an octopus to flash on a step even if it begins that step with very little energy. Consider the middle octopus with 1 energy in this situation:\n",
    "```\n",
    "Before any steps:\n",
    "11111\n",
    "19991\n",
    "19191\n",
    "19991\n",
    "11111\n",
    "\n",
    "After step 1:\n",
    "34543\n",
    "40004\n",
    "50005\n",
    "40004\n",
    "34543\n",
    "\n",
    "After step 2:\n",
    "45654\n",
    "51115\n",
    "61116\n",
    "51115\n",
    "45654\n",
    "```\n",
    "\n",
    "An octopus is highlighted when it flashed during the given step.\n",
    "\n",
    "Here is how the larger example above progresses:\n",
    "```\n",
    "Before any steps:\n",
    "5483143223\n",
    "2745854711\n",
    "5264556173\n",
    "6141336146\n",
    "6357385478\n",
    "4167524645\n",
    "2176841721\n",
    "6882881134\n",
    "4846848554\n",
    "5283751526\n",
    "\n",
    "After step 1:\n",
    "6594254334\n",
    "3856965822\n",
    "6375667284\n",
    "7252447257\n",
    "7468496589\n",
    "5278635756\n",
    "3287952832\n",
    "7993992245\n",
    "5957959665\n",
    "6394862637\n",
    "\n",
    "After step 2:\n",
    "8807476555\n",
    "5089087054\n",
    "8597889608\n",
    "8485769600\n",
    "8700908800\n",
    "6600088989\n",
    "6800005943\n",
    "0000007456\n",
    "9000000876\n",
    "8700006848\n",
    "\n",
    "After step 3:\n",
    "0050900866\n",
    "8500800575\n",
    "9900000039\n",
    "9700000041\n",
    "9935080063\n",
    "7712300000\n",
    "7911250009\n",
    "2211130000\n",
    "0421125000\n",
    "0021119000\n",
    "\n",
    "After step 4:\n",
    "2263031977\n",
    "0923031697\n",
    "0032221150\n",
    "0041111163\n",
    "0076191174\n",
    "0053411122\n",
    "0042361120\n",
    "5532241122\n",
    "1532247211\n",
    "1132230211\n",
    "\n",
    "After step 5:\n",
    "4484144000\n",
    "2044144000\n",
    "2253333493\n",
    "1152333274\n",
    "1187303285\n",
    "1164633233\n",
    "1153472231\n",
    "6643352233\n",
    "2643358322\n",
    "2243341322\n",
    "\n",
    "After step 6:\n",
    "5595255111\n",
    "3155255222\n",
    "3364444605\n",
    "2263444496\n",
    "2298414396\n",
    "2275744344\n",
    "2264583342\n",
    "7754463344\n",
    "3754469433\n",
    "3354452433\n",
    "\n",
    "After step 7:\n",
    "6707366222\n",
    "4377366333\n",
    "4475555827\n",
    "3496655709\n",
    "3500625609\n",
    "3509955566\n",
    "3486694453\n",
    "8865585555\n",
    "4865580644\n",
    "4465574644\n",
    "\n",
    "After step 8:\n",
    "7818477333\n",
    "5488477444\n",
    "5697666949\n",
    "4608766830\n",
    "4734946730\n",
    "4740097688\n",
    "6900007564\n",
    "0000009666\n",
    "8000004755\n",
    "6800007755\n",
    "\n",
    "After step 9:\n",
    "9060000644\n",
    "7800000976\n",
    "6900000080\n",
    "5840000082\n",
    "5858000093\n",
    "6962400000\n",
    "8021250009\n",
    "2221130009\n",
    "9111128097\n",
    "7911119976\n",
    "\n",
    "After step 10:\n",
    "0481112976\n",
    "0031112009\n",
    "0041112504\n",
    "0081111406\n",
    "0099111306\n",
    "0093511233\n",
    "0442361130\n",
    "5532252350\n",
    "0532250600\n",
    "0032240000\n",
    "```\n",
    "\n",
    "After step 10, there have been a total of 204 flashes. Fast forwarding, here is the same configuration every 10 steps:\n",
    "\n",
    "```\n",
    "After step 20:\n",
    "3936556452\n",
    "5686556806\n",
    "4496555690\n",
    "4448655580\n",
    "4456865570\n",
    "5680086577\n",
    "7000009896\n",
    "0000000344\n",
    "6000000364\n",
    "4600009543\n",
    "\n",
    "After step 30:\n",
    "0643334118\n",
    "4253334611\n",
    "3374333458\n",
    "2225333337\n",
    "2229333338\n",
    "2276733333\n",
    "2754574565\n",
    "5544458511\n",
    "9444447111\n",
    "7944446119\n",
    "\n",
    "After step 40:\n",
    "6211111981\n",
    "0421111119\n",
    "0042111115\n",
    "0003111115\n",
    "0003111116\n",
    "0065611111\n",
    "0532351111\n",
    "3322234597\n",
    "2222222976\n",
    "2222222762\n",
    "\n",
    "After step 50:\n",
    "9655556447\n",
    "4865556805\n",
    "4486555690\n",
    "4458655580\n",
    "4574865570\n",
    "5700086566\n",
    "6000009887\n",
    "8000000533\n",
    "6800000633\n",
    "5680000538\n",
    "\n",
    "After step 60:\n",
    "2533334200\n",
    "2743334640\n",
    "2264333458\n",
    "2225333337\n",
    "2225333338\n",
    "2287833333\n",
    "3854573455\n",
    "1854458611\n",
    "1175447111\n",
    "1115446111\n",
    "\n",
    "After step 70:\n",
    "8211111164\n",
    "0421111166\n",
    "0042111114\n",
    "0004211115\n",
    "0000211116\n",
    "0065611111\n",
    "0532351111\n",
    "7322235117\n",
    "5722223475\n",
    "4572222754\n",
    "\n",
    "After step 80:\n",
    "1755555697\n",
    "5965555609\n",
    "4486555680\n",
    "4458655580\n",
    "4570865570\n",
    "5700086566\n",
    "7000008666\n",
    "0000000990\n",
    "0000000800\n",
    "0000000000\n",
    "\n",
    "After step 90:\n",
    "7433333522\n",
    "2643333522\n",
    "2264333458\n",
    "2226433337\n",
    "2222433338\n",
    "2287833333\n",
    "2854573333\n",
    "4854458333\n",
    "3387779333\n",
    "3333333333\n",
    "\n",
    "After step 100:\n",
    "0397666866\n",
    "0749766918\n",
    "0053976933\n",
    "0004297822\n",
    "0004229892\n",
    "0053222877\n",
    "0532222966\n",
    "9322228966\n",
    "7922286866\n",
    "6789998766\n",
    "```\n",
    "\n",
    "After 100 steps, there have been a total of 1656 flashes.\n",
    "\n",
    "Given the starting energy levels of the dumbo octopuses in your cavern, simulate 100 steps. **How many total flashes are there after 100 steps?**"
   ]
  },
  {
   "cell_type": "code",
   "execution_count": 63,
   "id": "9c117f50",
   "metadata": {
    "ExecuteTime": {
     "end_time": "2021-12-11T19:53:25.611478Z",
     "start_time": "2021-12-11T19:53:25.604739Z"
    }
   },
   "outputs": [
    {
     "data": {
      "text/plain": [
       "['5483143223',\n",
       " '2745854711',\n",
       " '5264556173',\n",
       " '6141336146',\n",
       " '6357385478',\n",
       " '4167524645',\n",
       " '2176841721',\n",
       " '6882881134',\n",
       " '4846848554',\n",
       " '5283751526']"
      ]
     },
     "execution_count": 63,
     "metadata": {},
     "output_type": "execute_result"
    }
   ],
   "source": [
    "# Get test input\n",
    "with open('./test_input_11.txt') as f:\n",
    "    lines = f.readlines()\n",
    "test_input = [line.strip() for line in lines]\n",
    "test_input"
   ]
  },
  {
   "cell_type": "code",
   "execution_count": 64,
   "id": "20aa31dc",
   "metadata": {
    "ExecuteTime": {
     "end_time": "2021-12-11T19:53:26.091940Z",
     "start_time": "2021-12-11T19:53:26.085622Z"
    }
   },
   "outputs": [
    {
     "data": {
      "text/plain": [
       "['4871252763',\n",
       " '8533428173',\n",
       " '7182186813',\n",
       " '2128441541',\n",
       " '3722272272',\n",
       " '8751683443',\n",
       " '3135571153',\n",
       " '5816321572',\n",
       " '2651347271',\n",
       " '7788154252']"
      ]
     },
     "execution_count": 64,
     "metadata": {},
     "output_type": "execute_result"
    }
   ],
   "source": [
    "# Get full input\n",
    "with open('./input_11.txt') as f:\n",
    "    lines = f.readlines()\n",
    "full_input = [line.strip() for line in lines]\n",
    "full_input"
   ]
  },
  {
   "cell_type": "code",
   "execution_count": 5,
   "id": "9b9f751b",
   "metadata": {
    "ExecuteTime": {
     "end_time": "2021-12-11T17:58:34.514436Z",
     "start_time": "2021-12-11T17:58:33.463983Z"
    }
   },
   "outputs": [],
   "source": [
    "import numpy as np"
   ]
  },
  {
   "cell_type": "code",
   "execution_count": 9,
   "id": "368cc602",
   "metadata": {
    "ExecuteTime": {
     "end_time": "2021-12-11T18:00:28.582914Z",
     "start_time": "2021-12-11T18:00:28.579857Z"
    }
   },
   "outputs": [],
   "source": [
    "# From https://numpy.org/doc/stable/reference/generated/numpy.pad.html\n",
    "def pad_with(vector, pad_width, iaxis, kwargs):\n",
    "    pad_value = kwargs.get('padder', 0)\n",
    "    vector[:pad_width[0]] = pad_value\n",
    "    vector[-pad_width[1]:] = pad_value"
   ]
  },
  {
   "cell_type": "code",
   "execution_count": 10,
   "id": "d3476129",
   "metadata": {
    "ExecuteTime": {
     "end_time": "2021-12-11T18:00:54.424438Z",
     "start_time": "2021-12-11T18:00:54.419018Z"
    }
   },
   "outputs": [
    {
     "data": {
      "text/plain": [
       "array([[0, 0, 0, 0, 0, 0, 0, 0, 0, 0, 0, 0],\n",
       "       [0, 5, 4, 8, 3, 1, 4, 3, 2, 2, 3, 0],\n",
       "       [0, 2, 7, 4, 5, 8, 5, 4, 7, 1, 1, 0],\n",
       "       [0, 5, 2, 6, 4, 5, 5, 6, 1, 7, 3, 0],\n",
       "       [0, 6, 1, 4, 1, 3, 3, 6, 1, 4, 6, 0],\n",
       "       [0, 6, 3, 5, 7, 3, 8, 5, 4, 7, 8, 0],\n",
       "       [0, 4, 1, 6, 7, 5, 2, 4, 6, 4, 5, 0],\n",
       "       [0, 2, 1, 7, 6, 8, 4, 1, 7, 2, 1, 0],\n",
       "       [0, 6, 8, 8, 2, 8, 8, 1, 1, 3, 4, 0],\n",
       "       [0, 4, 8, 4, 6, 8, 4, 8, 5, 5, 4, 0],\n",
       "       [0, 5, 2, 8, 3, 7, 5, 1, 5, 2, 6, 0],\n",
       "       [0, 0, 0, 0, 0, 0, 0, 0, 0, 0, 0, 0]])"
      ]
     },
     "execution_count": 10,
     "metadata": {},
     "output_type": "execute_result"
    }
   ],
   "source": [
    "octopuses = []\n",
    "for line in test_input:\n",
    "    octopuses.append([int(num) for num in line])\n",
    "octopuses = np.pad(octopuses, 1, pad_with)\n",
    "octopuses"
   ]
  },
  {
   "cell_type": "code",
   "execution_count": 53,
   "id": "e50cf299",
   "metadata": {
    "ExecuteTime": {
     "end_time": "2021-12-11T19:10:07.941508Z",
     "start_time": "2021-12-11T19:10:07.936776Z"
    }
   },
   "outputs": [
    {
     "data": {
      "text/plain": [
       "[1, 2, 0, 0]"
      ]
     },
     "execution_count": 53,
     "metadata": {},
     "output_type": "execute_result"
    }
   ],
   "source": [
    "x = [1, 2, 3, 4]\n",
    "def change_list(a):\n",
    "    for i, val in enumerate(a):\n",
    "        if val>2:\n",
    "            a[i] = 0\n",
    "change_list(x)\n",
    "x"
   ]
  },
  {
   "cell_type": "code",
   "execution_count": 75,
   "id": "480271bd",
   "metadata": {
    "ExecuteTime": {
     "end_time": "2021-12-11T19:55:39.369799Z",
     "start_time": "2021-12-11T19:55:39.359542Z"
    }
   },
   "outputs": [],
   "source": [
    "def pad_with(vector, pad_width, iaxis, kwargs):\n",
    "    # From https://numpy.org/doc/stable/reference/generated/numpy.pad.html\n",
    "    pad_value = kwargs.get('padder', 0)\n",
    "    vector[:pad_width[0]] = pad_value\n",
    "    vector[-pad_width[1]:] = pad_value\n",
    "\n",
    "def check_edges(limits):\n",
    "    for i, val in enumerate(limits):\n",
    "        if val<1:\n",
    "            limits[i] = 1\n",
    "        if val>11:\n",
    "            limits[i] = 11\n",
    "    return limits\n",
    "    \n",
    "def increment(octopuses, row_start, row_end, col_start, col_end):\n",
    "    row_start, row_end, col_start, col_end = check_edges([row_start, row_end, col_start, col_end])\n",
    "    for i in range(row_start, row_end):\n",
    "        for j in range(col_start, col_end):\n",
    "            if octopuses[i][j] == -1:\n",
    "                continue\n",
    "            else:\n",
    "                octopuses[i][j] += 1\n",
    "\n",
    "def flash(octopuses, row_start, row_end, col_start, col_end):\n",
    "    row_start, row_end, col_start, col_end = check_edges([row_start, row_end, col_start, col_end])\n",
    "    for i in range(row_start, row_end):\n",
    "        for j in range(col_start, col_end):\n",
    "            if octopuses[i][j]>9:\n",
    "                increment(octopuses, i-1, i+2, j-1, j+2)\n",
    "                octopuses[i][j] = -1\n",
    "                flash(octopuses, i-1, i+2, j-1, j+2)\n",
    "            else:\n",
    "                continue\n",
    "\n",
    "def count_flashes(octopuses):\n",
    "    flashes = 0\n",
    "    for i in range(1, 11):\n",
    "        for j in range(1, 11):\n",
    "            if octopuses[i][j] == -1:\n",
    "                flashes += 1\n",
    "                octopuses[i][j] = 0\n",
    "    return flashes\n",
    "\n",
    "def solution(input_text):\n",
    "    octopuses = []\n",
    "    for line in input_text:\n",
    "        octopuses.append([int(num) for num in line])\n",
    "    octopuses = np.pad(octopuses, 1, pad_with)\n",
    "    total_flashes = 0\n",
    "    \n",
    "    for step in range(100):\n",
    "        increment(octopuses, 1, 11, 1, 11)\n",
    "        flash(octopuses, 1, 11, 1, 11)\n",
    "        total_flashes += count_flashes(octopuses)\n",
    "        # print(f'After step {step+1}:')\n",
    "        # display(octopuses)\n",
    "    \n",
    "    return total_flashes"
   ]
  },
  {
   "cell_type": "code",
   "execution_count": 76,
   "id": "7d7a9558",
   "metadata": {
    "ExecuteTime": {
     "end_time": "2021-12-11T19:55:39.928647Z",
     "start_time": "2021-12-11T19:55:39.887355Z"
    },
    "scrolled": true
   },
   "outputs": [
    {
     "data": {
      "text/plain": [
       "1656"
      ]
     },
     "execution_count": 76,
     "metadata": {},
     "output_type": "execute_result"
    }
   ],
   "source": [
    "solution(test_input)"
   ]
  },
  {
   "cell_type": "code",
   "execution_count": 77,
   "id": "30b7ce79",
   "metadata": {
    "ExecuteTime": {
     "end_time": "2021-12-11T19:55:40.514155Z",
     "start_time": "2021-12-11T19:55:40.471056Z"
    }
   },
   "outputs": [
    {
     "data": {
      "text/plain": [
       "1747"
      ]
     },
     "execution_count": 77,
     "metadata": {},
     "output_type": "execute_result"
    }
   ],
   "source": [
    "solution(full_input)"
   ]
  },
  {
   "cell_type": "markdown",
   "id": "a3df16a6",
   "metadata": {},
   "source": [
    "## Part 2:\n",
    "\n",
    "It seems like the individual flashes aren't bright enough to navigate. However, you might have a better option: the flashes seem to be synchronizing!\n",
    "\n",
    "In the example above, the first time all octopuses flash simultaneously is step 195:\n",
    "```\n",
    "After step 193:\n",
    "5877777777\n",
    "8877777777\n",
    "7777777777\n",
    "7777777777\n",
    "7777777777\n",
    "7777777777\n",
    "7777777777\n",
    "7777777777\n",
    "7777777777\n",
    "7777777777\n",
    "\n",
    "After step 194:\n",
    "6988888888\n",
    "9988888888\n",
    "8888888888\n",
    "8888888888\n",
    "8888888888\n",
    "8888888888\n",
    "8888888888\n",
    "8888888888\n",
    "8888888888\n",
    "8888888888\n",
    "\n",
    "After step 195:\n",
    "0000000000\n",
    "0000000000\n",
    "0000000000\n",
    "0000000000\n",
    "0000000000\n",
    "0000000000\n",
    "0000000000\n",
    "0000000000\n",
    "0000000000\n",
    "0000000000\n",
    "```\n",
    "\n",
    "If you can calculate the exact moments when the octopuses will all flash simultaneously, you should be able to navigate through the cavern. What is the first step during which all octopuses flash?\n",
    "\n"
   ]
  },
  {
   "cell_type": "code",
   "execution_count": 78,
   "id": "3117c9b4",
   "metadata": {
    "ExecuteTime": {
     "end_time": "2021-12-11T19:59:14.284430Z",
     "start_time": "2021-12-11T19:59:14.272037Z"
    }
   },
   "outputs": [],
   "source": [
    "def pad_with(vector, pad_width, iaxis, kwargs):\n",
    "    # From https://numpy.org/doc/stable/reference/generated/numpy.pad.html\n",
    "    pad_value = kwargs.get('padder', 0)\n",
    "    vector[:pad_width[0]] = pad_value\n",
    "    vector[-pad_width[1]:] = pad_value\n",
    "\n",
    "def check_edges(limits):\n",
    "    for i, val in enumerate(limits):\n",
    "        if val<1:\n",
    "            limits[i] = 1\n",
    "        if val>11:\n",
    "            limits[i] = 11\n",
    "    return limits\n",
    "    \n",
    "def increment(octopuses, row_start, row_end, col_start, col_end):\n",
    "    row_start, row_end, col_start, col_end = check_edges([row_start, row_end, col_start, col_end])\n",
    "    for i in range(row_start, row_end):\n",
    "        for j in range(col_start, col_end):\n",
    "            if octopuses[i][j] == -1:\n",
    "                continue\n",
    "            else:\n",
    "                octopuses[i][j] += 1\n",
    "\n",
    "def flash(octopuses, row_start, row_end, col_start, col_end):\n",
    "    row_start, row_end, col_start, col_end = check_edges([row_start, row_end, col_start, col_end])\n",
    "    for i in range(row_start, row_end):\n",
    "        for j in range(col_start, col_end):\n",
    "            if octopuses[i][j]>9:\n",
    "                increment(octopuses, i-1, i+2, j-1, j+2)\n",
    "                octopuses[i][j] = -1\n",
    "                flash(octopuses, i-1, i+2, j-1, j+2)\n",
    "            else:\n",
    "                continue\n",
    "\n",
    "def check_sync(octopuses):\n",
    "    flashes = 0\n",
    "    for i in range(1, 11):\n",
    "        for j in range(1, 11):\n",
    "            if octopuses[i][j] == -1:\n",
    "                flashes += 1\n",
    "                octopuses[i][j] = 0\n",
    "    if flashes == 100:\n",
    "        return True\n",
    "    else:\n",
    "        return False\n",
    "\n",
    "def solution(input_text):\n",
    "    octopuses = []\n",
    "    for line in input_text:\n",
    "        octopuses.append([int(num) for num in line])\n",
    "    octopuses = np.pad(octopuses, 1, pad_with)\n",
    "    total_flashes = 0\n",
    "    step = 0\n",
    "    \n",
    "    while True:\n",
    "        step += 1\n",
    "        increment(octopuses, 1, 11, 1, 11)\n",
    "        flash(octopuses, 1, 11, 1, 11)\n",
    "        if check_sync(octopuses):\n",
    "            return step"
   ]
  },
  {
   "cell_type": "code",
   "execution_count": 79,
   "id": "8bd17387",
   "metadata": {
    "ExecuteTime": {
     "end_time": "2021-12-11T19:59:42.901183Z",
     "start_time": "2021-12-11T19:59:42.822953Z"
    }
   },
   "outputs": [
    {
     "data": {
      "text/plain": [
       "195"
      ]
     },
     "execution_count": 79,
     "metadata": {},
     "output_type": "execute_result"
    }
   ],
   "source": [
    "solution(test_input)"
   ]
  },
  {
   "cell_type": "code",
   "execution_count": 80,
   "id": "ba8d3d25",
   "metadata": {
    "ExecuteTime": {
     "end_time": "2021-12-11T19:59:50.391712Z",
     "start_time": "2021-12-11T19:59:50.206239Z"
    }
   },
   "outputs": [
    {
     "data": {
      "text/plain": [
       "505"
      ]
     },
     "execution_count": 80,
     "metadata": {},
     "output_type": "execute_result"
    }
   ],
   "source": [
    "solution(full_input)"
   ]
  },
  {
   "cell_type": "code",
   "execution_count": null,
   "id": "5d27b26d",
   "metadata": {},
   "outputs": [],
   "source": []
  }
 ],
 "metadata": {
  "kernelspec": {
   "display_name": "Python 3 (ipykernel)",
   "language": "python",
   "name": "python3"
  },
  "language_info": {
   "codemirror_mode": {
    "name": "ipython",
    "version": 3
   },
   "file_extension": ".py",
   "mimetype": "text/x-python",
   "name": "python",
   "nbconvert_exporter": "python",
   "pygments_lexer": "ipython3",
   "version": "3.8.12"
  }
 },
 "nbformat": 4,
 "nbformat_minor": 5
}
