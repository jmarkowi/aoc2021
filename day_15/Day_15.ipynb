{
 "cells": [
  {
   "cell_type": "markdown",
   "id": "6f96dec5",
   "metadata": {},
   "source": [
    "# Day 15: Chiton\n",
    "\n",
    "## Part 1:\n",
    "\n",
    "You've almost reached the exit of the cave, but the walls are getting closer together. Your submarine can barely still fit, though; the main problem is that the walls of the cave are covered in chitons, and it would be best not to bump any of them.\n",
    "\n",
    "The cavern is large, but has a very low ceiling, restricting your motion to two dimensions. The shape of the cavern resembles a square; a quick scan of chiton density produces a map of risk level throughout the cave (your puzzle input). For example:\n",
    "```\n",
    "1163751742\n",
    "1381373672\n",
    "2136511328\n",
    "3694931569\n",
    "7463417111\n",
    "1319128137\n",
    "1359912421\n",
    "3125421639\n",
    "1293138521\n",
    "2311944581\n",
    "```\n",
    "\n",
    "You start in the top left position, your destination is the bottom right position, and you cannot move diagonally. The number at each position is its risk level; to determine the total risk of an entire path, add up the risk levels of each position you enter (that is, don't count the risk level of your starting position unless you enter it; leaving it adds no risk to your total).\n",
    "\n",
    "Your goal is to find a path with the lowest total risk. In this example, a path with the lowest total risk is highlighted here:\n",
    "```\n",
    "1163751742\n",
    "1381373672\n",
    "2136511328\n",
    "3694931569\n",
    "7463417111\n",
    "1319128137\n",
    "1359912421\n",
    "3125421639\n",
    "1293138521\n",
    "2311944581\n",
    "```\n",
    "\n",
    "The total risk of this path is 40 (the starting position is never entered, so its risk is not counted).\n",
    "\n",
    "**What is the lowest total risk of any path from the top left to the bottom right?**"
   ]
  },
  {
   "cell_type": "markdown",
   "id": "85c6c2f4",
   "metadata": {},
   "source": [
    "From my brief research, plus accidentally seeing some things on Reddit, it looks like I'll need to learn how to implement either something called [\"Djikstra's Shortest Path Algorithm\"](https://benalexkeen.com/implementing-djikstras-shortest-path-algorithm-with-python/) or the [\"A* Algorithm\"](https://www.educative.io/edpresso/what-is-the-a-star-algorithm), another searching algo.\n",
    "\n",
    "[Scipy also has a package for this](https://docs.scipy.org/doc/scipy/reference/generated/scipy.sparse.csgraph.dijkstra.html), which looks promising. The documentation says that the parameter `csgraph` is an \"array, matrix, or sparse matrix, 2 dimensions,\" which I think means I don't even need to create a graph structure?\n",
    "\n",
    "What I'm not totally sure about is if the given values in the input can serve immediately as graph edge weights? Or if something else has to happen first?"
   ]
  },
  {
   "cell_type": "code",
   "execution_count": 1,
   "id": "3a4469d7",
   "metadata": {
    "ExecuteTime": {
     "end_time": "2021-12-16T01:38:29.159469Z",
     "start_time": "2021-12-16T01:38:29.130099Z"
    }
   },
   "outputs": [
    {
     "data": {
      "text/plain": [
       "['1163751742',\n",
       " '1381373672',\n",
       " '2136511328',\n",
       " '3694931569',\n",
       " '7463417111',\n",
       " '1319128137',\n",
       " '1359912421',\n",
       " '3125421639',\n",
       " '1293138521',\n",
       " '2311944581']"
      ]
     },
     "execution_count": 1,
     "metadata": {},
     "output_type": "execute_result"
    }
   ],
   "source": [
    "# Get test input\n",
    "with open('./test_input_15.txt') as f:\n",
    "    lines = f.readlines()\n",
    "test_input = [line.strip() for line in lines]\n",
    "test_input"
   ]
  },
  {
   "cell_type": "code",
   "execution_count": 23,
   "id": "4d5e2e0c",
   "metadata": {
    "ExecuteTime": {
     "end_time": "2021-12-16T02:20:28.348123Z",
     "start_time": "2021-12-16T02:20:28.340494Z"
    }
   },
   "outputs": [
    {
     "data": {
      "text/plain": [
       "['4644191171337732143712186124233573969322319997149343221542323211321212169142231235619969739483792471',\n",
       " '2221293392911371411593639962951141752813313921357129613938931533621918583683134152965492646642538116',\n",
       " '2795791297555313411382761825567331471819212315341825911232943151936415218119321513121916912261697597',\n",
       " '1214537613992125712382233916937264885938549131332876391646112221213144242126287714516436119191917362',\n",
       " '1412811515321221111439182464221331329974283623974241113548427128422112192118983384463232121843121141',\n",
       " '3245255675412351991191259591561111991221265214221291175137165299373379821323142951719393624496355173',\n",
       " '7821636439137114454815234184431131151885565811162122141111291739141236111319913333811111656913241523',\n",
       " '1418191421242372241523343828141122624329116111754397113548982293191411111144261229944124833111847376',\n",
       " '1415223811928588114168213319591148928517427169381184991691112118229218263638951854741122722159931213',\n",
       " '1185112211216296846141231621592158511243111111346117648971911331811279689234291837116151264761299521',\n",
       " '2157175132842918592376386235452686111324627214122733298544113111534712212591393262313832165437912113',\n",
       " '1116112493319299432145649149992697711725421154424224312213396977142985512232427326338299642149836196',\n",
       " '6549229499212395113283291496151231611431251843344129142294319947252811251219755391642553173113821296',\n",
       " '4113393621316222283852914519968238256112711138455548538191592324236277743141198979959471862712168221',\n",
       " '1741128134354414241419176117119212641541117881955126161946213118193312324857619874348283423325548598',\n",
       " '3751141123712163925113282172764932353534116546231281293118591422522113149152261498874515989313554314',\n",
       " '4514551971341761251629465312511329291978512148461991612957411327621224192111126296379215871233811481',\n",
       " '3293217144136116298991343111524616863893234462111723531219141172273261192421911186619159615299151135',\n",
       " '7774221151285219996117174373446146141833811666627831912921211686311331622326641123291596353856612959',\n",
       " '1351122214751889195351764143332617127231529144667721221129811142151686112447161472232912114911498432',\n",
       " '7225121617125257598871963211815844737221578124248727132498851251391513323133165922818784851344161916',\n",
       " '1112187345141297179198141512813725433119213925696911577227241222816471151855194112221672612468122119',\n",
       " '1121991355992132552111213132191442529433379222141737721118515814411171128371158391185211772681121151',\n",
       " '3611317119849285611931216381814841117111553118123151123429121933733781431918246438319192543378241244',\n",
       " '2216973154335197135211535821482816136121216777138722357726122631253431191217262219637112927427564151',\n",
       " '5191998411823118893385217392312149124881216981988142455391121911741599925291712131939112984622594162',\n",
       " '9512532169823462117945393432541745813525811441272984121112552932917817923383181475411441151349226821',\n",
       " '3411874821911569271324123211326163841991128122341482721111115399651299314699266658849911711231323912',\n",
       " '7694685861132348951471861817731787685615352753172139744392721512255361251492221911127122613845334296',\n",
       " '1113697413329171211439739511931411924968888839312278319759419239814972811121854533399269742318264862',\n",
       " '3261667141191721233392311941113633191795822122212119221174142635691755551245192319949176814814316991',\n",
       " '2128111325114212336337636612529217112293426976253814989893331386522713418281571915911922457712133131',\n",
       " '8388911376618344994992583184752685539238543959953246364821659122425889299729352751111921721511272199',\n",
       " '2122155921932542114611151421752127825727141198197413114255419142717265333392684821477226612894862559',\n",
       " '1951121655921881375819253119554413525181757211271911799915211551299921612352952113953924955851737855',\n",
       " '8195214285611188396611335793711117151312316188149873422613973825989185924514991359346339783843843334',\n",
       " '5456833919619253912174733996922156217884375932117373542943268995816113232121789731392898427391181116',\n",
       " '4777217181611414812166144323146981138677578415811253842294432341423919922422381614691619319263292673',\n",
       " '1871985126952132273312531611829113511331968253631512251863889446196571436982662319393312117814312223',\n",
       " '4144118646856288731789179912621365532752715112255935546128459221171311137762973879129462196861223341',\n",
       " '5331743126787154471212425952845476245991112234222998154272399175132112413123715171136641911131729182',\n",
       " '6459321122282315131822523312117117212329381828311268157731316333126392285181951389374121861573611883',\n",
       " '1129519121932136168211173395152156158311198521161721877242125629612171323591229332881655592295117452',\n",
       " '4341822521595939622189164981116331219261274132118781411796193741169311918311822217877764111699911254',\n",
       " '4194536129171715722286327511111124828745972271325116713569374751324429292311753151131516413241834449',\n",
       " '2654142945631129956123367481172912142744199122191626922239395112592217148883514168932621184272178615',\n",
       " '4157713294921232144519182476441189526311311114777342965936356951743225131121191824416924178512318511',\n",
       " '6912411821531292292181267613662222516132574199134177394148798111514136319121566731314235317164439911',\n",
       " '1437321155329217229142678137571111359263414123211224312882335825119927798139832929124119648129273158',\n",
       " '1732391818138229589491914619358266961163398213919395213291514999415122435132113734813288381419819249',\n",
       " '4113346921421917866111857654393412952122411689932611554121571489921198684193331141319469559362897418',\n",
       " '3936181514241719511931294342174121311321234132821683441143221627121222912219121123417289754991212193',\n",
       " '5231211979311961116116212251613682828181291627731949883315367221227411122625338116897436595199253162',\n",
       " '2316316823133527186851941188913312213143341419114417621723676119643866413111512137248492799272283874',\n",
       " '3119192116842719272523136623911313937534137524214481191735181477319325633146114939176412112636323417',\n",
       " '2492714192521612141248169319193626151911919321234131296181642619511212191466114432116195132659299995',\n",
       " '8479281136811514162331236428357598113492342253565417152872842112725149934866538744331141447117166111',\n",
       " '8119623422439216225228196551954272643443171919589198617821835123212386869188415911424183945151334241',\n",
       " '2441131613411116653297822116736662114797231228699315262527411234919279976921765231169112216112919848',\n",
       " '3831541198992925558534136856443141276992238182251969817995131132423277612211112197312711991832328931',\n",
       " '4857223123934311294131922752993114976915557976818181275728832322272499252323121313288171744324765443',\n",
       " '6288391134124416473924343716745649381453218212143281127971317811511748813199842175114288225452114924',\n",
       " '2198193117421166796123194192539312141215519112972453238891813111365441112114115347214113916577619519',\n",
       " '4829218134763351139297321322168924116121484533211291255719399319238352153167888261311881156385931422',\n",
       " '1128131518795612511811698671411951513233914459321461852952978173818789621743591166392521464181816178',\n",
       " '1238497511773695513118432223193651911824333381942211111917892631655191328368558712842618374164192141',\n",
       " '5197814252643194532182168116535512142118911412974122512425237539834313411221165712489961923581131921',\n",
       " '5911812939579518465461451173198646171335111185511687173891229811734589488111952535421341871929712588',\n",
       " '1671651526181764772599923144212312319733142231365158737371635371423522142829181192112264525227179493',\n",
       " '7421112826829293192119831269314941212923232123538851869151292117144743917691154582417433994491521943',\n",
       " '9191346716972561945245244324428371279373282126116111451618129133112293262414113689369614111711445421',\n",
       " '2316166312199999129455391528271939493421961982164811491114318795721435615291362213311318321186121151',\n",
       " '9931241122891924292311432346646113846761512131981437311511562199358147246719196723818191337753291332',\n",
       " '1222114361952914555221222296169622784558836751121518966219244215831746229685414172141737963133114493',\n",
       " '5218313115227314139655246183769219129243229111742851151185617522413973822128342227812919165581163524',\n",
       " '9291132423113289278354324575153169229992171127124135461837121234526253159331631693469211222922141974',\n",
       " '8452363325897641925169932431428139199613218111915136812112119111995795222511113131372723121212711118',\n",
       " '2197227213274819481124191141229711865192112947469114147211523239645218213151193132942921122111792371',\n",
       " '9275351123144952331922211614314212365538513531132558123126944517881183166133275219943389521111173193',\n",
       " '1676123311913129662665831191951759436541912564748652528469419649571161712679147469912553225741913996',\n",
       " '3191353128953131423711131716711282864474834951441111829112836519349724223297611712534725619191814221',\n",
       " '4173761111187311916392959649155953281454675178259425336991997957211941375122951384157137917823346849',\n",
       " '6231866821187632943121892433531142499383519821114756411214331534451221651412644522124791217848229112',\n",
       " '4218513612717224329629361592483513734819131413112231512426831431594336223618413472242122315818213821',\n",
       " '1672513521112672575721281934545322131861691451188212512246411624946313848511278356324319145934746199',\n",
       " '7277435215413485681311177121429997231927125112162783124381311646223581365917794813269411132811948118',\n",
       " '1171256993195581123322244392112531112921826117456633951228891118213977135113912128736772927396511155',\n",
       " '7513423614827252911431224428129419471913857316347921811289615226221512981231328492565212872149824422',\n",
       " '4172392667172923414112281271468455913321542234539111143311488844993986926526232111912899467919673129',\n",
       " '2266423275271832192191927133161851111718244711617612592821169634215492721212529519332171925375214519',\n",
       " '2961251383676393331912784833198316856114611437958511134729539811313332428111416135419161136827381511',\n",
       " '2191313432414523594719493126599684313513119243281212311968932355513797175111911888954498999447129422',\n",
       " '4116222439791495331225415853138639142821696183279788473226912132161296116634441352242287514831641639',\n",
       " '2456122986411166492928291613291461786611191281413582887271831192125366139197116411714187313721143319',\n",
       " '3137321286181773323297599141911589613214333724715721771326962716833251289731121417114311929432923141',\n",
       " '4471591643429412532212412921891262226734323514259112982727616315933911299142522382749595219893774213',\n",
       " '8361434437271446111531163739832741723991191369215895121472249713859411711382822931149329516384858813',\n",
       " '7162151376995138977914242232912263921431263824116411237115179847816871745736216484215173821453691814',\n",
       " '1221412352976445211311141195476196991326389881615412212286967548955857131279126264116711124668334891',\n",
       " '6982434645865366398413542122219772368658463742631121963313814929811193197282524243293233246445611618']"
      ]
     },
     "execution_count": 23,
     "metadata": {},
     "output_type": "execute_result"
    }
   ],
   "source": [
    "# Get full input\n",
    "with open('./input_15.txt') as f:\n",
    "    lines = f.readlines()\n",
    "full_input = [line.strip() for line in lines]\n",
    "full_input"
   ]
  },
  {
   "cell_type": "code",
   "execution_count": 24,
   "id": "9df9a67c",
   "metadata": {
    "ExecuteTime": {
     "end_time": "2021-12-16T02:20:39.518701Z",
     "start_time": "2021-12-16T02:20:39.515528Z"
    }
   },
   "outputs": [
    {
     "name": "stdout",
     "output_type": "stream",
     "text": [
      "100\n",
      "100\n"
     ]
    }
   ],
   "source": [
    "print(len(full_input))\n",
    "print(len(full_input[0]))"
   ]
  },
  {
   "cell_type": "markdown",
   "id": "0cbd1a02",
   "metadata": {},
   "source": [
    "A* algo code from site linked above:"
   ]
  },
  {
   "cell_type": "code",
   "execution_count": 2,
   "id": "b46b06dd",
   "metadata": {
    "ExecuteTime": {
     "end_time": "2021-12-16T01:59:16.927967Z",
     "start_time": "2021-12-16T01:59:16.901467Z"
    }
   },
   "outputs": [
    {
     "name": "stdout",
     "output_type": "stream",
     "text": [
      "[(0, 0), (1, 1), (2, 2), (3, 3), (4, 3), (5, 4), (6, 5), (6, 6)]\n"
     ]
    }
   ],
   "source": [
    "class box():\n",
    "    \"\"\"A box class for A* Pathfinding\"\"\"\n",
    "\n",
    "    def __init__(self, parent=None, position=None):\n",
    "        self.parent = parent\n",
    "        self.position = position\n",
    "\n",
    "        self.g = 0\n",
    "        self.h = 0\n",
    "        self.f = 0\n",
    "\n",
    "    def __eq__(self, other):\n",
    "        return self.position == other.position\n",
    "\n",
    "\n",
    "def astar(maze, start, end):\n",
    "    \"\"\"Returns a list of tuples as a path from the given start to the given end in the given board\"\"\"\n",
    "\n",
    "    # Create start and end node\n",
    "    start_node = box(None, start)\n",
    "    start_node.g = start_node.h = start_node.f = 0\n",
    "    end_node = box(None, end)\n",
    "    end_node.g = end_node.h = end_node.f = 0\n",
    "\n",
    "    # Initialize both open and closed list\n",
    "    open_list = []\n",
    "    closed_list = []\n",
    "\n",
    "    # Add the start node\n",
    "    open_list.append(start_node)\n",
    "\n",
    "    # Loop until you find the end\n",
    "    while len(open_list) > 0:\n",
    "\n",
    "        # Get the current node\n",
    "        current_node = open_list[0]\n",
    "        current_index = 0\n",
    "        for index, item in enumerate(open_list):\n",
    "            if item.f < current_node.f:\n",
    "                current_node = item\n",
    "                current_index = index\n",
    "\n",
    "        # Pop current off open list, add to closed list\n",
    "        open_list.pop(current_index)\n",
    "        closed_list.append(current_node)\n",
    "\n",
    "        # Found the goal\n",
    "        if current_node == end_node:\n",
    "            path = []\n",
    "            current = current_node\n",
    "            while current is not None:\n",
    "                path.append(current.position)\n",
    "                current = current.parent\n",
    "            return path[::-1] # Return reversed path\n",
    "\n",
    "        # Generate children\n",
    "        children = []\n",
    "        for new_position in [(0, -1), (0, 1), (-1, 0), (1, 0), (-1, -1), (-1, 1), (1, -1), (1, 1)]: # Adjacent squares\n",
    "\n",
    "            # Get node position\n",
    "            node_position = (current_node.position[0] + new_position[0], current_node.position[1] + new_position[1])\n",
    "\n",
    "            # Make sure within range\n",
    "            if node_position[0] > (len(maze) - 1) or node_position[0] < 0 or node_position[1] > (len(maze[len(maze)-1]) -1) or node_position[1] < 0:\n",
    "                continue\n",
    "\n",
    "            # Make sure walkable terrain\n",
    "            if maze[node_position[0]][node_position[1]] != 0:\n",
    "                continue\n",
    "\n",
    "            # Create new node\n",
    "            new_node = box(current_node, node_position)\n",
    "\n",
    "            # Append\n",
    "            children.append(new_node)\n",
    "\n",
    "        # Loop through children\n",
    "        for child in children:\n",
    "\n",
    "            # Child is on the closed list\n",
    "            for closed_child in closed_list:\n",
    "                if child == closed_child:\n",
    "                    continue\n",
    "\n",
    "            # Create the f, g, and h values\n",
    "            child.g = current_node.g + 1\n",
    "            child.h = ((child.position[0] - end_node.position[0]) ** 2) + ((child.position[1] - end_node.position[1]) ** 2)\n",
    "            child.f = child.g + child.h\n",
    "\n",
    "            # Child is already in the open list\n",
    "            for open_node in open_list:\n",
    "                if child == open_node and child.g > open_node.g:\n",
    "                    continue\n",
    "\n",
    "            # Add the child to the open list\n",
    "            open_list.append(child)\n",
    "\n",
    "\n",
    "def main():\n",
    "\n",
    "    board = [[0, 0, 0, 0, 1, 0, 0, 0, 0, 0],\n",
    "            [0, 0, 0, 0, 1, 0, 0, 0, 0, 0],\n",
    "            [0, 0, 0, 0, 1, 0, 0, 0, 0, 0],\n",
    "            [0, 0, 0, 0, 1, 0, 0, 0, 0, 0],\n",
    "            [0, 0, 0, 0, 1, 0, 0, 0, 0, 0],\n",
    "            [0, 0, 0, 0, 0, 0, 0, 0, 0, 0],\n",
    "            [0, 0, 0, 0, 1, 0, 0, 0, 0, 0]]\n",
    "\n",
    "    start = (0, 0)\n",
    "    end = (6, 6)\n",
    "\n",
    "    path = astar(board, start, end)\n",
    "    print(path)\n",
    "\n",
    "\n",
    "if __name__ == '__main__':\n",
    "    main()"
   ]
  },
  {
   "cell_type": "markdown",
   "id": "b5be9147",
   "metadata": {},
   "source": [
    "Well damn, that's pretty much already spelled out haha. However, this seems set up to traverse a path with obstacles, not find the cheapest path according to weights. \n",
    "\n",
    "I do also really like the code and explanation linked to above for Djikstra's--it makes a lot of intuitive sense for how paths are compared while finding the quickest/cheapest path."
   ]
  },
  {
   "cell_type": "code",
   "execution_count": 3,
   "id": "11972687",
   "metadata": {
    "ExecuteTime": {
     "end_time": "2021-12-16T02:03:03.036519Z",
     "start_time": "2021-12-16T02:03:03.020278Z"
    }
   },
   "outputs": [
    {
     "data": {
      "text/plain": [
       "['X', 'B', 'H', 'G', 'Y']"
      ]
     },
     "execution_count": 3,
     "metadata": {},
     "output_type": "execute_result"
    }
   ],
   "source": [
    "from collections import defaultdict\n",
    "\n",
    "class Graph():\n",
    "    def __init__(self):\n",
    "        \"\"\"\n",
    "        self.edges is a dict of all possible next nodes\n",
    "        e.g. {'X': ['A', 'B', 'C', 'E'], ...}\n",
    "        self.weights has all the weights between two nodes,\n",
    "        with the two nodes as a tuple as the key\n",
    "        e.g. {('X', 'A'): 7, ('X', 'B'): 2, ...}\n",
    "        \"\"\"\n",
    "        self.edges = defaultdict(list)\n",
    "        self.weights = {}\n",
    "    \n",
    "    def add_edge(self, from_node, to_node, weight):\n",
    "        # Note: assumes edges are bi-directional\n",
    "        self.edges[from_node].append(to_node)\n",
    "        self.edges[to_node].append(from_node)\n",
    "        self.weights[(from_node, to_node)] = weight\n",
    "        self.weights[(to_node, from_node)] = weight\n",
    "\n",
    "# Create graph\n",
    "graph = Graph()\n",
    "\n",
    "edges = [\n",
    "    ('X', 'A', 7),\n",
    "    ('X', 'B', 2),\n",
    "    ('X', 'C', 3),\n",
    "    ('X', 'E', 4),\n",
    "    ('A', 'B', 3),\n",
    "    ('A', 'D', 4),\n",
    "    ('B', 'D', 4),\n",
    "    ('B', 'H', 5),\n",
    "    ('C', 'L', 2),\n",
    "    ('D', 'F', 1),\n",
    "    ('F', 'H', 3),\n",
    "    ('G', 'H', 2),\n",
    "    ('G', 'Y', 2),\n",
    "    ('I', 'J', 6),\n",
    "    ('I', 'K', 4),\n",
    "    ('I', 'L', 4),\n",
    "    ('J', 'L', 1),\n",
    "    ('K', 'Y', 5),\n",
    "]\n",
    "\n",
    "for edge in edges:\n",
    "    graph.add_edge(*edge)\n",
    "\n",
    "def dijsktra(graph, initial, end):\n",
    "    # shortest paths is a dict of nodes\n",
    "    # whose value is a tuple of (previous node, weight)\n",
    "    shortest_paths = {initial: (None, 0)}\n",
    "    current_node = initial\n",
    "    visited = set()\n",
    "    \n",
    "    while current_node != end:\n",
    "        visited.add(current_node)\n",
    "        destinations = graph.edges[current_node]\n",
    "        weight_to_current_node = shortest_paths[current_node][1]\n",
    "\n",
    "        for next_node in destinations:\n",
    "            weight = graph.weights[(current_node, next_node)] + weight_to_current_node\n",
    "            if next_node not in shortest_paths:\n",
    "                shortest_paths[next_node] = (current_node, weight)\n",
    "            else:\n",
    "                current_shortest_weight = shortest_paths[next_node][1]\n",
    "                if current_shortest_weight > weight:\n",
    "                    shortest_paths[next_node] = (current_node, weight)\n",
    "        \n",
    "        next_destinations = {node: shortest_paths[node] for node in shortest_paths if node not in visited}\n",
    "        if not next_destinations:\n",
    "            return \"Route Not Possible\"\n",
    "        # next node is the destination with the lowest weight\n",
    "        current_node = min(next_destinations, key=lambda k: next_destinations[k][1])\n",
    "    \n",
    "    # Work back through destinations in shortest path\n",
    "    path = []\n",
    "    while current_node is not None:\n",
    "        path.append(current_node)\n",
    "        next_node = shortest_paths[current_node][0]\n",
    "        current_node = next_node\n",
    "    # Reverse path\n",
    "    path = path[::-1]\n",
    "    return path\n",
    "\n",
    "dijsktra(graph, 'X', 'Y')"
   ]
  },
  {
   "cell_type": "markdown",
   "id": "8eb7cf2e",
   "metadata": {},
   "source": [
    "This seems more immediately applicable to today's puzzle. So now the trick is to create a graph from the input..."
   ]
  },
  {
   "cell_type": "code",
   "execution_count": 4,
   "id": "afcce6fe",
   "metadata": {
    "ExecuteTime": {
     "end_time": "2021-12-16T02:03:47.428422Z",
     "start_time": "2021-12-16T02:03:47.424542Z"
    }
   },
   "outputs": [
    {
     "data": {
      "text/plain": [
       "['1163751742',\n",
       " '1381373672',\n",
       " '2136511328',\n",
       " '3694931569',\n",
       " '7463417111',\n",
       " '1319128137',\n",
       " '1359912421',\n",
       " '3125421639',\n",
       " '1293138521',\n",
       " '2311944581']"
      ]
     },
     "execution_count": 4,
     "metadata": {},
     "output_type": "execute_result"
    }
   ],
   "source": [
    "test_input"
   ]
  },
  {
   "cell_type": "code",
   "execution_count": 9,
   "id": "e5370e9b",
   "metadata": {
    "ExecuteTime": {
     "end_time": "2021-12-16T02:06:48.045935Z",
     "start_time": "2021-12-16T02:06:47.162470Z"
    }
   },
   "outputs": [],
   "source": [
    "import numpy as np"
   ]
  },
  {
   "cell_type": "code",
   "execution_count": 54,
   "id": "98ea1521",
   "metadata": {
    "ExecuteTime": {
     "end_time": "2021-12-16T02:38:24.167230Z",
     "start_time": "2021-12-16T02:38:24.161768Z"
    }
   },
   "outputs": [
    {
     "data": {
      "text/plain": [
       "array([[1, 1, 6, 3, 7, 5, 1, 7, 4, 2],\n",
       "       [1, 3, 8, 1, 3, 7, 3, 6, 7, 2],\n",
       "       [2, 1, 3, 6, 5, 1, 1, 3, 2, 8],\n",
       "       [3, 6, 9, 4, 9, 3, 1, 5, 6, 9],\n",
       "       [7, 4, 6, 3, 4, 1, 7, 1, 1, 1],\n",
       "       [1, 3, 1, 9, 1, 2, 8, 1, 3, 7],\n",
       "       [1, 3, 5, 9, 9, 1, 2, 4, 2, 1],\n",
       "       [3, 1, 2, 5, 4, 2, 1, 6, 3, 9],\n",
       "       [1, 2, 9, 3, 1, 3, 8, 5, 2, 1],\n",
       "       [2, 3, 1, 1, 9, 4, 4, 5, 8, 1]])"
      ]
     },
     "execution_count": 54,
     "metadata": {},
     "output_type": "execute_result"
    }
   ],
   "source": [
    "np.array([[int(char) for char in line] for line in test_input])"
   ]
  },
  {
   "cell_type": "code",
   "execution_count": 26,
   "id": "dead0fdc",
   "metadata": {
    "ExecuteTime": {
     "end_time": "2021-12-16T02:22:44.401768Z",
     "start_time": "2021-12-16T02:22:44.399548Z"
    }
   },
   "outputs": [],
   "source": [
    "# Don't need--just checking edges instead w/same idea from Day 11\n",
    "\n",
    "# def pad_with(vector, pad_width, iaxis, kwargs):\n",
    "#     pad_value = kwargs.get('padder', 99)\n",
    "#     vector[:pad_width[0]] = pad_value\n",
    "#     vector[-pad_width[1]:] = pad_value\n",
    "\n",
    "# def make_padded_array(input_text):\n",
    "#     a = np.array([[int(char) for char in line] for line in input_text])\n",
    "#     return np.pad(a, 1, pad_with)"
   ]
  },
  {
   "cell_type": "code",
   "execution_count": 27,
   "id": "d6c6d363",
   "metadata": {
    "ExecuteTime": {
     "end_time": "2021-12-16T02:22:45.474843Z",
     "start_time": "2021-12-16T02:22:45.470990Z"
    }
   },
   "outputs": [
    {
     "data": {
      "text/plain": [
       "10"
      ]
     },
     "execution_count": 27,
     "metadata": {},
     "output_type": "execute_result"
    }
   ],
   "source": [
    "len(np.array([[int(char) for char in line] for line in test_input]))"
   ]
  },
  {
   "cell_type": "code",
   "execution_count": 70,
   "id": "f2f2e26a",
   "metadata": {
    "ExecuteTime": {
     "end_time": "2021-12-16T02:49:39.301596Z",
     "start_time": "2021-12-16T02:49:39.288625Z"
    }
   },
   "outputs": [],
   "source": [
    "from collections import defaultdict\n",
    "\n",
    "class Graph():\n",
    "    def __init__(self):\n",
    "        \"\"\"\n",
    "        self.edges is a dict of all possible next nodes\n",
    "        e.g. {'X': ['A', 'B', 'C', 'E'], ...}\n",
    "        self.weights has all the weights between two nodes,\n",
    "        with the two nodes as a tuple as the key\n",
    "        e.g. {('X', 'A'): 7, ('X', 'B'): 2, ...}\n",
    "        \"\"\"\n",
    "        self.edges = defaultdict(list)\n",
    "        self.weights = {}\n",
    "    \n",
    "    def add_edge(self, from_node, to_node, weight):\n",
    "        # Note: assumes edges are bi-directional\n",
    "        self.edges[from_node].append(to_node)\n",
    "        # self.edges[to_node].append(from_node)\n",
    "        self.weights[(from_node, to_node)] = weight\n",
    "        # self.weights[(to_node, from_node)] = weight\n",
    "\n",
    "\n",
    "def get_adjacent_indices(i, j, max_val):\n",
    "    # From https://stackoverflow.com/questions/51657128/how-to-access-the-adjacent-cells-of-each-elements-of-matrix-in-python?rq=1\n",
    "    adjacent_indices = []\n",
    "    if i > 0:\n",
    "        adjacent_indices.append((i-1,j))\n",
    "    if i+1 < max_val:\n",
    "        adjacent_indices.append((i+1,j))\n",
    "    if j > 0:\n",
    "        adjacent_indices.append((i,j-1))\n",
    "    if j+1 < max_val:\n",
    "        adjacent_indices.append((i,j+1))\n",
    "    return adjacent_indices\n",
    "\n",
    "\n",
    "def create_graph(input_text):\n",
    "    graph = Graph()\n",
    "    edges = []\n",
    "    a = [[int(char) for char in line] for line in input_text]\n",
    "    max_val = len(a)\n",
    "    \n",
    "    for i in range(max_val):\n",
    "        for j in range(max_val):\n",
    "            adjacents = get_adjacent_indices(i, j, max_val)\n",
    "            for coord in adjacents:\n",
    "                edges.append(((i, j), coord, a[coord[0]][coord[1]]))\n",
    "    \n",
    "    for edge in edges:\n",
    "        graph.add_edge(*edge)\n",
    "    \n",
    "    return a, graph\n",
    "      \n",
    "\n",
    "def dijsktra(graph, initial, end):\n",
    "    # shortest paths is a dict of nodes\n",
    "    # whose value is a tuple of (previous node, weight)\n",
    "    shortest_paths = {initial: (None, 0)}\n",
    "    current_node = initial\n",
    "    visited = set()\n",
    "    \n",
    "    while current_node != end:\n",
    "        visited.add(current_node)\n",
    "        destinations = graph.edges[current_node]\n",
    "        weight_to_current_node = shortest_paths[current_node][1]\n",
    "\n",
    "        for next_node in destinations:\n",
    "            weight = graph.weights[(current_node, next_node)] + weight_to_current_node\n",
    "            if next_node not in shortest_paths:\n",
    "                shortest_paths[next_node] = (current_node, weight)\n",
    "            else:\n",
    "                current_shortest_weight = shortest_paths[next_node][1]\n",
    "                if current_shortest_weight > weight:\n",
    "                    shortest_paths[next_node] = (current_node, weight)\n",
    "        \n",
    "        next_destinations = {node: shortest_paths[node] for node in shortest_paths if node not in visited}\n",
    "        if not next_destinations:\n",
    "            return \"Route Not Possible\"\n",
    "        # next node is the destination with the lowest weight\n",
    "        current_node = min(next_destinations, key=lambda k: next_destinations[k][1])\n",
    "    \n",
    "    # Work back through destinations in shortest path\n",
    "    path = []\n",
    "    while current_node is not None:\n",
    "        path.append(current_node)\n",
    "        next_node = shortest_paths[current_node][0]\n",
    "        current_node = next_node\n",
    "    # Reverse path\n",
    "    path = path[::-1]\n",
    "    return path\n",
    "\n",
    "def p1_solution(input_text):\n",
    "    a, graph = create_graph(input_text)\n",
    "    path = dijsktra(graph, (0,0), (len(input_text)-1, len(input_text)-1))\n",
    "    \n",
    "    total = 0\n",
    "    for coord in path[1:]:\n",
    "        total += a[coord[0]][coord[1]]\n",
    "        \n",
    "    return total"
   ]
  },
  {
   "cell_type": "code",
   "execution_count": 71,
   "id": "d8d0846d",
   "metadata": {
    "ExecuteTime": {
     "end_time": "2021-12-16T02:49:39.717420Z",
     "start_time": "2021-12-16T02:49:39.712319Z"
    },
    "scrolled": true
   },
   "outputs": [
    {
     "data": {
      "text/plain": [
       "40"
      ]
     },
     "execution_count": 71,
     "metadata": {},
     "output_type": "execute_result"
    }
   ],
   "source": [
    "p1_solution(test_input)"
   ]
  },
  {
   "cell_type": "code",
   "execution_count": 72,
   "id": "59bd69e0",
   "metadata": {
    "ExecuteTime": {
     "end_time": "2021-12-16T02:49:47.565077Z",
     "start_time": "2021-12-16T02:49:44.375837Z"
    }
   },
   "outputs": [
    {
     "data": {
      "text/plain": [
       "393"
      ]
     },
     "execution_count": 72,
     "metadata": {},
     "output_type": "execute_result"
    }
   ],
   "source": [
    "p1_solution(full_input)"
   ]
  },
  {
   "cell_type": "markdown",
   "id": "1bb1b7a0",
   "metadata": {},
   "source": [
    "A bunch of debugging before getting that solution. I realized that the weights being returned weren't right. After poking around with print statements, I realized that the original `Graph()` class created a bi-directional graph, which wrote over weights! The graph here is actually uni-directional, so I had to comment out a couple of lines in the class implementation.\n",
    "\n",
    "From there, it was simple to translate the path of coords to a sum."
   ]
  },
  {
   "cell_type": "markdown",
   "id": "a3df16a6",
   "metadata": {},
   "source": [
    "## Part 2:\n",
    "\n",
    "Now that you know how to find low-risk paths in the cave, you can try to find your way out.\n",
    "\n",
    "The entire cave is actually five times larger in both dimensions than you thought; the area you originally scanned is just one tile in a 5x5 tile area that forms the full map. Your original map tile repeats to the right and downward; each time the tile repeats to the right or downward, all of its risk levels are 1 higher than the tile immediately up or left of it. However, risk levels above 9 wrap back around to 1. So, if your original map had some position with a risk level of 8, then that same position on each of the 25 total tiles would be as follows:\n",
    "```\n",
    "8 9 1 2 3\n",
    "9 1 2 3 4\n",
    "1 2 3 4 5\n",
    "2 3 4 5 6\n",
    "3 4 5 6 7\n",
    "```\n",
    "Each single digit above corresponds to the example position with a value of 8 on the top-left tile. Because the full map is actually five times larger in both dimensions, that position appears a total of 25 times, once in each duplicated tile, with the values shown above.\n",
    "\n",
    "Here is the full five-times-as-large version of the first example above, with the original map in the top left corner highlighted:\n",
    "\n",
    "11637517422274862853338597396444961841755517295286\n",
    "13813736722492484783351359589446246169155735727126\n",
    "21365113283247622439435873354154698446526571955763\n",
    "36949315694715142671582625378269373648937148475914\n",
    "74634171118574528222968563933317967414442817852555\n",
    "13191281372421239248353234135946434524615754563572\n",
    "13599124212461123532357223464346833457545794456865\n",
    "31254216394236532741534764385264587549637569865174\n",
    "12931385212314249632342535174345364628545647573965\n",
    "23119445813422155692453326671356443778246755488935\n",
    "22748628533385973964449618417555172952866628316397\n",
    "24924847833513595894462461691557357271266846838237\n",
    "32476224394358733541546984465265719557637682166874\n",
    "47151426715826253782693736489371484759148259586125\n",
    "85745282229685639333179674144428178525553928963666\n",
    "24212392483532341359464345246157545635726865674683\n",
    "24611235323572234643468334575457944568656815567976\n",
    "42365327415347643852645875496375698651748671976285\n",
    "23142496323425351743453646285456475739656758684176\n",
    "34221556924533266713564437782467554889357866599146\n",
    "33859739644496184175551729528666283163977739427418\n",
    "35135958944624616915573572712668468382377957949348\n",
    "43587335415469844652657195576376821668748793277985\n",
    "58262537826937364893714847591482595861259361697236\n",
    "96856393331796741444281785255539289636664139174777\n",
    "35323413594643452461575456357268656746837976785794\n",
    "35722346434683345754579445686568155679767926678187\n",
    "53476438526458754963756986517486719762859782187396\n",
    "34253517434536462854564757396567586841767869795287\n",
    "45332667135644377824675548893578665991468977611257\n",
    "44961841755517295286662831639777394274188841538529\n",
    "46246169155735727126684683823779579493488168151459\n",
    "54698446526571955763768216687487932779859814388196\n",
    "69373648937148475914825958612593616972361472718347\n",
    "17967414442817852555392896366641391747775241285888\n",
    "46434524615754563572686567468379767857948187896815\n",
    "46833457545794456865681556797679266781878137789298\n",
    "64587549637569865174867197628597821873961893298417\n",
    "45364628545647573965675868417678697952878971816398\n",
    "56443778246755488935786659914689776112579188722368\n",
    "55172952866628316397773942741888415385299952649631\n",
    "57357271266846838237795794934881681514599279262561\n",
    "65719557637682166874879327798598143881961925499217\n",
    "71484759148259586125936169723614727183472583829458\n",
    "28178525553928963666413917477752412858886352396999\n",
    "57545635726865674683797678579481878968159298917926\n",
    "57944568656815567976792667818781377892989248891319\n",
    "75698651748671976285978218739618932984172914319528\n",
    "56475739656758684176786979528789718163989182927419\n",
    "67554889357866599146897761125791887223681299833479\n",
    "Equipped with the full map, you can now find a path from the top left corner to the bottom right corner with the lowest total risk:\n",
    "\n",
    "11637517422274862853338597396444961841755517295286\n",
    "13813736722492484783351359589446246169155735727126\n",
    "21365113283247622439435873354154698446526571955763\n",
    "36949315694715142671582625378269373648937148475914\n",
    "74634171118574528222968563933317967414442817852555\n",
    "13191281372421239248353234135946434524615754563572\n",
    "13599124212461123532357223464346833457545794456865\n",
    "31254216394236532741534764385264587549637569865174\n",
    "12931385212314249632342535174345364628545647573965\n",
    "23119445813422155692453326671356443778246755488935\n",
    "22748628533385973964449618417555172952866628316397\n",
    "24924847833513595894462461691557357271266846838237\n",
    "32476224394358733541546984465265719557637682166874\n",
    "47151426715826253782693736489371484759148259586125\n",
    "85745282229685639333179674144428178525553928963666\n",
    "24212392483532341359464345246157545635726865674683\n",
    "24611235323572234643468334575457944568656815567976\n",
    "42365327415347643852645875496375698651748671976285\n",
    "23142496323425351743453646285456475739656758684176\n",
    "34221556924533266713564437782467554889357866599146\n",
    "33859739644496184175551729528666283163977739427418\n",
    "35135958944624616915573572712668468382377957949348\n",
    "43587335415469844652657195576376821668748793277985\n",
    "58262537826937364893714847591482595861259361697236\n",
    "96856393331796741444281785255539289636664139174777\n",
    "35323413594643452461575456357268656746837976785794\n",
    "35722346434683345754579445686568155679767926678187\n",
    "53476438526458754963756986517486719762859782187396\n",
    "34253517434536462854564757396567586841767869795287\n",
    "45332667135644377824675548893578665991468977611257\n",
    "44961841755517295286662831639777394274188841538529\n",
    "46246169155735727126684683823779579493488168151459\n",
    "54698446526571955763768216687487932779859814388196\n",
    "69373648937148475914825958612593616972361472718347\n",
    "17967414442817852555392896366641391747775241285888\n",
    "46434524615754563572686567468379767857948187896815\n",
    "46833457545794456865681556797679266781878137789298\n",
    "64587549637569865174867197628597821873961893298417\n",
    "45364628545647573965675868417678697952878971816398\n",
    "56443778246755488935786659914689776112579188722368\n",
    "55172952866628316397773942741888415385299952649631\n",
    "57357271266846838237795794934881681514599279262561\n",
    "65719557637682166874879327798598143881961925499217\n",
    "71484759148259586125936169723614727183472583829458\n",
    "28178525553928963666413917477752412858886352396999\n",
    "57545635726865674683797678579481878968159298917926\n",
    "57944568656815567976792667818781377892989248891319\n",
    "75698651748671976285978218739618932984172914319528\n",
    "56475739656758684176786979528789718163989182927419\n",
    "67554889357866599146897761125791887223681299833479\n",
    "The total risk of this path is 315 (the starting position is still never entered, so its risk is not counted).\n",
    "\n",
    "Using the full map, what is the lowest total risk of any path from the top left to the bottom right?"
   ]
  },
  {
   "cell_type": "code",
   "execution_count": null,
   "id": "02fc930b",
   "metadata": {},
   "outputs": [],
   "source": []
  }
 ],
 "metadata": {
  "kernelspec": {
   "display_name": "Python 3 (ipykernel)",
   "language": "python",
   "name": "python3"
  },
  "language_info": {
   "codemirror_mode": {
    "name": "ipython",
    "version": 3
   },
   "file_extension": ".py",
   "mimetype": "text/x-python",
   "name": "python",
   "nbconvert_exporter": "python",
   "pygments_lexer": "ipython3",
   "version": "3.8.12"
  }
 },
 "nbformat": 4,
 "nbformat_minor": 5
}
