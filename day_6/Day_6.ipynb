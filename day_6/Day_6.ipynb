{
 "cells": [
  {
   "cell_type": "markdown",
   "id": "9bce0cc9",
   "metadata": {},
   "source": [
    "# Day 6: Lanternfish\n",
    "\n",
    "## Part 1:\n",
    "\n",
    "The sea floor is getting steeper. Maybe the sleigh keys got carried this way?\n",
    "\n",
    "A massive school of glowing lanternfish swims past. They must spawn quickly to reach such large numbers - maybe exponentially quickly? You should model their growth rate to be sure.\n",
    "\n",
    "Although you know nothing about this specific species of lanternfish, you make some guesses about their attributes. Surely, each lanternfish creates a new lanternfish once every 7 days.\n",
    "\n",
    "However, this process isn't necessarily synchronized between every lanternfish - one lanternfish might have 2 days left until it creates another lanternfish, while another might have 4. So, you can model each fish as a single number that represents the number of days until it creates a new lanternfish.\n",
    "\n",
    "Furthermore, you reason, a new lanternfish would surely need slightly longer before it's capable of producing more lanternfish: two more days for its first cycle.\n",
    "\n",
    "So, suppose you have a lanternfish with an internal timer value of 3:\n",
    "\n",
    " - After one day, its internal timer would become 2.\n",
    " - After another day, its internal timer would become 1.\n",
    " - After another day, its internal timer would become 0.\n",
    " - After another day, its internal timer would reset to 6, and it would create a new lanternfish with an internal timer of 8.\n",
    " - After another day, the first lanternfish would have an internal timer of 5, and the second lanternfish would have an internal timer of 7.\n",
    " - A lanternfish that creates a new fish resets its timer to 6, not 7 (because 0 is included as a valid timer value). The new lanternfish starts with an internal timer of 8 and does not start counting down until the next day.\n",
    "\n",
    "Realizing what you're trying to do, the submarine automatically produces a list of the ages of several hundred nearby lanternfish (your puzzle input). For example, suppose you were given the following list:\n",
    "\n",
    "`3,4,3,1,2`\n",
    "\n",
    "This list means that the first fish has an internal timer of 3, the second fish has an internal timer of 4, and so on until the fifth fish, which has an internal timer of 2. Simulating these fish over several days would proceed as follows:\n",
    "```\n",
    "Initial state: 3,4,3,1,2\n",
    "After  1 day:  2,3,2,0,1\n",
    "After  2 days: 1,2,1,6,0,8\n",
    "After  3 days: 0,1,0,5,6,7,8\n",
    "After  4 days: 6,0,6,4,5,6,7,8,8\n",
    "After  5 days: 5,6,5,3,4,5,6,7,7,8\n",
    "After  6 days: 4,5,4,2,3,4,5,6,6,7\n",
    "After  7 days: 3,4,3,1,2,3,4,5,5,6\n",
    "After  8 days: 2,3,2,0,1,2,3,4,4,5\n",
    "After  9 days: 1,2,1,6,0,1,2,3,3,4,8\n",
    "After 10 days: 0,1,0,5,6,0,1,2,2,3,7,8\n",
    "After 11 days: 6,0,6,4,5,6,0,1,1,2,6,7,8,8,8\n",
    "After 12 days: 5,6,5,3,4,5,6,0,0,1,5,6,7,7,7,8,8\n",
    "After 13 days: 4,5,4,2,3,4,5,6,6,0,4,5,6,6,6,7,7,8,8\n",
    "After 14 days: 3,4,3,1,2,3,4,5,5,6,3,4,5,5,5,6,6,7,7,8\n",
    "After 15 days: 2,3,2,0,1,2,3,4,4,5,2,3,4,4,4,5,5,6,6,7\n",
    "After 16 days: 1,2,1,6,0,1,2,3,3,4,1,2,3,3,3,4,4,5,5,6,8\n",
    "After 17 days: 0,1,0,5,6,0,1,2,2,3,0,1,2,2,2,3,3,4,4,5,7,8\n",
    "After 18 days: 6,0,6,4,5,6,0,1,1,2,6,0,1,1,1,2,2,3,3,4,6,7,8,8,8,8\n",
    "```\n",
    "Each day, a 0 becomes a 6 and adds a new 8 to the end of the list, while each other number decreases by 1 if it was present at the start of the day.\n",
    "\n",
    "In this example, after 18 days, there are a total of 26 fish. After 80 days, there would be a total of 5934.\n",
    "\n",
    "Find a way to simulate lanternfish. **How many lanternfish would there be after 80 days?**"
   ]
  },
  {
   "cell_type": "code",
   "execution_count": 1,
   "id": "eb1c1c3d",
   "metadata": {
    "ExecuteTime": {
     "end_time": "2021-12-07T02:08:42.475533Z",
     "start_time": "2021-12-07T02:08:42.412489Z"
    }
   },
   "outputs": [
    {
     "data": {
      "text/plain": [
       "[3, 4, 3, 1, 2]"
      ]
     },
     "execution_count": 1,
     "metadata": {},
     "output_type": "execute_result"
    }
   ],
   "source": [
    "# Get test input\n",
    "with open('./test_input_6.txt') as f:\n",
    "    lines = f.readlines()\n",
    "test_input = [int(num) for num in lines[0].split(',')]\n",
    "test_input"
   ]
  },
  {
   "cell_type": "markdown",
   "id": "c9dd61b3",
   "metadata": {},
   "source": [
    "This seems pretty simple... *[Narrator: it wasn't as simple as it sounded.]*"
   ]
  },
  {
   "cell_type": "code",
   "execution_count": 2,
   "id": "8d2f7dfd",
   "metadata": {
    "ExecuteTime": {
     "end_time": "2021-12-07T02:08:43.017260Z",
     "start_time": "2021-12-07T02:08:43.013564Z"
    }
   },
   "outputs": [
    {
     "data": {
      "text/plain": [
       "[3, 4, 3, 1, 2]"
      ]
     },
     "execution_count": 2,
     "metadata": {},
     "output_type": "execute_result"
    }
   ],
   "source": [
    "fish = test_input.copy()\n",
    "fish"
   ]
  },
  {
   "cell_type": "code",
   "execution_count": 3,
   "id": "41305840",
   "metadata": {
    "ExecuteTime": {
     "end_time": "2021-12-07T02:08:43.545748Z",
     "start_time": "2021-12-07T02:08:43.541755Z"
    }
   },
   "outputs": [
    {
     "data": {
      "text/plain": [
       "[3, 4, 3, 1, 2, 8, 8, 8, 8, 8, 8, 8, 8, 8, 8]"
      ]
     },
     "execution_count": 3,
     "metadata": {},
     "output_type": "execute_result"
    }
   ],
   "source": [
    "for i in range(10):\n",
    "    fish.append(8)\n",
    "fish"
   ]
  },
  {
   "cell_type": "code",
   "execution_count": 4,
   "id": "e855b22b",
   "metadata": {
    "ExecuteTime": {
     "end_time": "2021-12-07T02:08:43.898545Z",
     "start_time": "2021-12-07T02:08:43.894527Z"
    }
   },
   "outputs": [
    {
     "data": {
      "text/plain": [
       "[3, 4, 3, 1, 2]"
      ]
     },
     "execution_count": 4,
     "metadata": {},
     "output_type": "execute_result"
    }
   ],
   "source": [
    "test_input"
   ]
  },
  {
   "cell_type": "code",
   "execution_count": 5,
   "id": "1c56dd79",
   "metadata": {
    "ExecuteTime": {
     "end_time": "2021-12-07T02:08:44.267232Z",
     "start_time": "2021-12-07T02:08:44.261349Z"
    }
   },
   "outputs": [],
   "source": [
    "def timer(fish):\n",
    "    new_fish = 0\n",
    "    for i in range(len(fish)):\n",
    "        if fish[i] > 0:\n",
    "            fish[i] -= 1\n",
    "        else:\n",
    "            fish[i] = 6\n",
    "            new_fish += 1   \n",
    "    return new_fish\n",
    "\n",
    "def solution(input_text, days):\n",
    "    fish = input_text.copy()\n",
    "    for _ in range(days):\n",
    "        new_fish = timer(fish)\n",
    "        for i in range(new_fish):\n",
    "            fish.append(8)\n",
    "    \n",
    "    return len(fish)"
   ]
  },
  {
   "cell_type": "code",
   "execution_count": 6,
   "id": "dce7642a",
   "metadata": {
    "ExecuteTime": {
     "end_time": "2021-12-07T02:08:44.851785Z",
     "start_time": "2021-12-07T02:08:44.838458Z"
    }
   },
   "outputs": [
    {
     "data": {
      "text/plain": [
       "5934"
      ]
     },
     "execution_count": 6,
     "metadata": {},
     "output_type": "execute_result"
    }
   ],
   "source": [
    "solution(test_input, 80)\n",
    "# 5934"
   ]
  },
  {
   "cell_type": "code",
   "execution_count": 7,
   "id": "f4b923e0",
   "metadata": {
    "ExecuteTime": {
     "end_time": "2021-12-07T02:08:45.137643Z",
     "start_time": "2021-12-07T02:08:45.128674Z"
    }
   },
   "outputs": [
    {
     "data": {
      "text/plain": [
       "[1,\n",
       " 1,\n",
       " 1,\n",
       " 3,\n",
       " 3,\n",
       " 2,\n",
       " 1,\n",
       " 1,\n",
       " 1,\n",
       " 1,\n",
       " 1,\n",
       " 4,\n",
       " 4,\n",
       " 1,\n",
       " 4,\n",
       " 1,\n",
       " 4,\n",
       " 1,\n",
       " 1,\n",
       " 4,\n",
       " 1,\n",
       " 1,\n",
       " 1,\n",
       " 3,\n",
       " 3,\n",
       " 2,\n",
       " 3,\n",
       " 1,\n",
       " 2,\n",
       " 1,\n",
       " 1,\n",
       " 1,\n",
       " 1,\n",
       " 1,\n",
       " 1,\n",
       " 1,\n",
       " 3,\n",
       " 4,\n",
       " 1,\n",
       " 1,\n",
       " 4,\n",
       " 3,\n",
       " 1,\n",
       " 2,\n",
       " 3,\n",
       " 1,\n",
       " 1,\n",
       " 1,\n",
       " 5,\n",
       " 2,\n",
       " 1,\n",
       " 1,\n",
       " 1,\n",
       " 1,\n",
       " 2,\n",
       " 1,\n",
       " 2,\n",
       " 5,\n",
       " 2,\n",
       " 2,\n",
       " 1,\n",
       " 1,\n",
       " 1,\n",
       " 3,\n",
       " 1,\n",
       " 1,\n",
       " 1,\n",
       " 4,\n",
       " 1,\n",
       " 1,\n",
       " 1,\n",
       " 1,\n",
       " 1,\n",
       " 3,\n",
       " 3,\n",
       " 2,\n",
       " 1,\n",
       " 1,\n",
       " 3,\n",
       " 1,\n",
       " 4,\n",
       " 1,\n",
       " 2,\n",
       " 1,\n",
       " 5,\n",
       " 1,\n",
       " 4,\n",
       " 2,\n",
       " 1,\n",
       " 1,\n",
       " 5,\n",
       " 1,\n",
       " 1,\n",
       " 1,\n",
       " 1,\n",
       " 4,\n",
       " 3,\n",
       " 1,\n",
       " 3,\n",
       " 2,\n",
       " 1,\n",
       " 4,\n",
       " 1,\n",
       " 1,\n",
       " 2,\n",
       " 1,\n",
       " 4,\n",
       " 4,\n",
       " 5,\n",
       " 1,\n",
       " 3,\n",
       " 1,\n",
       " 1,\n",
       " 1,\n",
       " 1,\n",
       " 2,\n",
       " 1,\n",
       " 4,\n",
       " 4,\n",
       " 1,\n",
       " 1,\n",
       " 1,\n",
       " 3,\n",
       " 1,\n",
       " 5,\n",
       " 1,\n",
       " 1,\n",
       " 1,\n",
       " 1,\n",
       " 1,\n",
       " 3,\n",
       " 2,\n",
       " 5,\n",
       " 1,\n",
       " 5,\n",
       " 4,\n",
       " 1,\n",
       " 4,\n",
       " 1,\n",
       " 3,\n",
       " 5,\n",
       " 1,\n",
       " 2,\n",
       " 5,\n",
       " 4,\n",
       " 3,\n",
       " 3,\n",
       " 2,\n",
       " 4,\n",
       " 1,\n",
       " 5,\n",
       " 1,\n",
       " 1,\n",
       " 2,\n",
       " 4,\n",
       " 1,\n",
       " 1,\n",
       " 1,\n",
       " 1,\n",
       " 2,\n",
       " 4,\n",
       " 1,\n",
       " 2,\n",
       " 5,\n",
       " 1,\n",
       " 4,\n",
       " 1,\n",
       " 4,\n",
       " 2,\n",
       " 5,\n",
       " 4,\n",
       " 1,\n",
       " 1,\n",
       " 2,\n",
       " 2,\n",
       " 4,\n",
       " 1,\n",
       " 5,\n",
       " 1,\n",
       " 4,\n",
       " 3,\n",
       " 3,\n",
       " 2,\n",
       " 3,\n",
       " 1,\n",
       " 2,\n",
       " 3,\n",
       " 1,\n",
       " 4,\n",
       " 1,\n",
       " 1,\n",
       " 1,\n",
       " 3,\n",
       " 5,\n",
       " 1,\n",
       " 1,\n",
       " 1,\n",
       " 3,\n",
       " 5,\n",
       " 1,\n",
       " 1,\n",
       " 4,\n",
       " 1,\n",
       " 4,\n",
       " 4,\n",
       " 1,\n",
       " 3,\n",
       " 1,\n",
       " 1,\n",
       " 1,\n",
       " 2,\n",
       " 3,\n",
       " 3,\n",
       " 2,\n",
       " 5,\n",
       " 1,\n",
       " 2,\n",
       " 1,\n",
       " 1,\n",
       " 2,\n",
       " 2,\n",
       " 1,\n",
       " 3,\n",
       " 4,\n",
       " 1,\n",
       " 3,\n",
       " 5,\n",
       " 1,\n",
       " 3,\n",
       " 4,\n",
       " 3,\n",
       " 5,\n",
       " 1,\n",
       " 1,\n",
       " 5,\n",
       " 1,\n",
       " 3,\n",
       " 3,\n",
       " 2,\n",
       " 1,\n",
       " 5,\n",
       " 1,\n",
       " 1,\n",
       " 3,\n",
       " 1,\n",
       " 1,\n",
       " 3,\n",
       " 1,\n",
       " 2,\n",
       " 1,\n",
       " 3,\n",
       " 2,\n",
       " 5,\n",
       " 1,\n",
       " 3,\n",
       " 1,\n",
       " 1,\n",
       " 3,\n",
       " 5,\n",
       " 1,\n",
       " 1,\n",
       " 1,\n",
       " 1,\n",
       " 2,\n",
       " 1,\n",
       " 2,\n",
       " 4,\n",
       " 4,\n",
       " 4,\n",
       " 2,\n",
       " 2,\n",
       " 3,\n",
       " 1,\n",
       " 5,\n",
       " 1,\n",
       " 2,\n",
       " 1,\n",
       " 3,\n",
       " 3,\n",
       " 3,\n",
       " 4,\n",
       " 1,\n",
       " 1,\n",
       " 5,\n",
       " 1,\n",
       " 3,\n",
       " 2,\n",
       " 4,\n",
       " 1,\n",
       " 5,\n",
       " 5,\n",
       " 1,\n",
       " 4,\n",
       " 4,\n",
       " 1,\n",
       " 4,\n",
       " 4,\n",
       " 1,\n",
       " 1,\n",
       " 2]"
      ]
     },
     "execution_count": 7,
     "metadata": {},
     "output_type": "execute_result"
    }
   ],
   "source": [
    "# Get full input\n",
    "with open('./input_6.txt') as f:\n",
    "    lines = f.readlines()\n",
    "full_input = [int(num) for num in lines[0].split(',')]\n",
    "full_input"
   ]
  },
  {
   "cell_type": "code",
   "execution_count": 8,
   "id": "b216c93d",
   "metadata": {
    "ExecuteTime": {
     "end_time": "2021-12-07T02:08:46.117024Z",
     "start_time": "2021-12-07T02:08:45.549967Z"
    }
   },
   "outputs": [
    {
     "data": {
      "text/plain": [
       "372984"
      ]
     },
     "execution_count": 8,
     "metadata": {},
     "output_type": "execute_result"
    }
   ],
   "source": [
    "solution(full_input, 80)"
   ]
  },
  {
   "cell_type": "markdown",
   "id": "0d984972",
   "metadata": {},
   "source": [
    "## Part 2:\n",
    "\n",
    "Suppose the lanternfish live forever and have unlimited food and space. Would they take over the entire ocean?\n",
    "\n",
    "After 256 days in the example above, there would be a total of 26984457539 lanternfish!\n",
    "\n",
    "**How many lanternfish would there be after 256 days?**\n",
    "\n",
    "*Ah, it seems straightforward--just run the function with 256. However, I suspect that this number is too large and will result in hanging code and an overwhelmed processor. Clearly there must be another way to calculate this that doesn't take exponential time!"
   ]
  },
  {
   "cell_type": "code",
   "execution_count": 55,
   "id": "bec6e701",
   "metadata": {
    "ExecuteTime": {
     "end_time": "2021-12-06T15:54:04.137084Z",
     "start_time": "2021-12-06T15:48:42.042615Z"
    },
    "scrolled": true
   },
   "outputs": [
    {
     "ename": "KeyboardInterrupt",
     "evalue": "",
     "output_type": "error",
     "traceback": [
      "\u001b[0;31m---------------------------------------------------------------------------\u001b[0m",
      "\u001b[0;31mKeyboardInterrupt\u001b[0m                         Traceback (most recent call last)",
      "\u001b[0;32m/var/folders/9x/wbkrnd110yvbd07_vkr2ksgc0000gp/T/ipykernel_24905/1616201711.py\u001b[0m in \u001b[0;36m<module>\u001b[0;34m\u001b[0m\n\u001b[0;32m----> 1\u001b[0;31m \u001b[0msolution\u001b[0m\u001b[0;34m(\u001b[0m\u001b[0mfull_input\u001b[0m\u001b[0;34m,\u001b[0m \u001b[0;36m256\u001b[0m\u001b[0;34m)\u001b[0m\u001b[0;34m\u001b[0m\u001b[0;34m\u001b[0m\u001b[0m\n\u001b[0m",
      "\u001b[0;32m/var/folders/9x/wbkrnd110yvbd07_vkr2ksgc0000gp/T/ipykernel_24905/2213703589.py\u001b[0m in \u001b[0;36msolution\u001b[0;34m(input_text, days)\u001b[0m\n\u001b[1;32m     12\u001b[0m     \u001b[0mfish\u001b[0m \u001b[0;34m=\u001b[0m \u001b[0minput_text\u001b[0m\u001b[0;34m.\u001b[0m\u001b[0mcopy\u001b[0m\u001b[0;34m(\u001b[0m\u001b[0;34m)\u001b[0m\u001b[0;34m\u001b[0m\u001b[0;34m\u001b[0m\u001b[0m\n\u001b[1;32m     13\u001b[0m     \u001b[0;32mfor\u001b[0m \u001b[0m_\u001b[0m \u001b[0;32min\u001b[0m \u001b[0mrange\u001b[0m\u001b[0;34m(\u001b[0m\u001b[0mdays\u001b[0m\u001b[0;34m)\u001b[0m\u001b[0;34m:\u001b[0m\u001b[0;34m\u001b[0m\u001b[0;34m\u001b[0m\u001b[0m\n\u001b[0;32m---> 14\u001b[0;31m         \u001b[0mnew_fish\u001b[0m \u001b[0;34m=\u001b[0m \u001b[0mtimer\u001b[0m\u001b[0;34m(\u001b[0m\u001b[0mfish\u001b[0m\u001b[0;34m)\u001b[0m\u001b[0;34m\u001b[0m\u001b[0;34m\u001b[0m\u001b[0m\n\u001b[0m\u001b[1;32m     15\u001b[0m         \u001b[0;32mfor\u001b[0m \u001b[0mi\u001b[0m \u001b[0;32min\u001b[0m \u001b[0mrange\u001b[0m\u001b[0;34m(\u001b[0m\u001b[0mnew_fish\u001b[0m\u001b[0;34m)\u001b[0m\u001b[0;34m:\u001b[0m\u001b[0;34m\u001b[0m\u001b[0;34m\u001b[0m\u001b[0m\n\u001b[1;32m     16\u001b[0m             \u001b[0mfish\u001b[0m\u001b[0;34m.\u001b[0m\u001b[0mappend\u001b[0m\u001b[0;34m(\u001b[0m\u001b[0;36m8\u001b[0m\u001b[0;34m)\u001b[0m\u001b[0;34m\u001b[0m\u001b[0;34m\u001b[0m\u001b[0m\n",
      "\u001b[0;32m/var/folders/9x/wbkrnd110yvbd07_vkr2ksgc0000gp/T/ipykernel_24905/2213703589.py\u001b[0m in \u001b[0;36mtimer\u001b[0;34m(fish)\u001b[0m\n\u001b[1;32m      3\u001b[0m     \u001b[0;32mfor\u001b[0m \u001b[0mi\u001b[0m \u001b[0;32min\u001b[0m \u001b[0mrange\u001b[0m\u001b[0;34m(\u001b[0m\u001b[0mlen\u001b[0m\u001b[0;34m(\u001b[0m\u001b[0mfish\u001b[0m\u001b[0;34m)\u001b[0m\u001b[0;34m)\u001b[0m\u001b[0;34m:\u001b[0m\u001b[0;34m\u001b[0m\u001b[0;34m\u001b[0m\u001b[0m\n\u001b[1;32m      4\u001b[0m         \u001b[0;32mif\u001b[0m \u001b[0mfish\u001b[0m\u001b[0;34m[\u001b[0m\u001b[0mi\u001b[0m\u001b[0;34m]\u001b[0m \u001b[0;34m>\u001b[0m \u001b[0;36m0\u001b[0m\u001b[0;34m:\u001b[0m\u001b[0;34m\u001b[0m\u001b[0;34m\u001b[0m\u001b[0m\n\u001b[0;32m----> 5\u001b[0;31m             \u001b[0mfish\u001b[0m\u001b[0;34m[\u001b[0m\u001b[0mi\u001b[0m\u001b[0;34m]\u001b[0m \u001b[0;34m-=\u001b[0m \u001b[0;36m1\u001b[0m\u001b[0;34m\u001b[0m\u001b[0;34m\u001b[0m\u001b[0m\n\u001b[0m\u001b[1;32m      6\u001b[0m         \u001b[0;32melse\u001b[0m\u001b[0;34m:\u001b[0m\u001b[0;34m\u001b[0m\u001b[0;34m\u001b[0m\u001b[0m\n\u001b[1;32m      7\u001b[0m             \u001b[0mfish\u001b[0m\u001b[0;34m[\u001b[0m\u001b[0mi\u001b[0m\u001b[0;34m]\u001b[0m \u001b[0;34m=\u001b[0m \u001b[0;36m6\u001b[0m\u001b[0;34m\u001b[0m\u001b[0;34m\u001b[0m\u001b[0m\n",
      "\u001b[0;31mKeyboardInterrupt\u001b[0m: "
     ]
    }
   ],
   "source": [
    "solution(full_input, 256)"
   ]
  },
  {
   "cell_type": "code",
   "execution_count": 9,
   "id": "2a06da8d",
   "metadata": {
    "ExecuteTime": {
     "end_time": "2021-12-07T02:08:49.492907Z",
     "start_time": "2021-12-07T02:08:49.485474Z"
    }
   },
   "outputs": [],
   "source": [
    "def timer(fish):\n",
    "    new_fish = 0\n",
    "    for i in range(len(fish)):\n",
    "        if fish[i] > 0:\n",
    "            fish[i] -= 1\n",
    "        else:\n",
    "            fish[i] = 6\n",
    "            new_fish += 1   \n",
    "    return new_fish\n",
    "\n",
    "def long_solution(input_text, days):\n",
    "    fish = input_text.copy()\n",
    "    new_fish_counts = []\n",
    "    sums = []\n",
    "    total_num_fish = []\n",
    "    for _ in range(days):\n",
    "        new_fish = timer(fish)\n",
    "        new_fish_counts.append(new_fish)\n",
    "        for i in range(new_fish):\n",
    "            fish.append(8)\n",
    "        sums.append(sum(fish))\n",
    "        total_num_fish.append(len(fish))\n",
    "    \n",
    "    return new_fish_counts, sums, total_num_fish"
   ]
  },
  {
   "cell_type": "code",
   "execution_count": 10,
   "id": "2d6b275a",
   "metadata": {
    "ExecuteTime": {
     "end_time": "2021-12-07T02:08:51.495787Z",
     "start_time": "2021-12-07T02:08:51.437232Z"
    }
   },
   "outputs": [],
   "source": [
    "counts, sums, fish = long_solution(test_input, 100)"
   ]
  },
  {
   "cell_type": "code",
   "execution_count": 11,
   "id": "2b8ad11d",
   "metadata": {
    "ExecuteTime": {
     "end_time": "2021-12-07T02:08:54.128841Z",
     "start_time": "2021-12-07T02:08:52.334017Z"
    }
   },
   "outputs": [],
   "source": [
    "import matplotlib.pyplot as plt"
   ]
  },
  {
   "cell_type": "code",
   "execution_count": 16,
   "id": "d2a12c01",
   "metadata": {
    "ExecuteTime": {
     "end_time": "2021-12-07T02:11:06.530239Z",
     "start_time": "2021-12-07T02:11:06.392220Z"
    }
   },
   "outputs": [
    {
     "data": {
      "image/png": "[encoded data removed]",
      "text/plain": [
       "<Figure size 576x576 with 1 Axes>"
      ]
     },
     "metadata": {
      "needs_background": "light"
     },
     "output_type": "display_data"
    }
   ],
   "source": [
    "fig, ax = plt.subplots(figsize=(8, 8))\n",
    "# ax.plot(counts)\n",
    "# ax.plot(sums)\n",
    "ax.plot(fish)\n",
    "# ax.legend(['counts', 'sums', 'fish'])\n",
    "ax.set_title('Uh O(n²)', size=16)\n",
    "ax.set_ylabel('Number of fish', size=14)\n",
    "ax.set_xlabel('School days', size=14);"
   ]
  },
  {
   "cell_type": "markdown",
   "id": "4c824e8f",
   "metadata": {},
   "source": [
    "Exponential time! Gotta find another way.\n",
    "\n",
    "There must be something about calculating the time that each fish has left and then factoring based on the day that it is...\n",
    "\n",
    "Remainders/mods? Length of the array?\n",
    "\n",
    "What about calculating, based on the number current fish and their values, how many new fish *just those fish* will create in time $t$? Then maybe run that recursively?"
   ]
  },
  {
   "cell_type": "code",
   "execution_count": 162,
   "id": "0763cf05",
   "metadata": {
    "ExecuteTime": {
     "end_time": "2021-12-06T18:49:42.637601Z",
     "start_time": "2021-12-06T18:49:42.633714Z"
    }
   },
   "outputs": [],
   "source": [
    "def how_many_fish_from_originals(input_text, t):\n",
    "    fish = input_text.copy()\n",
    "    new_fish_list = []\n",
    "    running_total = []\n",
    "    for _ in range(t):\n",
    "        new_fish = 0\n",
    "        for i in range(len(fish)):\n",
    "            if fish[i] > 0:\n",
    "                fish[i] -= 1\n",
    "            else:\n",
    "                fish[i] = 6\n",
    "                new_fish += 1   \n",
    "        new_fish_list.append(new_fish)\n",
    "        running_total.append(sum(new_fish_list))\n",
    "    return new_fish_list, running_total"
   ]
  },
  {
   "cell_type": "code",
   "execution_count": 163,
   "id": "b7e0fec4",
   "metadata": {
    "ExecuteTime": {
     "end_time": "2021-12-06T18:49:42.996255Z",
     "start_time": "2021-12-06T18:49:42.993787Z"
    }
   },
   "outputs": [],
   "source": [
    "new_fish, running_total = how_many_fish_from_originals(test_input, 21)"
   ]
  },
  {
   "cell_type": "code",
   "execution_count": 164,
   "id": "cd3b3d61",
   "metadata": {
    "ExecuteTime": {
     "end_time": "2021-12-06T18:49:43.469177Z",
     "start_time": "2021-12-06T18:49:43.345703Z"
    }
   },
   "outputs": [
    {
     "data": {
      "image/png": "[encoded data removed]",
      "text/plain": [
       "<Figure size 432x288 with 1 Axes>"
      ]
     },
     "metadata": {
      "needs_background": "light"
     },
     "output_type": "display_data"
    }
   ],
   "source": [
    "plt.plot(new_fish);"
   ]
  },
  {
   "cell_type": "code",
   "execution_count": 165,
   "id": "81bfac32",
   "metadata": {
    "ExecuteTime": {
     "end_time": "2021-12-06T18:49:44.328192Z",
     "start_time": "2021-12-06T18:49:44.217552Z"
    }
   },
   "outputs": [
    {
     "data": {
      "image/png": "[encoded data removed]",
      "text/plain": [
       "<Figure size 432x288 with 1 Axes>"
      ]
     },
     "metadata": {
      "needs_background": "light"
     },
     "output_type": "display_data"
    }
   ],
   "source": [
    "plt.plot(running_total);"
   ]
  },
  {
   "cell_type": "code",
   "execution_count": 166,
   "id": "ab8e3be3",
   "metadata": {
    "ExecuteTime": {
     "end_time": "2021-12-06T18:49:44.981955Z",
     "start_time": "2021-12-06T18:49:44.977420Z"
    },
    "scrolled": false
   },
   "outputs": [
    {
     "data": {
      "text/plain": [
       "[0, 1, 1, 2, 1, 0, 0, 0, 1, 1, 2, 1, 0, 0, 0, 1, 1, 2, 1, 0, 0]"
      ]
     },
     "execution_count": 166,
     "metadata": {},
     "output_type": "execute_result"
    }
   ],
   "source": [
    "new_fish"
   ]
  },
  {
   "cell_type": "markdown",
   "id": "78001293",
   "metadata": {},
   "source": [
    "The reproduction pattern repeats every 7 days (duh). I wonder if I can use this resursively to calculate the total number of new fish each fish will produce in the time that it has left (`day[birthday]` to `day[last day]`)."
   ]
  },
  {
   "cell_type": "code",
   "execution_count": 167,
   "id": "cf75eca2",
   "metadata": {
    "ExecuteTime": {
     "end_time": "2021-12-06T18:49:47.571551Z",
     "start_time": "2021-12-06T18:49:47.569211Z"
    }
   },
   "outputs": [],
   "source": [
    "new_fish, running_total = how_many_fish_from_originals(test_input, 7)"
   ]
  },
  {
   "cell_type": "code",
   "execution_count": 168,
   "id": "e1f65a66",
   "metadata": {
    "ExecuteTime": {
     "end_time": "2021-12-06T18:49:47.910204Z",
     "start_time": "2021-12-06T18:49:47.905699Z"
    }
   },
   "outputs": [
    {
     "name": "stdout",
     "output_type": "stream",
     "text": [
      "[0, 1, 1, 2, 1, 0, 0]\n"
     ]
    },
    {
     "data": {
      "text/plain": [
       "5"
      ]
     },
     "execution_count": 168,
     "metadata": {},
     "output_type": "execute_result"
    }
   ],
   "source": [
    "print(new_fish)\n",
    "sum(new_fish)"
   ]
  },
  {
   "cell_type": "markdown",
   "id": "9d4c77cc",
   "metadata": {},
   "source": [
    "Every 7 days, the original fish make 5 new fish--they double their own population every 5 days...\n",
    "\n",
    "This is just a population growth problem! The formula given [here](https://calculator.academy/population-growth-calculator/#f1p0|f2p0) is $x(t) = x_0 \\times (1+r)^t$. Will that work for this case? Not sure; I have to figure out the growth rate.\n",
    "\n",
    "I know that $\\frac{26}{5} = (1+r)^{\\text18 days}$ and $\\frac{5934}{5} = (1+r)^{\\text80 days}$"
   ]
  },
  {
   "cell_type": "code",
   "execution_count": 169,
   "id": "a0795d55",
   "metadata": {
    "ExecuteTime": {
     "end_time": "2021-12-06T18:49:48.868878Z",
     "start_time": "2021-12-06T18:49:48.865018Z"
    }
   },
   "outputs": [
    {
     "data": {
      "text/plain": [
       "29.719885782738974"
      ]
     },
     "execution_count": 169,
     "metadata": {},
     "output_type": "execute_result"
    }
   ],
   "source": [
    "5*(1+1)**(18/7)"
   ]
  },
  {
   "cell_type": "code",
   "execution_count": 170,
   "id": "a71d2799",
   "metadata": {
    "ExecuteTime": {
     "end_time": "2021-12-06T18:49:49.356174Z",
     "start_time": "2021-12-06T18:49:49.352477Z"
    }
   },
   "outputs": [
    {
     "data": {
      "text/plain": [
       "13782.01797255533"
      ]
     },
     "execution_count": 170,
     "metadata": {},
     "output_type": "execute_result"
    }
   ],
   "source": [
    "5*(2**(80/7))"
   ]
  },
  {
   "cell_type": "code",
   "execution_count": 178,
   "id": "78ac17aa",
   "metadata": {
    "ExecuteTime": {
     "end_time": "2021-12-06T18:50:46.994505Z",
     "start_time": "2021-12-06T18:50:46.991458Z"
    }
   },
   "outputs": [],
   "source": [
    "new_fish, running_total = how_many_fish_from_originals(full_input, 15)"
   ]
  },
  {
   "cell_type": "code",
   "execution_count": 179,
   "id": "5e985352",
   "metadata": {
    "ExecuteTime": {
     "end_time": "2021-12-06T18:50:47.340092Z",
     "start_time": "2021-12-06T18:50:47.223951Z"
    }
   },
   "outputs": [
    {
     "data": {
      "text/plain": [
       "[<matplotlib.lines.Line2D at 0x7fa85bbb7640>]"
      ]
     },
     "execution_count": 179,
     "metadata": {},
     "output_type": "execute_result"
    },
    {
     "data": {
      "image/png": "[encoded data removed]",
      "text/plain": [
       "<Figure size 432x288 with 1 Axes>"
      ]
     },
     "metadata": {
      "needs_background": "light"
     },
     "output_type": "display_data"
    }
   ],
   "source": [
    "plt.plot(new_fish)"
   ]
  },
  {
   "cell_type": "code",
   "execution_count": 189,
   "id": "e57064dd",
   "metadata": {
    "ExecuteTime": {
     "end_time": "2021-12-06T20:02:28.329828Z",
     "start_time": "2021-12-06T20:02:28.300821Z"
    }
   },
   "outputs": [
    {
     "data": {
      "text/plain": [
       "[0, 145, 41, 45, 42, 27, 0, 0, 145, 41, 45, 42, 27, 0, 0]"
      ]
     },
     "execution_count": 189,
     "metadata": {},
     "output_type": "execute_result"
    }
   ],
   "source": [
    "new_fish"
   ]
  },
  {
   "cell_type": "code",
   "execution_count": 180,
   "id": "3e1a36ab",
   "metadata": {
    "ExecuteTime": {
     "end_time": "2021-12-06T18:50:47.444528Z",
     "start_time": "2021-12-06T18:50:47.440804Z"
    }
   },
   "outputs": [
    {
     "name": "stdout",
     "output_type": "stream",
     "text": [
      "0 0\n",
      "1 145\n",
      "2 186\n",
      "3 231\n",
      "4 273\n",
      "5 300\n",
      "6 300\n",
      "7 300\n",
      "8 445\n",
      "9 486\n",
      "10 531\n",
      "11 573\n",
      "12 600\n",
      "13 600\n",
      "14 600\n"
     ]
    }
   ],
   "source": [
    "for i, total in enumerate(running_total):\n",
    "    print(i, total)"
   ]
  },
  {
   "cell_type": "code",
   "execution_count": 174,
   "id": "06411b1d",
   "metadata": {
    "ExecuteTime": {
     "end_time": "2021-12-06T18:50:13.396077Z",
     "start_time": "2021-12-06T18:50:13.392118Z"
    }
   },
   "outputs": [
    {
     "data": {
      "text/plain": [
       "300"
      ]
     },
     "execution_count": 174,
     "metadata": {},
     "output_type": "execute_result"
    }
   ],
   "source": [
    "len(full_input)"
   ]
  },
  {
   "cell_type": "code",
   "execution_count": 187,
   "id": "1603a8e1",
   "metadata": {
    "ExecuteTime": {
     "end_time": "2021-12-06T20:01:43.012237Z",
     "start_time": "2021-12-06T20:01:43.001635Z"
    }
   },
   "outputs": [
    {
     "data": {
      "text/plain": [
       "30635024994652.574"
      ]
     },
     "execution_count": 187,
     "metadata": {},
     "output_type": "execute_result"
    }
   ],
   "source": [
    "300*(2**(256/7))\n",
    "# too high"
   ]
  },
  {
   "cell_type": "code",
   "execution_count": 181,
   "id": "059e13b1",
   "metadata": {
    "ExecuteTime": {
     "end_time": "2021-12-06T18:51:35.267508Z",
     "start_time": "2021-12-06T18:51:35.261626Z"
    }
   },
   "outputs": [],
   "source": [
    "def total_from_original(input_text, t):\n",
    "    return len(input_text)*(t/7)"
   ]
  },
  {
   "cell_type": "code",
   "execution_count": 182,
   "id": "2aecfd28",
   "metadata": {
    "ExecuteTime": {
     "end_time": "2021-12-06T18:51:49.577226Z",
     "start_time": "2021-12-06T18:51:49.572960Z"
    }
   },
   "outputs": [
    {
     "data": {
      "text/plain": [
       "600.0"
      ]
     },
     "execution_count": 182,
     "metadata": {},
     "output_type": "execute_result"
    }
   ],
   "source": [
    "total_from_original(full_input, 14)"
   ]
  },
  {
   "cell_type": "code",
   "execution_count": 183,
   "id": "3f48a467",
   "metadata": {
    "ExecuteTime": {
     "end_time": "2021-12-06T18:51:58.649370Z",
     "start_time": "2021-12-06T18:51:58.645179Z"
    }
   },
   "outputs": [
    {
     "data": {
      "text/plain": [
       "900.0"
      ]
     },
     "execution_count": 183,
     "metadata": {},
     "output_type": "execute_result"
    }
   ],
   "source": [
    "total_from_original(full_input, 21)"
   ]
  },
  {
   "cell_type": "code",
   "execution_count": 190,
   "id": "efe493c1",
   "metadata": {
    "ExecuteTime": {
     "end_time": "2021-12-06T20:03:14.529982Z",
     "start_time": "2021-12-06T20:03:14.523204Z"
    }
   },
   "outputs": [
    {
     "data": {
      "text/plain": [
       "10971.42857142857"
      ]
     },
     "execution_count": 190,
     "metadata": {},
     "output_type": "execute_result"
    }
   ],
   "source": [
    "total_from_original(full_input, 256)"
   ]
  },
  {
   "cell_type": "code",
   "execution_count": 188,
   "id": "8c47f734",
   "metadata": {
    "ExecuteTime": {
     "end_time": "2021-12-06T20:01:53.307281Z",
     "start_time": "2021-12-06T20:01:53.302298Z"
    },
    "scrolled": true
   },
   "outputs": [
    {
     "data": {
      "text/plain": [
       "36.57142857142857"
      ]
     },
     "execution_count": 188,
     "metadata": {},
     "output_type": "execute_result"
    }
   ],
   "source": [
    "256./7"
   ]
  },
  {
   "cell_type": "markdown",
   "id": "23a67017",
   "metadata": {},
   "source": [
    "Let's start with super basic and add complexity."
   ]
  },
  {
   "cell_type": "code",
   "execution_count": 191,
   "id": "cff2e9bb",
   "metadata": {
    "ExecuteTime": {
     "end_time": "2021-12-06T20:05:39.564573Z",
     "start_time": "2021-12-06T20:05:39.558692Z"
    }
   },
   "outputs": [],
   "source": [
    "# Simplest would be 1 fish w/highest possible counter\n",
    "simple_fish = [6]"
   ]
  },
  {
   "cell_type": "code",
   "execution_count": 193,
   "id": "a16590ff",
   "metadata": {
    "ExecuteTime": {
     "end_time": "2021-12-06T20:07:04.081816Z",
     "start_time": "2021-12-06T20:07:04.076200Z"
    }
   },
   "outputs": [],
   "source": [
    "def timer(fish):\n",
    "    new_fish = 0\n",
    "    for i in range(len(fish)):\n",
    "        if fish[i] > 0:\n",
    "            fish[i] -= 1\n",
    "        else:\n",
    "            fish[i] = 6\n",
    "            new_fish += 1   \n",
    "    return new_fish\n",
    "\n",
    "def solution(input_text, days):\n",
    "    fish = input_text.copy()\n",
    "    for _ in range(days):\n",
    "        new_fish = timer(fish)\n",
    "        for i in range(new_fish):\n",
    "            fish.append(8)\n",
    "    \n",
    "    return len(fish)"
   ]
  },
  {
   "cell_type": "code",
   "execution_count": 194,
   "id": "e2d670fe",
   "metadata": {
    "ExecuteTime": {
     "end_time": "2021-12-06T20:07:04.501367Z",
     "start_time": "2021-12-06T20:07:04.492801Z"
    }
   },
   "outputs": [],
   "source": [
    "def how_many_fish_from_originals(input_text, t):\n",
    "    fish = input_text.copy()\n",
    "    new_fish_list = []\n",
    "    running_total = []\n",
    "    for _ in range(t):\n",
    "        new_fish = 0\n",
    "        for i in range(len(fish)):\n",
    "            if fish[i] > 0:\n",
    "                fish[i] -= 1\n",
    "            else:\n",
    "                fish[i] = 6\n",
    "                new_fish += 1   \n",
    "        new_fish_list.append(new_fish)\n",
    "        running_total.append(sum(new_fish_list))\n",
    "    return new_fish_list, running_total"
   ]
  },
  {
   "cell_type": "code",
   "execution_count": 196,
   "id": "350c1531",
   "metadata": {
    "ExecuteTime": {
     "end_time": "2021-12-06T20:08:04.033187Z",
     "start_time": "2021-12-06T20:08:04.027031Z"
    }
   },
   "outputs": [],
   "source": [
    "def plot_info(input_text, t):\n",
    "    new_fish, running_total = how_many_fish_from_originals(input_text, t)\n",
    "    plt.plot(new_fish)\n",
    "    plt.plot(running_total)\n",
    "    return"
   ]
  },
  {
   "cell_type": "code",
   "execution_count": 201,
   "id": "a860ce26",
   "metadata": {
    "ExecuteTime": {
     "end_time": "2021-12-06T20:14:37.413867Z",
     "start_time": "2021-12-06T20:14:37.257721Z"
    }
   },
   "outputs": [
    {
     "data": {
      "image/png": "[encoded data removed]",
      "text/plain": [
       "<Figure size 432x288 with 1 Axes>"
      ]
     },
     "metadata": {
      "needs_background": "light"
     },
     "output_type": "display_data"
    }
   ],
   "source": [
    "plot_info([7, 6, 5, 4, 3, 2, 1, 0], 100)"
   ]
  },
  {
   "cell_type": "markdown",
   "id": "0ee14f26",
   "metadata": {},
   "source": [
    "I found a hint that says you only need a 9-element array to solve this???? 🤯\n",
    "\n",
    "Okay, let's think: what if you use a 9-element array where the index represents number of days left on the counter and the value is how many fish have that time left? In that case, the test-input:\n",
    "\n",
    "`[3, 4, 2, 1, 2]` \n",
    "\n",
    "would be represented as:\n",
    "\n",
    "`[0, 1, 2, 1, 1, 0, 0, 0, 0]`\n",
    "\n",
    "Now what?"
   ]
  },
  {
   "cell_type": "markdown",
   "id": "c07944e7",
   "metadata": {},
   "source": [
    "OMG. Of course--you just subtract as you normally would, but now you just count differently. Instead of counting down each element and then appending more elements, you shift numbers down and then add new amounts to the final index."
   ]
  },
  {
   "cell_type": "code",
   "execution_count": 202,
   "id": "8688e66b",
   "metadata": {
    "ExecuteTime": {
     "end_time": "2021-12-06T20:43:54.207930Z",
     "start_time": "2021-12-06T20:43:54.198602Z"
    }
   },
   "outputs": [],
   "source": [
    "# Need to shift elements easily\n",
    "from collections import deque"
   ]
  },
  {
   "cell_type": "code",
   "execution_count": 203,
   "id": "49e79ab8",
   "metadata": {
    "ExecuteTime": {
     "end_time": "2021-12-06T20:44:18.438466Z",
     "start_time": "2021-12-06T20:44:18.435878Z"
    }
   },
   "outputs": [],
   "source": [
    "test = [0, 1, 2, 3, 4, 5, 6, 7, 8]"
   ]
  },
  {
   "cell_type": "code",
   "execution_count": 204,
   "id": "851ed09d",
   "metadata": {
    "ExecuteTime": {
     "end_time": "2021-12-06T20:44:46.095104Z",
     "start_time": "2021-12-06T20:44:46.083385Z"
    }
   },
   "outputs": [
    {
     "data": {
      "text/plain": [
       "deque([0, 1, 2, 3, 4, 5, 6, 7, 8])"
      ]
     },
     "execution_count": 204,
     "metadata": {},
     "output_type": "execute_result"
    }
   ],
   "source": [
    "d_test = deque(test)\n",
    "d_test"
   ]
  },
  {
   "cell_type": "code",
   "execution_count": 205,
   "id": "385cbe0c",
   "metadata": {
    "ExecuteTime": {
     "end_time": "2021-12-06T20:44:55.310043Z",
     "start_time": "2021-12-06T20:44:55.306363Z"
    }
   },
   "outputs": [],
   "source": [
    "d_test.rotate(-1)"
   ]
  },
  {
   "cell_type": "code",
   "execution_count": 208,
   "id": "abe3b28c",
   "metadata": {
    "ExecuteTime": {
     "end_time": "2021-12-06T20:45:25.637683Z",
     "start_time": "2021-12-06T20:45:25.633691Z"
    }
   },
   "outputs": [
    {
     "data": {
      "text/plain": [
       "deque([1, 2, 3, 4, 5, 6, 7, 8, 0])"
      ]
     },
     "execution_count": 208,
     "metadata": {},
     "output_type": "execute_result"
    }
   ],
   "source": [
    "d_test"
   ]
  },
  {
   "cell_type": "code",
   "execution_count": 216,
   "id": "a7561863",
   "metadata": {
    "ExecuteTime": {
     "end_time": "2021-12-06T20:47:15.478498Z",
     "start_time": "2021-12-06T20:47:15.462092Z"
    }
   },
   "outputs": [],
   "source": [
    "def efficient_solution(input_text, t):\n",
    "    effishent_fishnet = deque([0]*9)\n",
    "    for val in input_text:\n",
    "        effishent_fishnet[val] += 1\n",
    "    \n",
    "    for _ in range(t):\n",
    "        temp = effishent_fishnet[0]\n",
    "        effishent_fishnet.rotate(-1)\n",
    "        effishent_fishnet[6] += temp\n",
    "        \n",
    "    return sum(effishent_fishnet)"
   ]
  },
  {
   "cell_type": "code",
   "execution_count": 217,
   "id": "36ba09a1",
   "metadata": {
    "ExecuteTime": {
     "end_time": "2021-12-06T20:47:33.267701Z",
     "start_time": "2021-12-06T20:47:33.260630Z"
    }
   },
   "outputs": [
    {
     "data": {
      "text/plain": [
       "[3, 4, 3, 1, 2]"
      ]
     },
     "execution_count": 217,
     "metadata": {},
     "output_type": "execute_result"
    }
   ],
   "source": [
    "test_input"
   ]
  },
  {
   "cell_type": "code",
   "execution_count": 219,
   "id": "20458987",
   "metadata": {
    "ExecuteTime": {
     "end_time": "2021-12-06T20:47:58.441763Z",
     "start_time": "2021-12-06T20:47:58.437884Z"
    }
   },
   "outputs": [
    {
     "data": {
      "text/plain": [
       "5934"
      ]
     },
     "execution_count": 219,
     "metadata": {},
     "output_type": "execute_result"
    }
   ],
   "source": [
    "# Test part 1 solution w/test_input\n",
    "efficient_solution(test_input, 80)\n",
    "# 5934"
   ]
  },
  {
   "cell_type": "code",
   "execution_count": 220,
   "id": "4697518d",
   "metadata": {
    "ExecuteTime": {
     "end_time": "2021-12-06T20:48:20.842278Z",
     "start_time": "2021-12-06T20:48:20.838552Z"
    }
   },
   "outputs": [
    {
     "data": {
      "text/plain": [
       "372984"
      ]
     },
     "execution_count": 220,
     "metadata": {},
     "output_type": "execute_result"
    }
   ],
   "source": [
    "# Test part 1 solution w/full_input\n",
    "efficient_solution(full_input, 80)\n",
    "# 372984"
   ]
  },
  {
   "cell_type": "code",
   "execution_count": 222,
   "id": "d9c119cb",
   "metadata": {
    "ExecuteTime": {
     "end_time": "2021-12-06T20:48:43.054465Z",
     "start_time": "2021-12-06T20:48:43.050544Z"
    }
   },
   "outputs": [
    {
     "data": {
      "text/plain": [
       "26984457539"
      ]
     },
     "execution_count": 222,
     "metadata": {},
     "output_type": "execute_result"
    }
   ],
   "source": [
    "# Part 2 solution w/test_input\n",
    "efficient_solution(test_input, 256)\n",
    "# 26984457539"
   ]
  },
  {
   "cell_type": "code",
   "execution_count": 223,
   "id": "8c4d3fbc",
   "metadata": {
    "ExecuteTime": {
     "end_time": "2021-12-06T20:48:57.350465Z",
     "start_time": "2021-12-06T20:48:57.346509Z"
    }
   },
   "outputs": [
    {
     "data": {
      "text/plain": [
       "1681503251694"
      ]
     },
     "execution_count": 223,
     "metadata": {},
     "output_type": "execute_result"
    }
   ],
   "source": [
    "# Test part 2 solution w/full_input\n",
    "efficient_solution(full_input, 256)"
   ]
  },
  {
   "cell_type": "markdown",
   "id": "a9ccffdf",
   "metadata": {},
   "source": [
    "YES!!!"
   ]
  },
  {
   "cell_type": "code",
   "execution_count": null,
   "id": "ca03b994",
   "metadata": {},
   "outputs": [],
   "source": []
  }
 ],
 "metadata": {
  "kernelspec": {
   "display_name": "Python 3 (ipykernel)",
   "language": "python",
   "name": "python3"
  },
  "language_info": {
   "codemirror_mode": {
    "name": "ipython",
    "version": 3
   },
   "file_extension": ".py",
   "mimetype": "text/x-python",
   "name": "python",
   "nbconvert_exporter": "python",
   "pygments_lexer": "ipython3",
   "version": "3.8.12"
  }
 },
 "nbformat": 4,
 "nbformat_minor": 5
}
