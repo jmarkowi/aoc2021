{
 "cells": [
  {
   "cell_type": "markdown",
   "id": "9bce0cc9",
   "metadata": {},
   "source": [
    "# Day 5: Lanternfish\n",
    "\n",
    "## Part 1:\n",
    "\n",
    "The sea floor is getting steeper. Maybe the sleigh keys got carried this way?\n",
    "\n",
    "A massive school of glowing lanternfish swims past. They must spawn quickly to reach such large numbers - maybe exponentially quickly? You should model their growth rate to be sure.\n",
    "\n",
    "Although you know nothing about this specific species of lanternfish, you make some guesses about their attributes. Surely, each lanternfish creates a new lanternfish once every 7 days.\n",
    "\n",
    "However, this process isn't necessarily synchronized between every lanternfish - one lanternfish might have 2 days left until it creates another lanternfish, while another might have 4. So, you can model each fish as a single number that represents the number of days until it creates a new lanternfish.\n",
    "\n",
    "Furthermore, you reason, a new lanternfish would surely need slightly longer before it's capable of producing more lanternfish: two more days for its first cycle.\n",
    "\n",
    "So, suppose you have a lanternfish with an internal timer value of 3:\n",
    "\n",
    " - After one day, its internal timer would become 2.\n",
    " - After another day, its internal timer would become 1.\n",
    " - After another day, its internal timer would become 0.\n",
    " - After another day, its internal timer would reset to 6, and it would create a new lanternfish with an internal timer of 8.\n",
    " - After another day, the first lanternfish would have an internal timer of 5, and the second lanternfish would have an internal timer of 7.\n",
    " - A lanternfish that creates a new fish resets its timer to 6, not 7 (because 0 is included as a valid timer value). The new lanternfish starts with an internal timer of 8 and does not start counting down until the next day.\n",
    "\n",
    "Realizing what you're trying to do, the submarine automatically produces a list of the ages of several hundred nearby lanternfish (your puzzle input). For example, suppose you were given the following list:\n",
    "\n",
    "`3,4,3,1,2`\n",
    "\n",
    "This list means that the first fish has an internal timer of 3, the second fish has an internal timer of 4, and so on until the fifth fish, which has an internal timer of 2. Simulating these fish over several days would proceed as follows:\n",
    "```\n",
    "Initial state: 3,4,3,1,2\n",
    "After  1 day:  2,3,2,0,1\n",
    "After  2 days: 1,2,1,6,0,8\n",
    "After  3 days: 0,1,0,5,6,7,8\n",
    "After  4 days: 6,0,6,4,5,6,7,8,8\n",
    "After  5 days: 5,6,5,3,4,5,6,7,7,8\n",
    "After  6 days: 4,5,4,2,3,4,5,6,6,7\n",
    "After  7 days: 3,4,3,1,2,3,4,5,5,6\n",
    "After  8 days: 2,3,2,0,1,2,3,4,4,5\n",
    "After  9 days: 1,2,1,6,0,1,2,3,3,4,8\n",
    "After 10 days: 0,1,0,5,6,0,1,2,2,3,7,8\n",
    "After 11 days: 6,0,6,4,5,6,0,1,1,2,6,7,8,8,8\n",
    "After 12 days: 5,6,5,3,4,5,6,0,0,1,5,6,7,7,7,8,8\n",
    "After 13 days: 4,5,4,2,3,4,5,6,6,0,4,5,6,6,6,7,7,8,8\n",
    "After 14 days: 3,4,3,1,2,3,4,5,5,6,3,4,5,5,5,6,6,7,7,8\n",
    "After 15 days: 2,3,2,0,1,2,3,4,4,5,2,3,4,4,4,5,5,6,6,7\n",
    "After 16 days: 1,2,1,6,0,1,2,3,3,4,1,2,3,3,3,4,4,5,5,6,8\n",
    "After 17 days: 0,1,0,5,6,0,1,2,2,3,0,1,2,2,2,3,3,4,4,5,7,8\n",
    "After 18 days: 6,0,6,4,5,6,0,1,1,2,6,0,1,1,1,2,2,3,3,4,6,7,8,8,8,8\n",
    "```\n",
    "Each day, a 0 becomes a 6 and adds a new 8 to the end of the list, while each other number decreases by 1 if it was present at the start of the day.\n",
    "\n",
    "In this example, after 18 days, there are a total of 26 fish. After 80 days, there would be a total of 5934.\n",
    "\n",
    "Find a way to simulate lanternfish. **How many lanternfish would there be after 80 days?**"
   ]
  },
  {
   "cell_type": "code",
   "execution_count": 41,
   "id": "eb1c1c3d",
   "metadata": {
    "ExecuteTime": {
     "end_time": "2021-12-06T14:53:55.465541Z",
     "start_time": "2021-12-06T14:53:55.460640Z"
    }
   },
   "outputs": [
    {
     "data": {
      "text/plain": [
       "[3, 4, 3, 1, 2]"
      ]
     },
     "execution_count": 41,
     "metadata": {},
     "output_type": "execute_result"
    }
   ],
   "source": [
    "# Get test input\n",
    "with open('./test_input_6.txt') as f:\n",
    "    lines = f.readlines()\n",
    "test_input = [int(num) for num in lines[0].split(',')]\n",
    "test_input"
   ]
  },
  {
   "cell_type": "markdown",
   "id": "49357fd3",
   "metadata": {},
   "source": [
    "This seems pretty simple... *[Narrator: it wasn't as simple as it sounded.]*"
   ]
  },
  {
   "cell_type": "code",
   "execution_count": 42,
   "id": "a9bb672e",
   "metadata": {
    "ExecuteTime": {
     "end_time": "2021-12-06T14:53:56.104631Z",
     "start_time": "2021-12-06T14:53:56.100984Z"
    }
   },
   "outputs": [
    {
     "data": {
      "text/plain": [
       "[3, 4, 3, 1, 2]"
      ]
     },
     "execution_count": 42,
     "metadata": {},
     "output_type": "execute_result"
    }
   ],
   "source": [
    "fish = test_input.copy()\n",
    "fish"
   ]
  },
  {
   "cell_type": "code",
   "execution_count": 43,
   "id": "adbe1b08",
   "metadata": {
    "ExecuteTime": {
     "end_time": "2021-12-06T14:53:56.409908Z",
     "start_time": "2021-12-06T14:53:56.405360Z"
    }
   },
   "outputs": [
    {
     "data": {
      "text/plain": [
       "[3, 4, 3, 1, 2, 8, 8, 8, 8, 8, 8, 8, 8, 8, 8]"
      ]
     },
     "execution_count": 43,
     "metadata": {},
     "output_type": "execute_result"
    }
   ],
   "source": [
    "for i in range(10):\n",
    "    fish.append(8)\n",
    "fish"
   ]
  },
  {
   "cell_type": "code",
   "execution_count": 44,
   "id": "d567f656",
   "metadata": {
    "ExecuteTime": {
     "end_time": "2021-12-06T14:53:57.048591Z",
     "start_time": "2021-12-06T14:53:57.044963Z"
    }
   },
   "outputs": [
    {
     "data": {
      "text/plain": [
       "[3, 4, 3, 1, 2]"
      ]
     },
     "execution_count": 44,
     "metadata": {},
     "output_type": "execute_result"
    }
   ],
   "source": [
    "test_input"
   ]
  },
  {
   "cell_type": "code",
   "execution_count": 45,
   "id": "b948f5eb",
   "metadata": {
    "ExecuteTime": {
     "end_time": "2021-12-06T14:53:59.481143Z",
     "start_time": "2021-12-06T14:53:59.476906Z"
    }
   },
   "outputs": [],
   "source": [
    "def timer(fish):\n",
    "    new_fish = 0\n",
    "    for i in range(len(fish)):\n",
    "        if fish[i] > 0:\n",
    "            fish[i] -= 1\n",
    "        else:\n",
    "            fish[i] = 6\n",
    "            new_fish += 1   \n",
    "    return new_fish\n",
    "\n",
    "def solution(input_text, days):\n",
    "    fish = input_text.copy()\n",
    "    for _ in range(days):\n",
    "        new_fish = timer(fish)\n",
    "        for i in range(new_fish):\n",
    "            fish.append(8)\n",
    "    \n",
    "    return len(fish)"
   ]
  },
  {
   "cell_type": "code",
   "execution_count": 46,
   "id": "b9dde2d3",
   "metadata": {
    "ExecuteTime": {
     "end_time": "2021-12-06T14:53:59.813026Z",
     "start_time": "2021-12-06T14:53:59.797954Z"
    }
   },
   "outputs": [
    {
     "data": {
      "text/plain": [
       "5934"
      ]
     },
     "execution_count": 46,
     "metadata": {},
     "output_type": "execute_result"
    }
   ],
   "source": [
    "solution(test_input, 80)\n",
    "# 5934"
   ]
  },
  {
   "cell_type": "code",
   "execution_count": 47,
   "id": "f4b923e0",
   "metadata": {
    "ExecuteTime": {
     "end_time": "2021-12-06T14:54:05.302372Z",
     "start_time": "2021-12-06T14:54:05.292789Z"
    }
   },
   "outputs": [
    {
     "data": {
      "text/plain": [
       "[1,\n",
       " 1,\n",
       " 1,\n",
       " 3,\n",
       " 3,\n",
       " 2,\n",
       " 1,\n",
       " 1,\n",
       " 1,\n",
       " 1,\n",
       " 1,\n",
       " 4,\n",
       " 4,\n",
       " 1,\n",
       " 4,\n",
       " 1,\n",
       " 4,\n",
       " 1,\n",
       " 1,\n",
       " 4,\n",
       " 1,\n",
       " 1,\n",
       " 1,\n",
       " 3,\n",
       " 3,\n",
       " 2,\n",
       " 3,\n",
       " 1,\n",
       " 2,\n",
       " 1,\n",
       " 1,\n",
       " 1,\n",
       " 1,\n",
       " 1,\n",
       " 1,\n",
       " 1,\n",
       " 3,\n",
       " 4,\n",
       " 1,\n",
       " 1,\n",
       " 4,\n",
       " 3,\n",
       " 1,\n",
       " 2,\n",
       " 3,\n",
       " 1,\n",
       " 1,\n",
       " 1,\n",
       " 5,\n",
       " 2,\n",
       " 1,\n",
       " 1,\n",
       " 1,\n",
       " 1,\n",
       " 2,\n",
       " 1,\n",
       " 2,\n",
       " 5,\n",
       " 2,\n",
       " 2,\n",
       " 1,\n",
       " 1,\n",
       " 1,\n",
       " 3,\n",
       " 1,\n",
       " 1,\n",
       " 1,\n",
       " 4,\n",
       " 1,\n",
       " 1,\n",
       " 1,\n",
       " 1,\n",
       " 1,\n",
       " 3,\n",
       " 3,\n",
       " 2,\n",
       " 1,\n",
       " 1,\n",
       " 3,\n",
       " 1,\n",
       " 4,\n",
       " 1,\n",
       " 2,\n",
       " 1,\n",
       " 5,\n",
       " 1,\n",
       " 4,\n",
       " 2,\n",
       " 1,\n",
       " 1,\n",
       " 5,\n",
       " 1,\n",
       " 1,\n",
       " 1,\n",
       " 1,\n",
       " 4,\n",
       " 3,\n",
       " 1,\n",
       " 3,\n",
       " 2,\n",
       " 1,\n",
       " 4,\n",
       " 1,\n",
       " 1,\n",
       " 2,\n",
       " 1,\n",
       " 4,\n",
       " 4,\n",
       " 5,\n",
       " 1,\n",
       " 3,\n",
       " 1,\n",
       " 1,\n",
       " 1,\n",
       " 1,\n",
       " 2,\n",
       " 1,\n",
       " 4,\n",
       " 4,\n",
       " 1,\n",
       " 1,\n",
       " 1,\n",
       " 3,\n",
       " 1,\n",
       " 5,\n",
       " 1,\n",
       " 1,\n",
       " 1,\n",
       " 1,\n",
       " 1,\n",
       " 3,\n",
       " 2,\n",
       " 5,\n",
       " 1,\n",
       " 5,\n",
       " 4,\n",
       " 1,\n",
       " 4,\n",
       " 1,\n",
       " 3,\n",
       " 5,\n",
       " 1,\n",
       " 2,\n",
       " 5,\n",
       " 4,\n",
       " 3,\n",
       " 3,\n",
       " 2,\n",
       " 4,\n",
       " 1,\n",
       " 5,\n",
       " 1,\n",
       " 1,\n",
       " 2,\n",
       " 4,\n",
       " 1,\n",
       " 1,\n",
       " 1,\n",
       " 1,\n",
       " 2,\n",
       " 4,\n",
       " 1,\n",
       " 2,\n",
       " 5,\n",
       " 1,\n",
       " 4,\n",
       " 1,\n",
       " 4,\n",
       " 2,\n",
       " 5,\n",
       " 4,\n",
       " 1,\n",
       " 1,\n",
       " 2,\n",
       " 2,\n",
       " 4,\n",
       " 1,\n",
       " 5,\n",
       " 1,\n",
       " 4,\n",
       " 3,\n",
       " 3,\n",
       " 2,\n",
       " 3,\n",
       " 1,\n",
       " 2,\n",
       " 3,\n",
       " 1,\n",
       " 4,\n",
       " 1,\n",
       " 1,\n",
       " 1,\n",
       " 3,\n",
       " 5,\n",
       " 1,\n",
       " 1,\n",
       " 1,\n",
       " 3,\n",
       " 5,\n",
       " 1,\n",
       " 1,\n",
       " 4,\n",
       " 1,\n",
       " 4,\n",
       " 4,\n",
       " 1,\n",
       " 3,\n",
       " 1,\n",
       " 1,\n",
       " 1,\n",
       " 2,\n",
       " 3,\n",
       " 3,\n",
       " 2,\n",
       " 5,\n",
       " 1,\n",
       " 2,\n",
       " 1,\n",
       " 1,\n",
       " 2,\n",
       " 2,\n",
       " 1,\n",
       " 3,\n",
       " 4,\n",
       " 1,\n",
       " 3,\n",
       " 5,\n",
       " 1,\n",
       " 3,\n",
       " 4,\n",
       " 3,\n",
       " 5,\n",
       " 1,\n",
       " 1,\n",
       " 5,\n",
       " 1,\n",
       " 3,\n",
       " 3,\n",
       " 2,\n",
       " 1,\n",
       " 5,\n",
       " 1,\n",
       " 1,\n",
       " 3,\n",
       " 1,\n",
       " 1,\n",
       " 3,\n",
       " 1,\n",
       " 2,\n",
       " 1,\n",
       " 3,\n",
       " 2,\n",
       " 5,\n",
       " 1,\n",
       " 3,\n",
       " 1,\n",
       " 1,\n",
       " 3,\n",
       " 5,\n",
       " 1,\n",
       " 1,\n",
       " 1,\n",
       " 1,\n",
       " 2,\n",
       " 1,\n",
       " 2,\n",
       " 4,\n",
       " 4,\n",
       " 4,\n",
       " 2,\n",
       " 2,\n",
       " 3,\n",
       " 1,\n",
       " 5,\n",
       " 1,\n",
       " 2,\n",
       " 1,\n",
       " 3,\n",
       " 3,\n",
       " 3,\n",
       " 4,\n",
       " 1,\n",
       " 1,\n",
       " 5,\n",
       " 1,\n",
       " 3,\n",
       " 2,\n",
       " 4,\n",
       " 1,\n",
       " 5,\n",
       " 5,\n",
       " 1,\n",
       " 4,\n",
       " 4,\n",
       " 1,\n",
       " 4,\n",
       " 4,\n",
       " 1,\n",
       " 1,\n",
       " 2]"
      ]
     },
     "execution_count": 47,
     "metadata": {},
     "output_type": "execute_result"
    }
   ],
   "source": [
    "# Get full input\n",
    "with open('./input_6.txt') as f:\n",
    "    lines = f.readlines()\n",
    "full_input = [int(num) for num in lines[0].split(',')]\n",
    "full_input"
   ]
  },
  {
   "cell_type": "code",
   "execution_count": 48,
   "id": "a0515594",
   "metadata": {
    "ExecuteTime": {
     "end_time": "2021-12-06T14:54:20.620364Z",
     "start_time": "2021-12-06T14:54:20.075976Z"
    }
   },
   "outputs": [
    {
     "data": {
      "text/plain": [
       "372984"
      ]
     },
     "execution_count": 48,
     "metadata": {},
     "output_type": "execute_result"
    }
   ],
   "source": [
    "solution(full_input, 80)"
   ]
  },
  {
   "cell_type": "markdown",
   "id": "0d984972",
   "metadata": {},
   "source": [
    "## Part 2:\n",
    "\n",
    "Suppose the lanternfish live forever and have unlimited food and space. Would they take over the entire ocean?\n",
    "\n",
    "After 256 days in the example above, there would be a total of 26984457539 lanternfish!\n",
    "\n",
    "**How many lanternfish would there be after 256 days?**\n",
    "\n",
    "*Ah, it seems straightforward--just run the function with 256. However, I suspect that this number is too large and will result in hanging code and an overwhelmed processor. Clearly there must be another way to calculate this that doesn't take exponential time!"
   ]
  },
  {
   "cell_type": "code",
   "execution_count": 54,
   "id": "2d6b275a",
   "metadata": {
    "ExecuteTime": {
     "end_time": "2021-12-06T14:57:24.159241Z",
     "start_time": "2021-12-06T14:57:23.580967Z"
    }
   },
   "outputs": [
    {
     "name": "stdout",
     "output_type": "stream",
     "text": [
      "Day 0:  5\n",
      "Day 1:  5\n",
      "Day 2:  6\n",
      "Day 3:  7\n",
      "Day 4:  9\n",
      "Day 5:  10\n",
      "Day 6:  10\n",
      "Day 7:  10\n",
      "Day 8:  10\n",
      "Day 9:  11\n",
      "Day 10:  12\n",
      "Day 11:  15\n",
      "Day 12:  17\n",
      "Day 13:  19\n",
      "Day 14:  20\n",
      "Day 15:  20\n",
      "Day 16:  21\n",
      "Day 17:  22\n",
      "Day 18:  26\n",
      "Day 19:  29\n",
      "Day 20:  34\n",
      "Day 21:  37\n",
      "Day 22:  39\n",
      "Day 23:  41\n",
      "Day 24:  42\n",
      "Day 25:  47\n",
      "Day 26:  51\n",
      "Day 27:  60\n",
      "Day 28:  66\n",
      "Day 29:  73\n",
      "Day 30:  78\n",
      "Day 31:  81\n",
      "Day 32:  88\n",
      "Day 33:  93\n",
      "Day 34:  107\n",
      "Day 35:  117\n",
      "Day 36:  133\n",
      "Day 37:  144\n",
      "Day 38:  154\n",
      "Day 39:  166\n",
      "Day 40:  174\n",
      "Day 41:  195\n",
      "Day 42:  210\n",
      "Day 43:  240\n",
      "Day 44:  261\n",
      "Day 45:  287\n",
      "Day 46:  310\n",
      "Day 47:  328\n",
      "Day 48:  361\n",
      "Day 49:  384\n",
      "Day 50:  435\n",
      "Day 51:  471\n",
      "Day 52:  527\n",
      "Day 53:  571\n",
      "Day 54:  615\n",
      "Day 55:  671\n",
      "Day 56:  712\n",
      "Day 57:  796\n",
      "Day 58:  855\n",
      "Day 59:  962\n",
      "Day 60:  1042\n",
      "Day 61:  1142\n",
      "Day 62:  1242\n",
      "Day 63:  1327\n",
      "Day 64:  1467\n",
      "Day 65:  1567\n",
      "Day 66:  1758\n",
      "Day 67:  1897\n",
      "Day 68:  2104\n",
      "Day 69:  2284\n",
      "Day 70:  2469\n",
      "Day 71:  2709\n",
      "Day 72:  2894\n",
      "Day 73:  3225\n",
      "Day 74:  3464\n",
      "Day 75:  3862\n",
      "Day 76:  4181\n",
      "Day 77:  4573\n",
      "Day 78:  4993\n",
      "Day 79:  5363\n",
      "Day 80:  5934\n",
      "Day 81:  6358\n",
      "Day 82:  7087\n",
      "Day 83:  7645\n",
      "Day 84:  8435\n",
      "Day 85:  9174\n",
      "Day 86:  9936\n",
      "Day 87:  10927\n",
      "Day 88:  11721\n",
      "Day 89:  13021\n",
      "Day 90:  14003\n",
      "Day 91:  15522\n",
      "Day 92:  16819\n",
      "Day 93:  18371\n",
      "Day 94:  20101\n",
      "Day 95:  21657\n",
      "Day 96:  23948\n",
      "Day 97:  25724\n",
      "Day 98:  28543\n",
      "Day 99:  30822\n"
     ]
    }
   ],
   "source": [
    "for i in range(100):\n",
    "    print(f'Day {i}: ', solution(test_input, i))"
   ]
  },
  {
   "cell_type": "markdown",
   "id": "c08d01f6",
   "metadata": {},
   "source": [
    "There must be something about calculating the time that each fish has left and then factoring based on the day that it is...Remainders/mods?"
   ]
  },
  {
   "cell_type": "code",
   "execution_count": null,
   "id": "b1273795",
   "metadata": {},
   "outputs": [],
   "source": []
  }
 ],
 "metadata": {
  "kernelspec": {
   "display_name": "Python 3 (ipykernel)",
   "language": "python",
   "name": "python3"
  },
  "language_info": {
   "codemirror_mode": {
    "name": "ipython",
    "version": 3
   },
   "file_extension": ".py",
   "mimetype": "text/x-python",
   "name": "python",
   "nbconvert_exporter": "python",
   "pygments_lexer": "ipython3",
   "version": "3.8.12"
  }
 },
 "nbformat": 4,
 "nbformat_minor": 5
}
