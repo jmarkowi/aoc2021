{
 "cells": [
  {
   "cell_type": "markdown",
   "id": "9bce0cc9",
   "metadata": {},
   "source": [
    "# Day 4: Giant Squid\n",
    "\n",
    "## Part 1:\n",
    "\n",
    "You're already almost 1.5km (almost a mile) below the surface of the ocean, already so deep that you can't see any sunlight. What you **can** see, however, is a giant squid that has attached itself to the outside of your submarine.\n",
    "\n",
    "Maybe it wants to play [bingo](https://en.wikipedia.org/wiki/Bingo_(American_version))?\n",
    "\n",
    "Bingo is played on a set of boards each consisting of a 5x5 grid of numbers. Numbers are chosen at random, and the chosen number is marked on all boards on which it appears. (Numbers may not appear on all boards.) If all numbers in any row or any column of a board are marked, that board wins. (Diagonals don't count.)\n",
    "\n",
    "The submarine has a bingo subsystem to help passengers (currently, you and the giant squid) pass the time. It automatically generates a random order in which to draw numbers and a random set of boards (your puzzle input). For example:\n",
    "\n",
    "```\n",
    "7,4,9,5,11,17,23,2,0,14,21,24,10,16,13,6,15,25,12,22,18,20,8,19,3,26,1\n",
    "\n",
    "22 13 17 11  0\n",
    " 8  2 23  4 24\n",
    "21  9 14 16  7\n",
    " 6 10  3 18  5\n",
    " 1 12 20 15 19\n",
    "\n",
    " 3 15  0  2 22\n",
    " 9 18 13 17  5\n",
    "19  8  7 25 23\n",
    "20 11 10 24  4\n",
    "14 21 16 12  6\n",
    "\n",
    "14 21 17 24  4\n",
    "10 16 15  9 19\n",
    "18  8 23 26 20\n",
    "22 11 13  6  5\n",
    " 2  0 12  3  7\n",
    " ```\n",
    " \n",
    "After the first five numbers are drawn (7, 4, 9, 5, and 11), there are no winners, but the boards are marked as follows (shown here adjacent to each other to save space):\n",
    "```\n",
    "22 13 17 11  0         3 15  0  2 22        14 21 17 24  4\n",
    " 8  2 23  4 24         9 18 13 17  5        10 16 15  9 19\n",
    "21  9 14 16  7        19  8  7 25 23        18  8 23 26 20\n",
    " 6 10  3 18  5        20 11 10 24  4        22 11 13  6  5\n",
    " 1 12 20 15 19        14 21 16 12  6         2  0 12  3  7\n",
    " ```\n",
    "After the next six numbers are drawn (17, 23, 2, 0, 14, and 21), there are still no winners:\n",
    "```\n",
    "22 13 17 11  0         3 15  0  2 22        14 21 17 24  4\n",
    " 8  2 23  4 24         9 18 13 17  5        10 16 15  9 19\n",
    "21  9 14 16  7        19  8  7 25 23        18  8 23 26 20\n",
    " 6 10  3 18  5        20 11 10 24  4        22 11 13  6  5\n",
    " 1 12 20 15 19        14 21 16 12  6         2  0 12  3  7\n",
    " ```\n",
    "Finally, 24 is drawn:\n",
    "```\n",
    "22 13 17 11  0         3 15  0  2 22        14 21 17 24  4\n",
    " 8  2 23  4 24         9 18 13 17  5        10 16 15  9 19\n",
    "21  9 14 16  7        19  8  7 25 23        18  8 23 26 20\n",
    " 6 10  3 18  5        20 11 10 24  4        22 11 13  6  5\n",
    " 1 12 20 15 19        14 21 16 12  6         2  0 12  3  7\n",
    " ```\n",
    "At this point, the third board **wins** because it has at least one complete row or column of marked numbers (in this case, the entire top row is marked: `14 21 17 24 4`).\n",
    "\n",
    "The score of the winning board can now be calculated. Start by finding the **sum of all unmarked numbers on that board**; in this case, the sum is `188`. Then, multiply that sum by **the number that was just called** when the board won, 24, to get the final score, `188 * 24 = 4512`.\n",
    "\n",
    "To guarantee victory against the giant squid, figure out which board will win first. **What will your final score be if you choose that board?**"
   ]
  },
  {
   "cell_type": "markdown",
   "id": "10c9050e",
   "metadata": {},
   "source": [
    "Pseudocode solution:\n",
    "```\n",
    "def solution(input_text):\n",
    "    drawing = get_drawing_numbers(input_text)\n",
    "    boards = get_boards(input_text)\n",
    "    \n",
    "    for num in drawing:\n",
    "        if check_winner(boards):\n",
    "            return score(winning_board(boards))\n",
    "        else:\n",
    "            mark_boards(num)\n",
    "```"
   ]
  },
  {
   "cell_type": "code",
   "execution_count": 296,
   "id": "a89327fa",
   "metadata": {
    "ExecuteTime": {
     "end_time": "2021-12-05T00:59:19.420659Z",
     "start_time": "2021-12-05T00:59:19.413217Z"
    }
   },
   "outputs": [
    {
     "data": {
      "text/plain": [
       "['7,4,9,5,11,17,23,2,0,14,21,24,10,16,13,6,15,25,12,22,18,20,8,19,3,26,1',\n",
       " '',\n",
       " '22 13 17 11  0',\n",
       " '8  2 23  4 24',\n",
       " '21  9 14 16  7',\n",
       " '6 10  3 18  5',\n",
       " '1 12 20 15 19',\n",
       " '',\n",
       " '3 15  0  2 22',\n",
       " '9 18 13 17  5',\n",
       " '19  8  7 25 23',\n",
       " '20 11 10 24  4',\n",
       " '14 21 16 12  6',\n",
       " '',\n",
       " '14 21 17 24  4',\n",
       " '10 16 15  9 19',\n",
       " '18  8 23 26 20',\n",
       " '22 11 13  6  5',\n",
       " '2  0 12  3  7']"
      ]
     },
     "execution_count": 296,
     "metadata": {},
     "output_type": "execute_result"
    }
   ],
   "source": [
    "# First on the test input\n",
    "with open('./test_input_4.txt') as f:\n",
    "    lines = f.readlines()\n",
    "test_bingo = [line.strip() for line in lines]\n",
    "test_bingo"
   ]
  },
  {
   "cell_type": "markdown",
   "id": "6c75e5c6",
   "metadata": {},
   "source": [
    "First step is definitely to get this into one set of drawing numbers and a bunch of bingo boards."
   ]
  },
  {
   "cell_type": "code",
   "execution_count": 155,
   "id": "e4364491",
   "metadata": {
    "ExecuteTime": {
     "end_time": "2021-12-05T00:16:16.691760Z",
     "start_time": "2021-12-05T00:16:16.682961Z"
    }
   },
   "outputs": [
    {
     "data": {
      "text/plain": [
       "'7,4,9,5,11,17,23,2,0,14,21,24,10,16,13,6,15,25,12,22,18,20,8,19,3,26,1'"
      ]
     },
     "execution_count": 155,
     "metadata": {},
     "output_type": "execute_result"
    }
   ],
   "source": [
    "test_bingo[0]"
   ]
  },
  {
   "cell_type": "code",
   "execution_count": 156,
   "id": "80deabab",
   "metadata": {
    "ExecuteTime": {
     "end_time": "2021-12-05T00:16:18.470486Z",
     "start_time": "2021-12-05T00:16:18.465470Z"
    },
    "scrolled": true
   },
   "outputs": [
    {
     "data": {
      "text/plain": [
       "[7,\n",
       " 4,\n",
       " 9,\n",
       " 5,\n",
       " 11,\n",
       " 17,\n",
       " 23,\n",
       " 2,\n",
       " 0,\n",
       " 14,\n",
       " 21,\n",
       " 24,\n",
       " 10,\n",
       " 16,\n",
       " 13,\n",
       " 6,\n",
       " 15,\n",
       " 25,\n",
       " 12,\n",
       " 22,\n",
       " 18,\n",
       " 20,\n",
       " 8,\n",
       " 19,\n",
       " 3,\n",
       " 26,\n",
       " 1]"
      ]
     },
     "execution_count": 156,
     "metadata": {},
     "output_type": "execute_result"
    }
   ],
   "source": [
    "drawing = [int(num) for num in test_bingo[0].split(',')]\n",
    "drawing"
   ]
  },
  {
   "cell_type": "markdown",
   "id": "3e6dacca",
   "metadata": {},
   "source": [
    "To get the boards, I want to iterate down through the input text, loading a board after each newline. It will probably help to know in advance that all boards are 5x5. It sounds like it might be easy to save them all as either nested lists/dicts or numpy arrays/matrix."
   ]
  },
  {
   "cell_type": "code",
   "execution_count": 157,
   "id": "6d99d4d2",
   "metadata": {
    "ExecuteTime": {
     "end_time": "2021-12-05T00:16:20.406245Z",
     "start_time": "2021-12-05T00:16:20.403928Z"
    }
   },
   "outputs": [],
   "source": [
    "import numpy as np"
   ]
  },
  {
   "cell_type": "code",
   "execution_count": 158,
   "id": "35abd2f2",
   "metadata": {
    "ExecuteTime": {
     "end_time": "2021-12-05T00:16:21.172303Z",
     "start_time": "2021-12-05T00:16:21.168874Z"
    }
   },
   "outputs": [
    {
     "data": {
      "text/plain": [
       "['22 13 17 11  0',\n",
       " '8  2 23  4 24',\n",
       " '21  9 14 16  7',\n",
       " '6 10  3 18  5',\n",
       " '1 12 20 15 19']"
      ]
     },
     "execution_count": 158,
     "metadata": {},
     "output_type": "execute_result"
    }
   ],
   "source": [
    "test_bingo[2:7]"
   ]
  },
  {
   "cell_type": "code",
   "execution_count": 159,
   "id": "fa0e725b",
   "metadata": {
    "ExecuteTime": {
     "end_time": "2021-12-05T00:16:24.494598Z",
     "start_time": "2021-12-05T00:16:24.489421Z"
    }
   },
   "outputs": [
    {
     "data": {
      "text/plain": [
       "array([[0., 0., 0., 0., 0.],\n",
       "       [0., 0., 0., 0., 0.],\n",
       "       [0., 0., 0., 0., 0.],\n",
       "       [0., 0., 0., 0., 0.],\n",
       "       [0., 0., 0., 0., 0.]])"
      ]
     },
     "execution_count": 159,
     "metadata": {},
     "output_type": "execute_result"
    }
   ],
   "source": [
    "test_array = np.zeros((5, 5))\n",
    "test_array"
   ]
  },
  {
   "cell_type": "code",
   "execution_count": 160,
   "id": "b5012479",
   "metadata": {
    "ExecuteTime": {
     "end_time": "2021-12-05T00:16:24.798171Z",
     "start_time": "2021-12-05T00:16:24.794008Z"
    }
   },
   "outputs": [
    {
     "data": {
      "text/plain": [
       "array([[1., 2., 3., 4., 5.],\n",
       "       [0., 0., 0., 0., 0.],\n",
       "       [0., 0., 0., 0., 0.],\n",
       "       [0., 0., 0., 0., 0.],\n",
       "       [0., 0., 0., 0., 0.]])"
      ]
     },
     "execution_count": 160,
     "metadata": {},
     "output_type": "execute_result"
    }
   ],
   "source": [
    "test_array[0] = [1, 2, 3, 4, 5]\n",
    "test_array"
   ]
  },
  {
   "cell_type": "code",
   "execution_count": 161,
   "id": "96f82069",
   "metadata": {
    "ExecuteTime": {
     "end_time": "2021-12-05T00:16:26.077383Z",
     "start_time": "2021-12-05T00:16:26.073692Z"
    }
   },
   "outputs": [
    {
     "data": {
      "text/plain": [
       "['22', '13', '17', '11', '0']"
      ]
     },
     "execution_count": 161,
     "metadata": {},
     "output_type": "execute_result"
    }
   ],
   "source": [
    "test_bingo[2].split()"
   ]
  },
  {
   "cell_type": "code",
   "execution_count": 184,
   "id": "73974db1",
   "metadata": {
    "ExecuteTime": {
     "end_time": "2021-12-05T00:24:58.577524Z",
     "start_time": "2021-12-05T00:24:58.573851Z"
    }
   },
   "outputs": [
    {
     "name": "stdout",
     "output_type": "stream",
     "text": [
      "Blank line!\n",
      "22 13 17 11  0\n",
      "8  2 23  4 24\n",
      "21  9 14 16  7\n",
      "6 10  3 18  5\n",
      "1 12 20 15 19\n",
      "Blank line!\n",
      "3 15  0  2 22\n",
      "9 18 13 17  5\n",
      "19  8  7 25 23\n",
      "20 11 10 24  4\n",
      "14 21 16 12  6\n",
      "Blank line!\n",
      "14 21 17 24  4\n",
      "10 16 15  9 19\n",
      "18  8 23 26 20\n",
      "22 11 13  6  5\n",
      "2  0 12  3  7\n"
     ]
    }
   ],
   "source": [
    "for line in test_bingo[1:]:\n",
    "    if line == '':\n",
    "        print('Blank line!')\n",
    "    else:\n",
    "        print(line)"
   ]
  },
  {
   "cell_type": "code",
   "execution_count": 188,
   "id": "20b7303f",
   "metadata": {
    "ExecuteTime": {
     "end_time": "2021-12-05T00:27:48.883096Z",
     "start_time": "2021-12-05T00:27:48.876743Z"
    }
   },
   "outputs": [
    {
     "data": {
      "text/plain": [
       "[[[22, 13, 17, 11, 0],\n",
       "  [8, 2, 23, 4, 24],\n",
       "  [21, 9, 14, 16, 7],\n",
       "  [6, 10, 3, 18, 5],\n",
       "  [1, 12, 20, 15, 19]],\n",
       " [[3, 15, 0, 2, 22],\n",
       "  [9, 18, 13, 17, 5],\n",
       "  [19, 8, 7, 25, 23],\n",
       "  [20, 11, 10, 24, 4],\n",
       "  [14, 21, 16, 12, 6]],\n",
       " [[14, 21, 17, 24, 4],\n",
       "  [10, 16, 15, 9, 19],\n",
       "  [18, 8, 23, 26, 20],\n",
       "  [22, 11, 13, 6, 5]]]"
      ]
     },
     "execution_count": 188,
     "metadata": {},
     "output_type": "execute_result"
    }
   ],
   "source": [
    "boards = []\n",
    "new_board = []\n",
    "\n",
    "for line in test_bingo[2:]:\n",
    "    if line == '' or line == test_bingo[-1]:\n",
    "        boards.append(new_board)\n",
    "        new_board = []\n",
    "    else:\n",
    "        new_line = [int(num) for num in line.split()]\n",
    "        new_board.append(new_line)\n",
    "\n",
    "boards"
   ]
  },
  {
   "cell_type": "markdown",
   "id": "ba5a9635",
   "metadata": {},
   "source": [
    "Actually, after taking a walk and a break, I'm realizing that my original approach is quite inefficient and I think I have a better idea:\n",
    "\n",
    "```\n",
    "def solution(input_text):\n",
    "    drawing = get_drawing_numbers(input_text)\n",
    "    best_board = []\n",
    "    # Initialize with worst possible game\n",
    "    fastest_win = len(drawing) \n",
    "    \n",
    "    while input_text:\n",
    "        board = get_next_board(input_text) # Destructive; input_text becomes Null\n",
    "        draws_to_win = score_board(board)\n",
    "        if draws_to_win = 5 # Fastest possible game\n",
    "            best_board = board\n",
    "            break\n",
    "        elif draws_to_win < fastest_win:\n",
    "            best_board = board\n",
    "            fastest_win = draw_to_win\n",
    "        else:\n",
    "            continue\n",
    "    \n",
    "    return final_score(best_board) * drawing[fastest_win]\n",
    "```"
   ]
  },
  {
   "cell_type": "code",
   "execution_count": 301,
   "id": "808d3b3d",
   "metadata": {
    "ExecuteTime": {
     "end_time": "2021-12-05T01:00:11.678918Z",
     "start_time": "2021-12-05T01:00:11.674549Z"
    },
    "scrolled": true
   },
   "outputs": [
    {
     "data": {
      "text/plain": [
       "['22 13 17 11  0',\n",
       " '8  2 23  4 24',\n",
       " '21  9 14 16  7',\n",
       " '6 10  3 18  5',\n",
       " '1 12 20 15 19']"
      ]
     },
     "execution_count": 301,
     "metadata": {},
     "output_type": "execute_result"
    }
   ],
   "source": [
    "test_bingo[2:7]"
   ]
  },
  {
   "cell_type": "code",
   "execution_count": 302,
   "id": "731d3dbf",
   "metadata": {
    "ExecuteTime": {
     "end_time": "2021-12-05T01:00:12.263429Z",
     "start_time": "2021-12-05T01:00:12.258987Z"
    }
   },
   "outputs": [
    {
     "data": {
      "text/plain": [
       "['22 13 17 11  0',\n",
       " '8  2 23  4 24',\n",
       " '21  9 14 16  7',\n",
       " '6 10  3 18  5',\n",
       " '1 12 20 15 19']"
      ]
     },
     "execution_count": 302,
     "metadata": {},
     "output_type": "execute_result"
    }
   ],
   "source": [
    "test_board = test_bingo[2:7]\n",
    "test_board"
   ]
  },
  {
   "cell_type": "code",
   "execution_count": 303,
   "id": "9f14aea4",
   "metadata": {
    "ExecuteTime": {
     "end_time": "2021-12-05T01:00:12.834611Z",
     "start_time": "2021-12-05T01:00:12.828067Z"
    }
   },
   "outputs": [
    {
     "data": {
      "text/plain": [
       "array([[22, 13, 17, 11,  0],\n",
       "       [ 8,  2, 23,  4, 24],\n",
       "       [21,  9, 14, 16,  7],\n",
       "       [ 6, 10,  3, 18,  5],\n",
       "       [ 1, 12, 20, 15, 19]])"
      ]
     },
     "execution_count": 303,
     "metadata": {},
     "output_type": "execute_result"
    }
   ],
   "source": [
    "new_board = []\n",
    "for i in range(5):\n",
    "    new_board.append(np.array([int(num) for num in test_board.pop(0).split()]))\n",
    "new_board = np.array(new_board)\n",
    "new_board"
   ]
  },
  {
   "cell_type": "code",
   "execution_count": 310,
   "id": "fb18b53f",
   "metadata": {
    "ExecuteTime": {
     "end_time": "2021-12-05T01:02:39.321709Z",
     "start_time": "2021-12-05T01:02:39.317423Z"
    }
   },
   "outputs": [
    {
     "data": {
      "text/plain": [
       "array([4, 4])"
      ]
     },
     "execution_count": 310,
     "metadata": {},
     "output_type": "execute_result"
    }
   ],
   "source": [
    "np.argwhere(new_board==19)[0]"
   ]
  },
  {
   "cell_type": "code",
   "execution_count": 319,
   "id": "c35a787c",
   "metadata": {
    "ExecuteTime": {
     "end_time": "2021-12-05T01:07:00.225440Z",
     "start_time": "2021-12-05T01:07:00.222059Z"
    }
   },
   "outputs": [],
   "source": [
    "# Return next board from input_text as 2D numpy array\n",
    "def get_next_board(input_text):\n",
    "    # Get rid of first blank line\n",
    "    blank = input_text.pop(0)\n",
    "    new_board = []\n",
    "    for i in range(5):\n",
    "        new_board.append(np.array([int(num) for num in input_text.pop(0).split()]))\n",
    "    return np.array(new_board)"
   ]
  },
  {
   "cell_type": "code",
   "execution_count": 426,
   "id": "858178b1",
   "metadata": {
    "ExecuteTime": {
     "end_time": "2021-12-05T01:49:01.174342Z",
     "start_time": "2021-12-05T01:49:01.170376Z"
    }
   },
   "outputs": [],
   "source": [
    "# Return number of draws to win with a board\n",
    "def score_board(drawing, board):\n",
    "    rows = [0]*len(board)\n",
    "    cols = [0]*len(board)\n",
    "    for i, num in enumerate(drawing):\n",
    "        try:\n",
    "            x, y = np.argwhere(board == num)[0]\n",
    "            rows[x]+=1\n",
    "            cols[y]+=1\n",
    "            if 5 in rows or 5 in cols:\n",
    "                return i+1\n",
    "            else:\n",
    "                continue\n",
    "        except:\n",
    "            continue"
   ]
  },
  {
   "cell_type": "code",
   "execution_count": 427,
   "id": "f93cbfcf",
   "metadata": {
    "ExecuteTime": {
     "end_time": "2021-12-05T01:49:01.725574Z",
     "start_time": "2021-12-05T01:49:01.722579Z"
    }
   },
   "outputs": [],
   "source": [
    "def final_score(drawing, board, fastest_win):\n",
    "    flat_board = board.flatten()\n",
    "    remainder = [num for num in flat_board if num not in drawing[:fastest_win]]\n",
    "    print(remainder)\n",
    "    return np.sum(remainder)"
   ]
  },
  {
   "cell_type": "code",
   "execution_count": 428,
   "id": "899c1d91",
   "metadata": {
    "ExecuteTime": {
     "end_time": "2021-12-05T01:49:01.975261Z",
     "start_time": "2021-12-05T01:49:01.970712Z"
    }
   },
   "outputs": [],
   "source": [
    "def solution(input_text):\n",
    "    drawing = [int(num) for num in input_text.pop(0).split(',')]\n",
    "    best_board = None\n",
    "    fastest_win = len(drawing)\n",
    "    \n",
    "    while input_text:\n",
    "        board = get_next_board(input_text)\n",
    "        draws_to_win = score_board(drawing, board)\n",
    "        # Fastest possible game\n",
    "        if draws_to_win==5:\n",
    "            fastest_win = draws_to_win\n",
    "            best_board = board\n",
    "            break\n",
    "        # Faster game\n",
    "        elif draws_to_win < fastest_win:\n",
    "            best_board = board\n",
    "            fastest_win = draws_to_win\n",
    "        # Slower game\n",
    "        else:\n",
    "            continue\n",
    "    print(fastest_win)\n",
    "    print(best_board)\n",
    "    print(drawing[:fastest_win])\n",
    "    print(drawing[fastest_win-1])\n",
    "    return final_score(drawing, best_board, fastest_win) * drawing[fastest_win-1]"
   ]
  },
  {
   "cell_type": "code",
   "execution_count": 429,
   "id": "4d0eac74",
   "metadata": {
    "ExecuteTime": {
     "end_time": "2021-12-05T01:49:02.399308Z",
     "start_time": "2021-12-05T01:49:02.394252Z"
    }
   },
   "outputs": [
    {
     "data": {
      "text/plain": [
       "['7,4,9,5,11,17,23,2,0,14,21,24,10,16,13,6,15,25,12,22,18,20,8,19,3,26,1',\n",
       " '',\n",
       " '22 13 17 11  0',\n",
       " '8  2 23  4 24',\n",
       " '21  9 14 16  7',\n",
       " '6 10  3 18  5',\n",
       " '1 12 20 15 19',\n",
       " '',\n",
       " '3 15  0  2 22',\n",
       " '9 18 13 17  5',\n",
       " '19  8  7 25 23',\n",
       " '20 11 10 24  4',\n",
       " '14 21 16 12  6',\n",
       " '',\n",
       " '14 21 17 24  4',\n",
       " '10 16 15  9 19',\n",
       " '18  8 23 26 20',\n",
       " '22 11 13  6  5',\n",
       " '2  0 12  3  7']"
      ]
     },
     "execution_count": 429,
     "metadata": {},
     "output_type": "execute_result"
    }
   ],
   "source": [
    "# First on the test input\n",
    "with open('./test_input_4.txt') as f:\n",
    "    lines = f.readlines()\n",
    "test_bingo = [line.strip() for line in lines]\n",
    "test_bingo"
   ]
  },
  {
   "cell_type": "code",
   "execution_count": 430,
   "id": "c045eea6",
   "metadata": {
    "ExecuteTime": {
     "end_time": "2021-12-05T01:49:03.065657Z",
     "start_time": "2021-12-05T01:49:03.059463Z"
    }
   },
   "outputs": [
    {
     "name": "stdout",
     "output_type": "stream",
     "text": [
      "12\n",
      "[[14 21 17 24  4]\n",
      " [10 16 15  9 19]\n",
      " [18  8 23 26 20]\n",
      " [22 11 13  6  5]\n",
      " [ 2  0 12  3  7]]\n",
      "[7, 4, 9, 5, 11, 17, 23, 2, 0, 14, 21, 24]\n",
      "24\n",
      "[10, 16, 15, 19, 18, 8, 26, 20, 22, 13, 6, 12, 3]\n"
     ]
    },
    {
     "data": {
      "text/plain": [
       "4512"
      ]
     },
     "execution_count": 430,
     "metadata": {},
     "output_type": "execute_result"
    }
   ],
   "source": [
    "solution(test_bingo)"
   ]
  },
  {
   "cell_type": "markdown",
   "id": "fbe63261",
   "metadata": {},
   "source": [
    "Seems like it's working!\n",
    "\n",
    "After an hour of debugging, I realized I was getting the right answer for the wrong reason. The `score_board` function was only ever returning the number of total marked off numbers on a winning board, but *not* the actual number of draws it took to get there! (I hadn't fully accounted for drawn numbers not being present on the board!)"
   ]
  },
  {
   "cell_type": "code",
   "execution_count": 413,
   "id": "c30e3f36",
   "metadata": {
    "ExecuteTime": {
     "end_time": "2021-12-05T01:44:40.377470Z",
     "start_time": "2021-12-05T01:44:40.371867Z"
    }
   },
   "outputs": [
    {
     "name": "stdout",
     "output_type": "stream",
     "text": [
      "[99, 56, 7, 15, 81, 26, 75, 40, 87, 59, 62, 24, 58, 34, 78, 86, 44, 65, 18, 94, 20, 17, 98, 29, 57, 92, 14, 32, 46, 79, 85, 84, 35, 68, 55, 22, 41, 61, 90, 11, 69, 96, 23, 47, 43, 80, 72, 50, 97, 33, 53, 25, 28, 51, 49, 64, 12, 63, 21, 48, 27, 19, 67, 88, 66, 45, 3, 71, 16, 70, 76, 13, 60, 77, 73, 1, 8, 10, 52, 38, 36, 74, 83, 2, 37, 6, 31, 91, 89, 54, 42, 30, 5, 82, 9, 95, 93, 4, 0, 39]\n"
     ]
    },
    {
     "data": {
      "text/plain": [
       "array([[60, 14, 37, 78, 73],\n",
       "       [80, 40, 58, 30, 64],\n",
       "       [77, 92, 81,  1, 45],\n",
       "       [79, 26, 11, 12, 51],\n",
       "       [25, 56, 68, 67, 61]])"
      ]
     },
     "execution_count": 413,
     "metadata": {},
     "output_type": "execute_result"
    }
   ],
   "source": [
    "drawing = '99,56,7,15,81,26,75,40,87,59,62,24,58,34,78,86,44,65,18,94,20,17,98,29,57,92,14,32,46,79,85,84,35,68,55,22,41,61,90,11,69,96,23,47,43,80,72,50,97,33,53,25,28,51,49,64,12,63,21,48,27,19,67,88,66,45,3,71,16,70,76,13,60,77,73,1,8,10,52,38,36,74,83,2,37,6,31,91,89,54,42,30,5,82,9,95,93,4,0,39'\n",
    "drawing = [int(num) for num in drawing.split(',')]\n",
    "print(drawing)\n",
    "test_board = get_next_board(['','60 14 37 78 73',\n",
    "                            '80 40 58 30 64',\n",
    "                            '77 92 81  1 45',\n",
    "                            '79 26 11 12 51',\n",
    "                            '25 56 68 67 61'])\n",
    "test_board"
   ]
  },
  {
   "cell_type": "code",
   "execution_count": 414,
   "id": "561d8e25",
   "metadata": {
    "ExecuteTime": {
     "end_time": "2021-12-05T01:44:54.847686Z",
     "start_time": "2021-12-05T01:44:54.843304Z"
    }
   },
   "outputs": [
    {
     "data": {
      "text/plain": [
       "8"
      ]
     },
     "execution_count": 414,
     "metadata": {},
     "output_type": "execute_result"
    }
   ],
   "source": [
    "score_board(drawing, test_board)"
   ]
  },
  {
   "cell_type": "code",
   "execution_count": 415,
   "id": "1bec28a1",
   "metadata": {
    "ExecuteTime": {
     "end_time": "2021-12-05T01:45:06.191675Z",
     "start_time": "2021-12-05T01:45:06.186957Z"
    }
   },
   "outputs": [
    {
     "data": {
      "text/plain": [
       "[99, 56, 7, 15, 81, 26, 75, 40]"
      ]
     },
     "execution_count": 415,
     "metadata": {},
     "output_type": "execute_result"
    }
   ],
   "source": [
    "drawing[:8]"
   ]
  },
  {
   "cell_type": "code",
   "execution_count": 431,
   "id": "b087afd9",
   "metadata": {
    "ExecuteTime": {
     "end_time": "2021-12-05T01:50:52.197490Z",
     "start_time": "2021-12-05T01:50:52.184892Z"
    }
   },
   "outputs": [
    {
     "data": {
      "text/plain": [
       "['99,56,7,15,81,26,75,40,87,59,62,24,58,34,78,86,44,65,18,94,20,17,98,29,57,92,14,32,46,79,85,84,35,68,55,22,41,61,90,11,69,96,23,47,43,80,72,50,97,33,53,25,28,51,49,64,12,63,21,48,27,19,67,88,66,45,3,71,16,70,76,13,60,77,73,1,8,10,52,38,36,74,83,2,37,6,31,91,89,54,42,30,5,82,9,95,93,4,0,39',\n",
       " '',\n",
       " '57 19 40 54 64',\n",
       " '22 69 15 88  8',\n",
       " '79 60 48 95 85',\n",
       " '34 97 33  1 55',\n",
       " '72 82 29 90 84',\n",
       " '',\n",
       " '19 17 62 78 27',\n",
       " '61 13 30 75 25',\n",
       " '14 66 72 37 79',\n",
       " '49 91 97  0 23',\n",
       " '12 52 41 92 18',\n",
       " '',\n",
       " '52 17 62 49 76',\n",
       " '8 78 93 37 12',\n",
       " '9 40 59 75 94',\n",
       " '45  2 81 44 63',\n",
       " '73 18 48 11 90',\n",
       " '',\n",
       " '59 75 55 74 43',\n",
       " '1 17 89 36 91',\n",
       " '87 52 45 83 22',\n",
       " '9  3 15 11 53',\n",
       " '94 72 68 29 20',\n",
       " '',\n",
       " '71 97 74 32 17',\n",
       " '31  5 43 83 38',\n",
       " '85 27 37 14 65',\n",
       " '23  0 61 33 82',\n",
       " '41 63 70 60  6',\n",
       " '',\n",
       " '58 24 28 42 73',\n",
       " '80 52 97 68 53',\n",
       " '30 40 45 18 13',\n",
       " '94 12  7 77 98',\n",
       " '72 14 34 21 23',\n",
       " '',\n",
       " '97 93 21 99 35',\n",
       " '31  8 73 15 74',\n",
       " '67 60 44  1 18',\n",
       " '68 61 64 82 86',\n",
       " '76 47 22 63 78',\n",
       " '',\n",
       " '49  6 93 20 95',\n",
       " '96 50 57 71 70',\n",
       " '90 42  7  2 27',\n",
       " '38 78 56 21 82',\n",
       " '55 98 72 40 66',\n",
       " '',\n",
       " '43  5 11 46 24',\n",
       " '30 45 91 50 72',\n",
       " '27 53  0 10  7',\n",
       " '15 35 73 96  9',\n",
       " '2 67  1 17 32',\n",
       " '',\n",
       " '48 45 91 41 65',\n",
       " '72 63 33 49  8',\n",
       " '10 39 96 61 14',\n",
       " '26 58 16 74 34',\n",
       " '79 60 40 30 35',\n",
       " '',\n",
       " '71  0 52 48 32',\n",
       " '92 85 38 20 84',\n",
       " '68 24 13 74  2',\n",
       " '42 60 96 16 17',\n",
       " '59 67 69  8 65',\n",
       " '',\n",
       " '11 79 91 16 87',\n",
       " '82 39 77 24 32',\n",
       " '67 45 22 86 31',\n",
       " '84 56 54 55 75',\n",
       " '5 41  3 70 40',\n",
       " '',\n",
       " '55 15 20 43 96',\n",
       " '63 47 13 18 91',\n",
       " '28 66 14 21 52',\n",
       " '59  9 12 97 58',\n",
       " '83 81  8 36 44',\n",
       " '',\n",
       " '7 75 86 59  2',\n",
       " '47 14 87 19 49',\n",
       " '64  3 52 91 40',\n",
       " '11 43 35  1 44',\n",
       " '78 29 56  5 36',\n",
       " '',\n",
       " '46 32 44  4 30',\n",
       " '77  6 63 13 74',\n",
       " '71 23 53 56 27',\n",
       " '84 93 19 83 81',\n",
       " '16 97 99 34 92',\n",
       " '',\n",
       " '6 87 56 63 39',\n",
       " '93 51 71 92 40',\n",
       " '81 14  9 26 24',\n",
       " '80 66 88 89 44',\n",
       " '18  1 29  7  8',\n",
       " '',\n",
       " '74 61  9 83 18',\n",
       " '57 95 79 35 47',\n",
       " '81 72 80 12 37',\n",
       " '1  8 71 54 86',\n",
       " '40  2 97 19 17',\n",
       " '',\n",
       " '80 12 74 16 92',\n",
       " '99 26 49 79 28',\n",
       " '39 31 83 64 54',\n",
       " '14 90 42 96 81',\n",
       " '27 11 33 36 35',\n",
       " '',\n",
       " '80 26 21 49  9',\n",
       " '79 47 74 75 77',\n",
       " '78 16 89 55 43',\n",
       " '27 28 95 71 57',\n",
       " '81 36  0 87 66',\n",
       " '',\n",
       " '16 65 29 94  9',\n",
       " '71 56 39 30 23',\n",
       " '74 49  2 63 13',\n",
       " '54 45 48 66 64',\n",
       " '70 21 44 57  0',\n",
       " '',\n",
       " '16 72 74 15 79',\n",
       " '66 12 45 70 18',\n",
       " '44 51 98 11 26',\n",
       " '64 68 28 49 27',\n",
       " '48 69 52  7  2',\n",
       " '',\n",
       " '72 54 71 43 92',\n",
       " '83 95 58 36  1',\n",
       " '96 35 62 46 18',\n",
       " '16 29 30 28 21',\n",
       " '99 87  6 64 11',\n",
       " '',\n",
       " '61 34 54 25 91',\n",
       " '90 33 44 22 10',\n",
       " '58 37 59  3 28',\n",
       " '20 18 98 38  2',\n",
       " '95 99 69 50 14',\n",
       " '',\n",
       " '71 72 25 17  4',\n",
       " '70 37 92 85 51',\n",
       " '78 28 82 48 89',\n",
       " '12 52  7 13 21',\n",
       " '74 73 44 46 36',\n",
       " '',\n",
       " '21 99 48 77 34',\n",
       " '51 67 14 83 89',\n",
       " '7 91 22 63 97',\n",
       " '4 82 42 11 23',\n",
       " '2 27 45 13 94',\n",
       " '',\n",
       " '83 23 72 22 24',\n",
       " '13 27 70 20 15',\n",
       " '0 56 41  1 19',\n",
       " '62 68 75 21 67',\n",
       " '90 12 77 98 14',\n",
       " '',\n",
       " '56 63 78 71 51',\n",
       " '22 18 33 92 65',\n",
       " '89 12 45 82 73',\n",
       " '13 34 37 48 97',\n",
       " '42 85 54  4 53',\n",
       " '',\n",
       " '74 70 52 96 41',\n",
       " '93 36 73 81  4',\n",
       " '63 71  0  3 57',\n",
       " '51 54 94 25 24',\n",
       " '88 80 22 17 16',\n",
       " '',\n",
       " '0 70 60 17  3',\n",
       " '66 80 73 84 99',\n",
       " '34 69 22 90 72',\n",
       " '15 41  6 39 76',\n",
       " '94  9 98 91 75',\n",
       " '',\n",
       " '17 20  4 19 79',\n",
       " '30 42  0 11  2',\n",
       " '37 28 95 14 71',\n",
       " '61 81 39 12 82',\n",
       " '33 44 69 29 26',\n",
       " '',\n",
       " '87 98 74 96 15',\n",
       " '2 61  1 52 23',\n",
       " '49 81  0 99 69',\n",
       " '47 35 55 60 36',\n",
       " '94 19 29 63 53',\n",
       " '',\n",
       " '84 95 22 54 93',\n",
       " '98 94  7  5 30',\n",
       " '4 46 28 68 90',\n",
       " '15 29 71 73 66',\n",
       " '42 44 45 82 10',\n",
       " '',\n",
       " '28 66 41 39 92',\n",
       " '61 63 27 40 38',\n",
       " '42 73 53 52 81',\n",
       " '62 78 96 82 51',\n",
       " '59 68 64 93 16',\n",
       " '',\n",
       " '48 49 51 85 12',\n",
       " '90 81 18 73 30',\n",
       " '67 46 38 60 17',\n",
       " '10 86 62 66 84',\n",
       " '98 36 99  8 45',\n",
       " '',\n",
       " '11 53 78 32 83',\n",
       " '94  0 80 67 37',\n",
       " '76  7 34 20  1',\n",
       " '12 25 73 71 28',\n",
       " '48 14 29 40 23',\n",
       " '',\n",
       " '35 98 14 33 11',\n",
       " '19 66 96 77 44',\n",
       " '32 50 15 49 70',\n",
       " '75 59 90 43 58',\n",
       " '23 45 78 18 95',\n",
       " '',\n",
       " '35 49 20 72 56',\n",
       " '12 70  3  5 58',\n",
       " '83 60 61 73 63',\n",
       " '45 78 98 95 19',\n",
       " '80 11 92 82 13',\n",
       " '',\n",
       " '69  0 37 63 41',\n",
       " '75 70 34 64 54',\n",
       " '10  1 59  9 65',\n",
       " '90 78 87 71 66',\n",
       " '74 35 29 58 20',\n",
       " '',\n",
       " '60 39 66 68 28',\n",
       " '90 64 36 93  2',\n",
       " '37 57 69 91 20',\n",
       " '73 96 50 86 77',\n",
       " '87 14 63 38 98',\n",
       " '',\n",
       " '43 89 14 74 12',\n",
       " '65 94 71  2 93',\n",
       " '76 37 96 47 92',\n",
       " '55 25 90 83 88',\n",
       " '79 11 59 50 81',\n",
       " '',\n",
       " '62 85 98 67 19',\n",
       " '79 17 71 53 93',\n",
       " '13 50 88 28 58',\n",
       " '36 20 52 66 27',\n",
       " '89 48 24 12 77',\n",
       " '',\n",
       " '73 13  3 97 16',\n",
       " '40 14  4 47 88',\n",
       " '12 79 56 80 60',\n",
       " '27  6 94  1 75',\n",
       " '72 22 44 62 24',\n",
       " '',\n",
       " '29 77 70 61 95',\n",
       " '63 57 41 12  7',\n",
       " '22 99 58 31 81',\n",
       " '15  3 48 20 36',\n",
       " '8 76 87 23 91',\n",
       " '',\n",
       " '61 79 53 73 59',\n",
       " '67 34 37 54 15',\n",
       " '29 50 64 56 44',\n",
       " '93 51  0 18 17',\n",
       " '27 35 89  3 60',\n",
       " '',\n",
       " '79 23 31 48 12',\n",
       " '37 96 74 63  4',\n",
       " '98 18 69  6  0',\n",
       " '47 54 34 82 46',\n",
       " '5 86 64 60 99',\n",
       " '',\n",
       " '44 70 50 53 62',\n",
       " '15 61 45 74 52',\n",
       " '35 48 99 12 49',\n",
       " '91 26 47 78  0',\n",
       " '58 82 94 73  7',\n",
       " '',\n",
       " '2 64 81 48 83',\n",
       " '66 85 91 26 47',\n",
       " '50 95 70 54 13',\n",
       " '39 89 44 67  6',\n",
       " '22  0 40 21  1',\n",
       " '',\n",
       " '86 63 21 73 61',\n",
       " '91 33 68 66 36',\n",
       " '77 53 16 51 85',\n",
       " '11 57 12 22 80',\n",
       " '99 40  8 30 81',\n",
       " '',\n",
       " '27 35 60 28 95',\n",
       " '44 34  8 73 81',\n",
       " '11 26 90 32 10',\n",
       " '0 49 98  7 18',\n",
       " '55 42 86 72 77',\n",
       " '',\n",
       " '16 15 65 86 88',\n",
       " '21 98 74 93  3',\n",
       " '18  7  5 35 73',\n",
       " '62 84 42 60 81',\n",
       " '48 34 39 57 99',\n",
       " '',\n",
       " '45 60 95 62 18',\n",
       " '82 86 99 39 77',\n",
       " '48 54 97 16 25',\n",
       " '40 56 23 47 37',\n",
       " '83 68 51 90 13',\n",
       " '',\n",
       " '80 72 81 78 69',\n",
       " '74 76 33 51 91',\n",
       " '54 86 60 35 17',\n",
       " '70 61 43 97 49',\n",
       " '21 26 28 85 57',\n",
       " '',\n",
       " '19 45 43 59 10',\n",
       " '46 20 44 67 94',\n",
       " '70 53 96 78 76',\n",
       " '17 18 54 39 38',\n",
       " '66 40 33 71 83',\n",
       " '',\n",
       " '0 42 60 99 41',\n",
       " '14 96 75 93 74',\n",
       " '11 90 62 37 38',\n",
       " '29 64 27 53 85',\n",
       " '94 28 31 32 24',\n",
       " '',\n",
       " '14 19 83 98 53',\n",
       " '24 78 25 85 37',\n",
       " '39  2 41  4 32',\n",
       " '45 79 26 36 96',\n",
       " '64 80 73 13 28',\n",
       " '',\n",
       " '77  1  9 26 10',\n",
       " '37 60 69 72 81',\n",
       " '16 35 61 75 29',\n",
       " '42 53 82 67 36',\n",
       " '98 89 21 87 15',\n",
       " '',\n",
       " '45 73 88 75 46',\n",
       " '83 59 20 37 26',\n",
       " '62 42  9 78 17',\n",
       " '60 84 32 90 64',\n",
       " '40 99 61 80 48',\n",
       " '',\n",
       " '13 59 79 20 91',\n",
       " '64 65 21 82 44',\n",
       " '98 62 33 96 48',\n",
       " '46 37 40  8 70',\n",
       " '28 90 27 45 68',\n",
       " '',\n",
       " '48 94 58 96 81',\n",
       " '33 75 73 52 64',\n",
       " '23 36 67 27 54',\n",
       " '80 68 87 37  2',\n",
       " '34 47  6 30 60',\n",
       " '',\n",
       " '44 52 99 65 58',\n",
       " '77 78 68 48 94',\n",
       " '84 81 53 20 79',\n",
       " '14  7  3 46 42',\n",
       " '24 19  8 16 27',\n",
       " '',\n",
       " '42 89 86 46 83',\n",
       " '43 11 25 56 59',\n",
       " '69 82 65 55 34',\n",
       " '22 93 73 74  3',\n",
       " '26 30 60 29 45',\n",
       " '',\n",
       " '9 43 72 89 42',\n",
       " '39 24 25 28 69',\n",
       " '8 51 59  7 13',\n",
       " '64 94 30 99 65',\n",
       " '2 56 55 38 15',\n",
       " '',\n",
       " '54 83 69 44 27',\n",
       " '52 25 17 20 28',\n",
       " '59  6 79 13 21',\n",
       " '34 14 61 84 67',\n",
       " '71 26 80 41 18',\n",
       " '',\n",
       " '96 33 72 16 93',\n",
       " '35 18 99 67 68',\n",
       " '47 27 32 94 12',\n",
       " '10 45 20 91 11',\n",
       " '66 52 15  2 13',\n",
       " '',\n",
       " '43 80  4 79 17',\n",
       " '89 66 20 82  3',\n",
       " '37 12 76 90 35',\n",
       " '52 77 63 48 44',\n",
       " '58  6 39 71 95',\n",
       " '',\n",
       " '68 56 49 17 61',\n",
       " '59 39 34 70  6',\n",
       " '75 13  4 26 41',\n",
       " '54 29  2 92 24',\n",
       " '65 31 60 90 72',\n",
       " '',\n",
       " '74 71 21 86 18',\n",
       " '63 30 53 73 48',\n",
       " '36 55 87 96 79',\n",
       " '32 89 49 81 83',\n",
       " '45 26 28 22 62',\n",
       " '',\n",
       " '59 47 97 77 75',\n",
       " '25 78 24 66 95',\n",
       " '63 16 93 22 32',\n",
       " '88 61 76 40 45',\n",
       " '18 28 51 55 20',\n",
       " '',\n",
       " '39 23 29 57 49',\n",
       " '22  6 74 71 25',\n",
       " '80 27 65 69 64',\n",
       " '41 21 12 58 95',\n",
       " '5 43 11  4 36',\n",
       " '',\n",
       " '97 34 31 96 67',\n",
       " '86 24 30  6 69',\n",
       " '16 79 12 56 93',\n",
       " '18 35 58 90 11',\n",
       " '29 81 85 98 23',\n",
       " '',\n",
       " '16 40 59 19 87',\n",
       " '42 88 30 32 82',\n",
       " '17 93  1 50 56',\n",
       " '18 13 78 38 80',\n",
       " '51 14 73  8 22',\n",
       " '',\n",
       " '83 15 88 81  7',\n",
       " '99 51 13 92 31',\n",
       " '24 39  0 10  3',\n",
       " '95 72 33 73 44',\n",
       " '19 34 37 47 42',\n",
       " '',\n",
       " '67  3 65 91 32',\n",
       " '63 82 45 96 11',\n",
       " '33 78 66 43 83',\n",
       " '49 60 62 51 47',\n",
       " '34 48 26 27 54',\n",
       " '',\n",
       " '1  0 53 40 28',\n",
       " '21 30 50 74 63',\n",
       " '48 49  6 55 57',\n",
       " '66 23 45 98 39',\n",
       " '95 54 86 38 90',\n",
       " '',\n",
       " '29 80 13 87 76',\n",
       " '75 10 43 95 83',\n",
       " '61 20 48 54 18',\n",
       " '21 37 63 68  2',\n",
       " '14 73 27 31 25',\n",
       " '',\n",
       " '17 70 57 33 22',\n",
       " '66 48 53 46 75',\n",
       " '74 73 84 63 14',\n",
       " '71 72 59  3 92',\n",
       " '43 30 94  8 69',\n",
       " '',\n",
       " '76 44 40 87 46',\n",
       " '13 83  0  6 17',\n",
       " '47 81 77 86 60',\n",
       " '38 23 55 89 82',\n",
       " '73 42 54 35 52',\n",
       " '',\n",
       " '13  1 45 96 89',\n",
       " '57 65 28 27 32',\n",
       " '22 26 46 86 10',\n",
       " '20 52 76 94 37',\n",
       " '92  0 64 55 16',\n",
       " '',\n",
       " '28 11 26 64 78',\n",
       " '15  7 75 96 61',\n",
       " '35 83 18  8 53',\n",
       " '57  1 13 66 79',\n",
       " '84 47  6 43 80',\n",
       " '',\n",
       " '25 80 70  2 59',\n",
       " '44 36 98 85 76',\n",
       " '87  7 42 83 94',\n",
       " '62 40 81 33 52',\n",
       " '10 65 14 60 26',\n",
       " '',\n",
       " '19 83 26 87 91',\n",
       " '23 57 40 36 15',\n",
       " '1 54  8 49 31',\n",
       " '64  5 59 88 45',\n",
       " '69 18 58 11 62',\n",
       " '',\n",
       " '92 65 73 33 12',\n",
       " '13 30 18 66 11',\n",
       " '55 51 97 99 26',\n",
       " '57 31 71 49 41',\n",
       " '6 95 19 35 25',\n",
       " '',\n",
       " '64  9 77 92 43',\n",
       " '88 80 75 58 32',\n",
       " '33 97 53 27 23',\n",
       " '85 14 35 42 45',\n",
       " '44 95 89 61 40',\n",
       " '',\n",
       " '22 68 27 75 76',\n",
       " '95 45 80 10 14',\n",
       " '24 19 71 11 50',\n",
       " '74 41 88  8  0',\n",
       " '99 42 13 90 77',\n",
       " '',\n",
       " '83 59 56  8 58',\n",
       " '30 73 67 82  1',\n",
       " '51 84 44 33 57',\n",
       " '76 16  4 13 87',\n",
       " '6 95 72 27 38',\n",
       " '',\n",
       " '60 14 37 78 73',\n",
       " '80 40 58 30 64',\n",
       " '77 92 81  1 45',\n",
       " '79 26 11 12 51',\n",
       " '25 56 68 67 61',\n",
       " '',\n",
       " '5 20 59  4 96',\n",
       " '6 78 60 73 50',\n",
       " '88  7 48  2 35',\n",
       " '30 87 10 81 40',\n",
       " '1 84 83 22 75',\n",
       " '',\n",
       " '20 91  9 21 59',\n",
       " '30 69 60 55 37',\n",
       " '63 57 77 12 45',\n",
       " '28 64 56 95 22',\n",
       " '33 84 92 48 86',\n",
       " '',\n",
       " '75 62 83 32 91',\n",
       " '93 44 22 84 76',\n",
       " '74 34 90 59 33',\n",
       " '78 54 71 12 25',\n",
       " '10 95 14 43 28',\n",
       " '',\n",
       " '48 36 10 85  5',\n",
       " '40 69 91 72 63',\n",
       " '37 22 55 94 93',\n",
       " '16 26 21 38 35',\n",
       " '31  2 52 20  1',\n",
       " '',\n",
       " '28 85  3  4 27',\n",
       " '77 18 26 50 62',\n",
       " '78 86 52 79 59',\n",
       " '58 48 54 64 41',\n",
       " '25  2 57 44 10',\n",
       " '',\n",
       " '15 35 22 41 26',\n",
       " '2 39 88 69 84',\n",
       " '45 44 33 99 11',\n",
       " '91 20 85 32 46',\n",
       " '83 66 61 30 89',\n",
       " '',\n",
       " '14  0 97  1  7',\n",
       " '49 15 85 93 35',\n",
       " '73 90 61  8  6',\n",
       " '52 17 16 67 39',\n",
       " '91 84 25 24 66',\n",
       " '',\n",
       " '68  3 15 90 51',\n",
       " '59 62 11 61 83',\n",
       " '97 84 94 55 20',\n",
       " '71  8  1 70 73',\n",
       " '88 43 89 57  4',\n",
       " '',\n",
       " '61 30 53  8 70',\n",
       " '47 25  2 41 43',\n",
       " '99 65 96 68 66',\n",
       " '90 78 57 64 52',\n",
       " '42 95 48 40 86',\n",
       " '',\n",
       " '44 27  1 25 62',\n",
       " '92 81  5 11 40',\n",
       " '24 33 34 37  3',\n",
       " '47 28 94 58 26',\n",
       " '72 80 71 57  7',\n",
       " '',\n",
       " '54 55 73 99  9',\n",
       " '26 88 48 75 12',\n",
       " '65 84 71 85 96',\n",
       " '72 87 28 66 35',\n",
       " '89 63 15 44 69',\n",
       " '',\n",
       " '92 36 31 72 85',\n",
       " '33 93 69 65 84',\n",
       " '74 77 11 59 52',\n",
       " '6 12 34 10 45',\n",
       " '63 30 55 46 15',\n",
       " '',\n",
       " '1 59 15 45 75',\n",
       " '25 31 70 78 11',\n",
       " '36 12 34  8 79',\n",
       " '99 57 20 95 72',\n",
       " '23 50 19 73 22',\n",
       " '',\n",
       " '38 66 51 93 39',\n",
       " '12 96 99 36 97',\n",
       " '40 21 95 10 94',\n",
       " '3 22 18 26 49',\n",
       " '91 61 73 70 47']"
      ]
     },
     "execution_count": 431,
     "metadata": {},
     "output_type": "execute_result"
    }
   ],
   "source": [
    "# Now on the full input\n",
    "with open('./input_4.txt') as f:\n",
    "    lines = f.readlines()\n",
    "bingo = [line.strip() for line in lines]\n",
    "bingo"
   ]
  },
  {
   "cell_type": "code",
   "execution_count": 432,
   "id": "bbe30b87",
   "metadata": {
    "ExecuteTime": {
     "end_time": "2021-12-05T01:50:53.323718Z",
     "start_time": "2021-12-05T01:50:53.246653Z"
    },
    "scrolled": false
   },
   "outputs": [
    {
     "name": "stdout",
     "output_type": "stream",
     "text": [
      "27\n",
      "[[60 14 37 78 73]\n",
      " [80 40 58 30 64]\n",
      " [77 92 81  1 45]\n",
      " [79 26 11 12 51]\n",
      " [25 56 68 67 61]]\n",
      "[99, 56, 7, 15, 81, 26, 75, 40, 87, 59, 62, 24, 58, 34, 78, 86, 44, 65, 18, 94, 20, 17, 98, 29, 57, 92, 14]\n",
      "14\n",
      "[60, 37, 73, 80, 30, 64, 77, 1, 45, 79, 11, 12, 51, 25, 68, 67, 61]\n"
     ]
    },
    {
     "data": {
      "text/plain": [
       "11774"
      ]
     },
     "execution_count": 432,
     "metadata": {},
     "output_type": "execute_result"
    }
   ],
   "source": [
    "solution(bingo)"
   ]
  },
  {
   "cell_type": "markdown",
   "id": "c61a5e74",
   "metadata": {},
   "source": [
    "FINALLY!"
   ]
  },
  {
   "cell_type": "markdown",
   "id": "0d984972",
   "metadata": {},
   "source": [
    "## Part 2:\n",
    "\n"
   ]
  },
  {
   "cell_type": "markdown",
   "id": "0f6ba340",
   "metadata": {},
   "source": [
    "On the other hand, it might be wise to try a different strategy: let the giant squid win.\n",
    "\n",
    "You aren't sure how many bingo boards a giant squid could play at once, so rather than waste time counting its arms, the safe thing to do is to **figure out which board will win last** and choose that one. That way, no matter which boards it picks, it will win for sure.\n",
    "\n",
    "In the above example, the second board is the last to win, which happens after 13 is eventually called and its middle column is completely marked. If you were to keep playing until this point, the second board would have a sum of unmarked numbers equal to 148 for a final score of 148 * 13 = 1924.\n",
    "\n",
    "Figure out which board will win last. Once it wins, what would its final score be?\n",
    "\n",
    "*This actually seems a pretty easy change--all I have to do is keep track of the slowest_win instead of the fastest_win!*"
   ]
  },
  {
   "cell_type": "code",
   "execution_count": 436,
   "id": "995d88a4",
   "metadata": {
    "ExecuteTime": {
     "end_time": "2021-12-05T01:57:19.094458Z",
     "start_time": "2021-12-05T01:57:19.085756Z"
    }
   },
   "outputs": [],
   "source": [
    "# Return next board from input_text as 2D numpy array\n",
    "def get_next_board(input_text):\n",
    "    # Get rid of first blank line\n",
    "    blank = input_text.pop(0)\n",
    "    new_board = []\n",
    "    for i in range(5):\n",
    "        new_board.append(np.array([int(num) for num in input_text.pop(0).split()]))\n",
    "    return np.array(new_board)\n",
    "\n",
    "# Return number of draws to win with a board\n",
    "def score_board(drawing, board):\n",
    "    rows = [0]*len(board)\n",
    "    cols = [0]*len(board)\n",
    "    for i, num in enumerate(drawing):\n",
    "        try:\n",
    "            x, y = np.argwhere(board == num)[0]\n",
    "            rows[x]+=1\n",
    "            cols[y]+=1\n",
    "            if 5 in rows or 5 in cols:\n",
    "                return i+1\n",
    "            else:\n",
    "                continue\n",
    "        except:\n",
    "            continue\n",
    "    return\n",
    "\n",
    "# Calculate the final score for the slowest board\n",
    "def final_score(drawing, board, slowest_win):\n",
    "    flat_board = board.flatten()\n",
    "    remainder = [num for num in flat_board if num not in drawing[:slowest_win]]\n",
    "    print(remainder)\n",
    "    return np.sum(remainder)\n",
    "\n",
    "def slowest_solution(input_text):\n",
    "    drawing = [int(num) for num in input_text.pop(0).split(',')]\n",
    "    worst_board = None\n",
    "    slowest_win = 0\n",
    "    \n",
    "    while input_text:\n",
    "        board = get_next_board(input_text)\n",
    "        draws_to_win = score_board(drawing, board)\n",
    "        # Slowest possible game\n",
    "        if draws_to_win==len(drawing):\n",
    "            slowest_win = draws_to_win\n",
    "            worst_board = board\n",
    "            break\n",
    "        # Slower game\n",
    "        elif draws_to_win > slowest_win:\n",
    "            worst_board = board\n",
    "            slowest_win = draws_to_win\n",
    "        # Faster game\n",
    "        else:\n",
    "            continue\n",
    "    print(slowest_win)\n",
    "    print(worst_board)\n",
    "    print(drawing[:slowest_win])\n",
    "    print(drawing[slowest_win-1])\n",
    "    return final_score(drawing, worst_board, slowest_win) * drawing[slowest_win-1]"
   ]
  },
  {
   "cell_type": "code",
   "execution_count": 437,
   "id": "fd270501",
   "metadata": {
    "ExecuteTime": {
     "end_time": "2021-12-05T01:57:19.414273Z",
     "start_time": "2021-12-05T01:57:19.406988Z"
    }
   },
   "outputs": [
    {
     "name": "stdout",
     "output_type": "stream",
     "text": [
      "15\n",
      "[[ 3 15  0  2 22]\n",
      " [ 9 18 13 17  5]\n",
      " [19  8  7 25 23]\n",
      " [20 11 10 24  4]\n",
      " [14 21 16 12  6]]\n",
      "[7, 4, 9, 5, 11, 17, 23, 2, 0, 14, 21, 24, 10, 16, 13]\n",
      "13\n",
      "[3, 15, 22, 18, 19, 8, 25, 20, 12, 6]\n"
     ]
    },
    {
     "data": {
      "text/plain": [
       "1924"
      ]
     },
     "execution_count": 437,
     "metadata": {},
     "output_type": "execute_result"
    }
   ],
   "source": [
    "# First on the test input\n",
    "with open('./test_input_4.txt') as f:\n",
    "    lines = f.readlines()\n",
    "test_bingo = [line.strip() for line in lines]\n",
    "\n",
    "slowest_solution(test_bingo)"
   ]
  },
  {
   "cell_type": "code",
   "execution_count": 438,
   "id": "cfc4ff95",
   "metadata": {
    "ExecuteTime": {
     "end_time": "2021-12-05T01:57:35.955896Z",
     "start_time": "2021-12-05T01:57:35.881804Z"
    }
   },
   "outputs": [
    {
     "name": "stdout",
     "output_type": "stream",
     "text": [
      "87\n",
      "[[79 23 31 48 12]\n",
      " [37 96 74 63  4]\n",
      " [98 18 69  6  0]\n",
      " [47 54 34 82 46]\n",
      " [ 5 86 64 60 99]]\n",
      "[99, 56, 7, 15, 81, 26, 75, 40, 87, 59, 62, 24, 58, 34, 78, 86, 44, 65, 18, 94, 20, 17, 98, 29, 57, 92, 14, 32, 46, 79, 85, 84, 35, 68, 55, 22, 41, 61, 90, 11, 69, 96, 23, 47, 43, 80, 72, 50, 97, 33, 53, 25, 28, 51, 49, 64, 12, 63, 21, 48, 27, 19, 67, 88, 66, 45, 3, 71, 16, 70, 76, 13, 60, 77, 73, 1, 8, 10, 52, 38, 36, 74, 83, 2, 37, 6, 31]\n",
      "31\n",
      "[4, 0, 54, 82, 5]\n"
     ]
    },
    {
     "data": {
      "text/plain": [
       "4495"
      ]
     },
     "execution_count": 438,
     "metadata": {},
     "output_type": "execute_result"
    }
   ],
   "source": [
    "# Now on the full input\n",
    "with open('./input_4.txt') as f:\n",
    "    lines = f.readlines()\n",
    "bingo = [line.strip() for line in lines]\n",
    "\n",
    "slowest_solution(bingo)"
   ]
  },
  {
   "cell_type": "markdown",
   "id": "9b7bb341",
   "metadata": {},
   "source": [
    "Wow, SO much easier than Part 1! But maybe just because I set it up in a way that lent itself to making that change fairly simple."
   ]
  },
  {
   "cell_type": "markdown",
   "id": "050ba266",
   "metadata": {},
   "source": [
    "This puzzle seemed waaaay harder than Day 3! It might just be that it had many more moving parts, or maybe I made it more complicated somehow, or missed an obvious solution. \n",
    "\n",
    "I'm still proud of how I handled the scoring--rather than just making a sparse matrix to mark each drawn number for each board, I was able to store the information about the state of a board during play in a set of just 2 small arrays. It's probably not a huge deal for most seasoned coders, but for me it was a leap in thinking from literally/spatially representing the state of a bingo board to a more creative/efficient solution.\n",
    "\n",
    "I also like how my solution involves going through all the boards only *once* and only storing 2 boards at a time, whereas my initial solution meant storing *all* board in memory, then looping through all of them for every new number draw. My better solution does involves looping over drawing many times, but it's a 1D array. \n",
    "\n",
    "I'm very curious to know how to optimize this solution even further. I'm sure this is not the fastest/lightest way."
   ]
  },
  {
   "cell_type": "code",
   "execution_count": null,
   "id": "75a73618",
   "metadata": {},
   "outputs": [],
   "source": []
  }
 ],
 "metadata": {
  "kernelspec": {
   "display_name": "Python 3 (ipykernel)",
   "language": "python",
   "name": "python3"
  },
  "language_info": {
   "codemirror_mode": {
    "name": "ipython",
    "version": 3
   },
   "file_extension": ".py",
   "mimetype": "text/x-python",
   "name": "python",
   "nbconvert_exporter": "python",
   "pygments_lexer": "ipython3",
   "version": "3.8.12"
  }
 },
 "nbformat": 4,
 "nbformat_minor": 5
}
