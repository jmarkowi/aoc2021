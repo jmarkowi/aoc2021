{
 "cells": [
  {
   "cell_type": "markdown",
   "id": "9bce0cc9",
   "metadata": {},
   "source": [
    "# Day 3: Giant Squid\n",
    "\n",
    "## Part 1:\n",
    "\n",
    "You're already almost 1.5km (almost a mile) below the surface of the ocean, already so deep that you can't see any sunlight. What you **can** see, however, is a giant squid that has attached itself to the outside of your submarine.\n",
    "\n",
    "Maybe it wants to play [bingo](https://en.wikipedia.org/wiki/Bingo_(American_version))?\n",
    "\n",
    "Bingo is played on a set of boards each consisting of a 5x5 grid of numbers. Numbers are chosen at random, and the chosen number is marked on all boards on which it appears. (Numbers may not appear on all boards.) If all numbers in any row or any column of a board are marked, that board wins. (Diagonals don't count.)\n",
    "\n",
    "The submarine has a bingo subsystem to help passengers (currently, you and the giant squid) pass the time. It automatically generates a random order in which to draw numbers and a random set of boards (your puzzle input). For example:\n",
    "\n",
    "```\n",
    "7,4,9,5,11,17,23,2,0,14,21,24,10,16,13,6,15,25,12,22,18,20,8,19,3,26,1\n",
    "\n",
    "22 13 17 11  0\n",
    " 8  2 23  4 24\n",
    "21  9 14 16  7\n",
    " 6 10  3 18  5\n",
    " 1 12 20 15 19\n",
    "\n",
    " 3 15  0  2 22\n",
    " 9 18 13 17  5\n",
    "19  8  7 25 23\n",
    "20 11 10 24  4\n",
    "14 21 16 12  6\n",
    "\n",
    "14 21 17 24  4\n",
    "10 16 15  9 19\n",
    "18  8 23 26 20\n",
    "22 11 13  6  5\n",
    " 2  0 12  3  7\n",
    " ```\n",
    " \n",
    "After the first five numbers are drawn (7, 4, 9, 5, and 11), there are no winners, but the boards are marked as follows (shown here adjacent to each other to save space):\n",
    "```\n",
    "22 13 17 11  0         3 15  0  2 22        14 21 17 24  4\n",
    " 8  2 23  4 24         9 18 13 17  5        10 16 15  9 19\n",
    "21  9 14 16  7        19  8  7 25 23        18  8 23 26 20\n",
    " 6 10  3 18  5        20 11 10 24  4        22 11 13  6  5\n",
    " 1 12 20 15 19        14 21 16 12  6         2  0 12  3  7\n",
    " ```\n",
    "After the next six numbers are drawn (17, 23, 2, 0, 14, and 21), there are still no winners:\n",
    "```\n",
    "22 13 17 11  0         3 15  0  2 22        14 21 17 24  4\n",
    " 8  2 23  4 24         9 18 13 17  5        10 16 15  9 19\n",
    "21  9 14 16  7        19  8  7 25 23        18  8 23 26 20\n",
    " 6 10  3 18  5        20 11 10 24  4        22 11 13  6  5\n",
    " 1 12 20 15 19        14 21 16 12  6         2  0 12  3  7\n",
    " ```\n",
    "Finally, 24 is drawn:\n",
    "```\n",
    "22 13 17 11  0         3 15  0  2 22        14 21 17 24  4\n",
    " 8  2 23  4 24         9 18 13 17  5        10 16 15  9 19\n",
    "21  9 14 16  7        19  8  7 25 23        18  8 23 26 20\n",
    " 6 10  3 18  5        20 11 10 24  4        22 11 13  6  5\n",
    " 1 12 20 15 19        14 21 16 12  6         2  0 12  3  7\n",
    " ```\n",
    "At this point, the third board **wins** because it has at least one complete row or column of marked numbers (in this case, the entire top row is marked: `14 21 17 24 4`).\n",
    "\n",
    "The score of the winning board can now be calculated. Start by finding the **sum of all unmarked numbers on that board**; in this case, the sum is `188`. Then, multiply that sum by **the number that was just called** when the board won, 24, to get the final score, `188 * 24 = 4512`.\n",
    "\n",
    "To guarantee victory against the giant squid, figure out which board will win first. **What will your final score be if you choose that board?**"
   ]
  },
  {
   "cell_type": "markdown",
   "id": "d8007826",
   "metadata": {},
   "source": [
    "Pseudocode solution:\n",
    "```\n",
    "def solution(input_text):\n",
    "    drawing = get_drawing_numbers(input_text)\n",
    "    boards = get_boards(input_text)\n",
    "    \n",
    "    for num in drawing:\n",
    "        if check_winner(boards):\n",
    "            return score(winning_board(boards))\n",
    "        else:\n",
    "            mark_boards(num)\n",
    "```"
   ]
  },
  {
   "cell_type": "code",
   "execution_count": 56,
   "id": "a89327fa",
   "metadata": {
    "ExecuteTime": {
     "end_time": "2021-12-04T18:07:07.459137Z",
     "start_time": "2021-12-04T18:07:07.453424Z"
    }
   },
   "outputs": [
    {
     "data": {
      "text/plain": [
       "['7,4,9,5,11,17,23,2,0,14,21,24,10,16,13,6,15,25,12,22,18,20,8,19,3,26,1',\n",
       " '',\n",
       " '22 13 17 11  0',\n",
       " '8  2 23  4 24',\n",
       " '21  9 14 16  7',\n",
       " '6 10  3 18  5',\n",
       " '1 12 20 15 19',\n",
       " '',\n",
       " '3 15  0  2 22',\n",
       " '9 18 13 17  5',\n",
       " '19  8  7 25 23',\n",
       " '20 11 10 24  4',\n",
       " '14 21 16 12  6',\n",
       " '',\n",
       " '14 21 17 24  4',\n",
       " '10 16 15  9 19',\n",
       " '18  8 23 26 20',\n",
       " '22 11 13  6  5',\n",
       " '2  0 12  3  7']"
      ]
     },
     "execution_count": 56,
     "metadata": {},
     "output_type": "execute_result"
    }
   ],
   "source": [
    "# First on the test input\n",
    "with open('./test_input_4.txt') as f:\n",
    "    lines = f.readlines()\n",
    "test_bingo = [line.strip() for line in lines]\n",
    "test_bingo"
   ]
  },
  {
   "cell_type": "markdown",
   "id": "466ca48b",
   "metadata": {},
   "source": [
    "First step is definitely to get this into one set of drawing numbers and a bunch of bingo boards."
   ]
  },
  {
   "cell_type": "code",
   "execution_count": 57,
   "id": "6b1b95c2",
   "metadata": {
    "ExecuteTime": {
     "end_time": "2021-12-04T18:07:08.288981Z",
     "start_time": "2021-12-04T18:07:08.285212Z"
    }
   },
   "outputs": [
    {
     "data": {
      "text/plain": [
       "'7,4,9,5,11,17,23,2,0,14,21,24,10,16,13,6,15,25,12,22,18,20,8,19,3,26,1'"
      ]
     },
     "execution_count": 57,
     "metadata": {},
     "output_type": "execute_result"
    }
   ],
   "source": [
    "test_bingo[0]"
   ]
  },
  {
   "cell_type": "code",
   "execution_count": 58,
   "id": "008310a4",
   "metadata": {
    "ExecuteTime": {
     "end_time": "2021-12-04T18:07:09.306423Z",
     "start_time": "2021-12-04T18:07:09.301683Z"
    },
    "scrolled": true
   },
   "outputs": [
    {
     "data": {
      "text/plain": [
       "[7,\n",
       " 4,\n",
       " 9,\n",
       " 5,\n",
       " 11,\n",
       " 17,\n",
       " 23,\n",
       " 2,\n",
       " 0,\n",
       " 14,\n",
       " 21,\n",
       " 24,\n",
       " 10,\n",
       " 16,\n",
       " 13,\n",
       " 6,\n",
       " 15,\n",
       " 25,\n",
       " 12,\n",
       " 22,\n",
       " 18,\n",
       " 20,\n",
       " 8,\n",
       " 19,\n",
       " 3,\n",
       " 26,\n",
       " 1]"
      ]
     },
     "execution_count": 58,
     "metadata": {},
     "output_type": "execute_result"
    }
   ],
   "source": [
    "drawing = [int(num) for num in test_bingo[0].split(',')]\n",
    "drawing"
   ]
  },
  {
   "cell_type": "markdown",
   "id": "aa8afe22",
   "metadata": {},
   "source": [
    "To get the boards, I want to iterate down through the input text, loading a board after each newline. It will probably help to know in advance that all boards are 5x5. It sounds like it might be easy to save them all as either nested lists/dicts or numpy arrays/matrix."
   ]
  },
  {
   "cell_type": "code",
   "execution_count": 51,
   "id": "8c1da18b",
   "metadata": {
    "ExecuteTime": {
     "end_time": "2021-12-04T18:04:48.294175Z",
     "start_time": "2021-12-04T18:04:48.290508Z"
    }
   },
   "outputs": [],
   "source": [
    "import numpy as np"
   ]
  },
  {
   "cell_type": "code",
   "execution_count": 52,
   "id": "9a18699e",
   "metadata": {
    "ExecuteTime": {
     "end_time": "2021-12-04T18:04:48.695031Z",
     "start_time": "2021-12-04T18:04:48.690289Z"
    }
   },
   "outputs": [
    {
     "data": {
      "text/plain": [
       "['22 13 17 11  0',\n",
       " '8  2 23  4 24',\n",
       " '21  9 14 16  7',\n",
       " '6 10  3 18  5',\n",
       " '1 12 20 15 19']"
      ]
     },
     "execution_count": 52,
     "metadata": {},
     "output_type": "execute_result"
    }
   ],
   "source": [
    "test_bingo[2:7]"
   ]
  },
  {
   "cell_type": "code",
   "execution_count": 38,
   "id": "5b945407",
   "metadata": {
    "ExecuteTime": {
     "end_time": "2021-12-04T17:59:57.530280Z",
     "start_time": "2021-12-04T17:59:57.525682Z"
    }
   },
   "outputs": [
    {
     "data": {
      "text/plain": [
       "array([[0., 0., 0., 0., 0.],\n",
       "       [0., 0., 0., 0., 0.],\n",
       "       [0., 0., 0., 0., 0.],\n",
       "       [0., 0., 0., 0., 0.],\n",
       "       [0., 0., 0., 0., 0.]])"
      ]
     },
     "execution_count": 38,
     "metadata": {},
     "output_type": "execute_result"
    }
   ],
   "source": [
    "test_array = np.zeros((5, 5))\n",
    "test_array"
   ]
  },
  {
   "cell_type": "code",
   "execution_count": 40,
   "id": "eedf7ef6",
   "metadata": {
    "ExecuteTime": {
     "end_time": "2021-12-04T18:00:21.856656Z",
     "start_time": "2021-12-04T18:00:21.852383Z"
    }
   },
   "outputs": [
    {
     "data": {
      "text/plain": [
       "array([[1., 2., 3., 4., 5.],\n",
       "       [0., 0., 0., 0., 0.],\n",
       "       [0., 0., 0., 0., 0.],\n",
       "       [0., 0., 0., 0., 0.],\n",
       "       [0., 0., 0., 0., 0.]])"
      ]
     },
     "execution_count": 40,
     "metadata": {},
     "output_type": "execute_result"
    }
   ],
   "source": [
    "test_array[0] = [1, 2, 3, 4, 5]\n",
    "test_array"
   ]
  },
  {
   "cell_type": "code",
   "execution_count": 42,
   "id": "b41d4088",
   "metadata": {
    "ExecuteTime": {
     "end_time": "2021-12-04T18:01:53.604450Z",
     "start_time": "2021-12-04T18:01:53.601052Z"
    }
   },
   "outputs": [
    {
     "data": {
      "text/plain": [
       "['22', '13', '17', '11', '0']"
      ]
     },
     "execution_count": 42,
     "metadata": {},
     "output_type": "execute_result"
    }
   ],
   "source": [
    "test_bingo[2].split()"
   ]
  },
  {
   "cell_type": "code",
   "execution_count": 83,
   "id": "b27b7a6f",
   "metadata": {
    "ExecuteTime": {
     "end_time": "2021-12-04T18:17:20.653226Z",
     "start_time": "2021-12-04T18:17:20.646790Z"
    }
   },
   "outputs": [
    {
     "data": {
      "text/plain": [
       "[[[14, 21, 17, 24, 4],\n",
       "  [10, 16, 15, 9, 19],\n",
       "  [18, 8, 23, 26, 20],\n",
       "  [22, 11, 13, 6, 5],\n",
       "  [2, 0, 12, 3, 7]],\n",
       " [[22, 13, 17, 11, 0],\n",
       "  [8, 2, 23, 4, 24],\n",
       "  [21, 9, 14, 16, 7],\n",
       "  [6, 10, 3, 18, 5],\n",
       "  [1, 12, 20, 15, 19]],\n",
       " [[3, 15, 0, 2, 22],\n",
       "  [9, 18, 13, 17, 5],\n",
       "  [19, 8, 7, 25, 23],\n",
       "  [20, 11, 10, 24, 4],\n",
       "  [14, 21, 16, 12, 6]]]"
      ]
     },
     "execution_count": 83,
     "metadata": {},
     "output_type": "execute_result"
    }
   ],
   "source": [
    "boards = []\n",
    "\n",
    "for line in test_bingo[1:]:\n",
    "    if line == '':\n",
    "        boards.append(new_board)\n",
    "        new_board = []\n",
    "    else:\n",
    "        new_line = [int(num) for num in line.split()]\n",
    "        new_board.append(new_line)\n",
    "boards"
   ]
  },
  {
   "cell_type": "code",
   "execution_count": null,
   "id": "b087afd9",
   "metadata": {
    "ExecuteTime": {
     "end_time": "2021-12-03T15:39:03.004915Z",
     "start_time": "2021-12-03T15:39:02.988513Z"
    }
   },
   "outputs": [],
   "source": [
    "# Now on the full input\n",
    "with open('./input_4.txt') as f:\n",
    "    lines = f.readlines()\n",
    "bingo = [line.strip() for line in lines]\n",
    "bingo"
   ]
  },
  {
   "cell_type": "code",
   "execution_count": 132,
   "id": "bbe30b87",
   "metadata": {
    "ExecuteTime": {
     "end_time": "2021-12-03T15:39:04.063994Z",
     "start_time": "2021-12-03T15:39:04.057326Z"
    }
   },
   "outputs": [
    {
     "data": {
      "text/plain": [
       "4139586"
      ]
     },
     "execution_count": 132,
     "metadata": {},
     "output_type": "execute_result"
    }
   ],
   "source": [
    "solution(diag)"
   ]
  },
  {
   "cell_type": "markdown",
   "id": "0d984972",
   "metadata": {},
   "source": [
    "## Part 2:\n",
    "\n",
    "Next, you should verify the life support rating, which can be determined by multiplying the oxygen generator rating by the CO2 scrubber rating.\n",
    "\n",
    "Both the oxygen generator rating and the CO2 scrubber rating are values that can be found in your diagnostic report - finding them is the tricky part. Both values are located using a similar process that involves filtering out values until only one remains. Before searching for either rating value, start with the full list of binary numbers from your diagnostic report and consider just the first bit of those numbers. Then:\n",
    "\n",
    " - Keep only numbers selected by the bit criteria for the type of rating value for which you are searching. Discard numbers which do not match the bit criteria.\n",
    " - If you only have one number left, stop; this is the rating value for which you are searching.\n",
    " - Otherwise, repeat the process, considering the next bit to the right.\n",
    "\n",
    "The bit criteria depends on which type of rating value you want to find:\n",
    "\n",
    " - To find oxygen generator rating, determine the most common value (0 or 1) in the current bit position, and keep only numbers with that bit in that position. If 0 and 1 are equally common, keep values with a 1 in the position being considered.\n",
    " - To find CO2 scrubber rating, determine the least common value (0 or 1) in the current bit position, and keep only numbers with that bit in that position. If 0 and 1 are equally common, keep values with a 0 in the position being considered.\n",
    "\n",
    "For example, to determine the oxygen generator rating value using the same example diagnostic report from above:\n",
    "\n",
    " - Start with all 12 numbers and consider only the first bit of each number. There are more 1 bits (7) than 0 bits (5), so keep only the 7 numbers with a 1 in the first position: 11110, 10110, 10111, 10101, 11100, 10000, and 11001.\n",
    " - Then, consider the second bit of the 7 remaining numbers: there are more 0 bits (4) than 1 bits (3), so keep only the 4 numbers with a 0 in the second position: 10110, 10111, 10101, and 10000.\n",
    " - In the third position, three of the four numbers have a 1, so keep those three: 10110, 10111, and 10101.\n",
    " - In the fourth position, two of the three numbers have a 1, so keep those two: 10110 and 10111.\n",
    " - In the fifth position, there are an equal number of 0 bits and 1 bits (one each). So, to find the oxygen generator rating, keep the number with a 1 in that position: 10111.\n",
    " - As there is only one number left, stop; the oxygen generator rating is 10111, or 23 in decimal.\n",
    "\n",
    "Then, to determine the CO2 scrubber rating value from the same example above:\n",
    "\n",
    " - Start again with all 12 numbers and consider only the first bit of each number. There are fewer 0 bits (5) than 1 bits (7), so keep only the 5 numbers with a 0 in the first position: 00100, 01111, 00111, 00010, and 01010.\n",
    " - Then, consider the second bit of the 5 remaining numbers: there are fewer 1 bits (2) than 0 bits (3), so keep only the 2 numbers with a 1 in the second position: 01111 and 01010.\n",
    " - In the third position, there are an equal number of 0 bits and 1 bits (one each). So, to find the CO2 scrubber rating, keep the number with a 0 in that position: 01010.\n",
    " - As there is only one number left, stop; the CO2 scrubber rating is 01010, or 10 in decimal.\n",
    "\n",
    "Finally, to find the life support rating, multiply the oxygen generator rating (23) by the CO2 scrubber rating (10) to get 230.\n",
    "\n",
    "Use the binary numbers in your diagnostic report to calculate the oxygen generator rating and CO2 scrubber rating, then multiply them together. **What is the life support rating of the submarine?** (Be sure to represent your answer in decimal, not binary.)"
   ]
  }
 ],
 "metadata": {
  "kernelspec": {
   "display_name": "Python 3 (ipykernel)",
   "language": "python",
   "name": "python3"
  },
  "language_info": {
   "codemirror_mode": {
    "name": "ipython",
    "version": 3
   },
   "file_extension": ".py",
   "mimetype": "text/x-python",
   "name": "python",
   "nbconvert_exporter": "python",
   "pygments_lexer": "ipython3",
   "version": "3.8.12"
  }
 },
 "nbformat": 4,
 "nbformat_minor": 5
}
