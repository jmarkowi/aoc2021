{
 "cells": [
  {
   "cell_type": "markdown",
   "id": "9bce0cc9",
   "metadata": {},
   "source": [
    "# Day 1: Sonar Sweep\n",
    "\n",
    "## Part 1:\n",
    "\n",
    "You're minding your own business on a ship at sea when the overboard alarm goes off! You rush to see if you can help. Apparently, one of the Elves tripped and accidentally sent the sleigh keys flying into the ocean!\n",
    "\n",
    "Before you know it, you're inside a submarine the Elves keep ready for situations like this. It's covered in Christmas lights (because of course it is), and it even has an experimental antenna that should be able to track the keys if you can boost its signal strength high enough; there's a little meter that indicates the antenna's signal strength by displaying 0-50 stars.\n",
    "\n",
    "Your instincts tell you that in order to save Christmas, you'll need to get all fifty stars by December 25th.\n",
    "\n",
    "Collect stars by solving puzzles. Two puzzles will be made available on each day in the Advent calendar; the second puzzle is unlocked when you complete the first. Each puzzle grants one star. Good luck!\n",
    "\n",
    "As the submarine drops below the surface of the ocean, it automatically performs a sonar sweep of the nearby sea floor. On a small screen, the sonar sweep report (your puzzle input) appears: each line is a measurement of the sea floor depth as the sweep looks further and further away from the submarine.\n",
    "\n",
    "For example, suppose you had the following report:\n",
    "\n",
    "```\n",
    "199\n",
    "200\n",
    "208\n",
    "210\n",
    "200\n",
    "207\n",
    "240\n",
    "269\n",
    "260\n",
    "263\n",
    "```\n",
    "\n",
    "This report indicates that, scanning outward from the submarine, the sonar sweep found depths of 199, 200, 208, 210, and so on.\n",
    "\n",
    "The first order of business is to figure out how quickly the depth increases, just so you know what you're dealing with - you never know if the keys will get carried into deeper water by an ocean current or a fish or something.\n",
    "\n",
    "To do this, count the number of times a depth measurement increases from the previous measurement. (There is no measurement before the first measurement.) In the example above, the changes are as follows:\n",
    "```\n",
    "199 (N/A - no previous measurement)\n",
    "200 (increased)\n",
    "208 (increased)\n",
    "210 (increased)\n",
    "200 (decreased)\n",
    "207 (increased)\n",
    "240 (increased)\n",
    "269 (increased)\n",
    "260 (decreased)\n",
    "263 (increased)\n",
    "```\n",
    "In this example, there are 7 measurements that are larger than the previous measurement.\n",
    "\n",
    "**How many measurements are larger than the previous measurement?**"
   ]
  },
  {
   "cell_type": "code",
   "execution_count": 21,
   "id": "a89327fa",
   "metadata": {
    "ExecuteTime": {
     "end_time": "2021-12-01T05:15:51.458203Z",
     "start_time": "2021-12-01T05:15:51.453007Z"
    }
   },
   "outputs": [
    {
     "data": {
      "text/plain": [
       "[199, 200, 208, 210, 200, 207, 240, 269, 260, 263]"
      ]
     },
     "execution_count": 21,
     "metadata": {},
     "output_type": "execute_result"
    }
   ],
   "source": [
    "# First on the test input\n",
    "with open('./test_input_1.txt') as f:\n",
    "    lines = f.readlines()\n",
    "test_depths = [int(line.strip()) for line in lines]\n",
    "test_depths"
   ]
  },
  {
   "cell_type": "markdown",
   "id": "d97882f7",
   "metadata": {},
   "source": [
    "This seems pretty simple. All we have to do is compare each depth to the previous depth. I'll use a list comprehension to get a list of `True` and `False` for that comparison, then sum the resulting list."
   ]
  },
  {
   "cell_type": "code",
   "execution_count": 22,
   "id": "9e8ba667",
   "metadata": {
    "ExecuteTime": {
     "end_time": "2021-12-01T05:15:52.977126Z",
     "start_time": "2021-12-01T05:15:52.972872Z"
    }
   },
   "outputs": [
    {
     "data": {
      "text/plain": [
       "7"
      ]
     },
     "execution_count": 22,
     "metadata": {},
     "output_type": "execute_result"
    }
   ],
   "source": [
    "sum([test_depths[i]>test_depths[i-1] for i in range(1, len(test_depths))])\n",
    "# expecting 7"
   ]
  },
  {
   "cell_type": "code",
   "execution_count": 23,
   "id": "a5bb186f",
   "metadata": {
    "ExecuteTime": {
     "end_time": "2021-12-01T05:15:59.043479Z",
     "start_time": "2021-12-01T05:15:59.036890Z"
    }
   },
   "outputs": [
    {
     "data": {
      "text/plain": [
       "1581"
      ]
     },
     "execution_count": 23,
     "metadata": {},
     "output_type": "execute_result"
    }
   ],
   "source": [
    "# Now let's go for the real deal!\n",
    "with open('./input_1.txt') as f:\n",
    "    lines = f.readlines()\n",
    "depths = [int(line.strip()) for line in lines]\n",
    "sum([depths[i]>depths[i-1] for i in range(1, len(depths))])"
   ]
  },
  {
   "cell_type": "markdown",
   "id": "52f10bc5",
   "metadata": {},
   "source": [
    "After initially forgetting to cast the first list as `int`s, I got it. Huzzah! AoC2021 is off to a great start! (Although I'm still wondering if there's a better way to code this...)"
   ]
  },
  {
   "cell_type": "markdown",
   "id": "0d984972",
   "metadata": {},
   "source": [
    "## Part 2:\n",
    "\n",
    "Considering every single measurement isn't as useful as you expected: there's just too much noise in the data.\n",
    "\n",
    "Instead, consider sums of a three-measurement sliding window. Again considering the above example:\n",
    "```\n",
    "199  A      \n",
    "200  A B    \n",
    "208  A B C  \n",
    "210    B C D\n",
    "200  E   C D\n",
    "207  E F   D\n",
    "240  E F G  \n",
    "269    F G H\n",
    "260      G H\n",
    "263        H\n",
    "```\n",
    "Start by comparing the first and second three-measurement windows. The measurements in the first window are marked A (199, 200, 208); their sum is 199 + 200 + 208 = 607. The second window is marked B (200, 208, 210); its sum is 618. The sum of measurements in the second window is larger than the sum of the first, so this first comparison increased.\n",
    "\n",
    "Your goal now is to count **the number of times the sum of measurements in this sliding window increases** from the previous sum. So, compare A with B, then compare B with C, then C with D, and so on. Stop when there aren't enough measurements left to create a new three-measurement sum.\n",
    "\n",
    "In the above example, the sum of each three-measurement window is as follows:\n",
    "```\n",
    "A: 607 (N/A - no previous sum)\n",
    "B: 618 (increased)\n",
    "C: 618 (no change)\n",
    "D: 617 (decreased)\n",
    "E: 647 (increased)\n",
    "F: 716 (increased)\n",
    "G: 769 (increased)\n",
    "H: 792 (increased)\n",
    "```\n",
    "In this example, there are 5 sums that are larger than the previous sum.\n",
    "\n",
    "Consider sums of a three-measurement sliding window. **How many sums are larger than the previous sum?**"
   ]
  },
  {
   "cell_type": "markdown",
   "id": "86be9d9f",
   "metadata": {},
   "source": [
    "Seems like we can approach this in a similar way to the last one, but instead of looking backwards with `depths[i-1]`, we look forward and sum."
   ]
  },
  {
   "cell_type": "code",
   "execution_count": 26,
   "id": "8617fb89",
   "metadata": {
    "ExecuteTime": {
     "end_time": "2021-12-01T15:01:35.776916Z",
     "start_time": "2021-12-01T15:01:35.770940Z"
    }
   },
   "outputs": [
    {
     "data": {
      "text/plain": [
       "607"
      ]
     },
     "execution_count": 26,
     "metadata": {},
     "output_type": "execute_result"
    }
   ],
   "source": [
    "# Let's get some functions in here\n",
    "def window_sum(depths, i):\n",
    "    # window = 0\n",
    "    # for j in range(3):\n",
    "    #     window += depths[i+j]\n",
    "    # return window\n",
    "    return sum([depths[i+j] for j in range(3)])\n",
    "\n",
    "window_sum(test_depths, 0)\n",
    "# expecting 607"
   ]
  },
  {
   "cell_type": "code",
   "execution_count": 29,
   "id": "69ab5287",
   "metadata": {
    "ExecuteTime": {
     "end_time": "2021-12-01T15:03:45.345233Z",
     "start_time": "2021-12-01T15:03:45.340719Z"
    }
   },
   "outputs": [
    {
     "data": {
      "text/plain": [
       "5"
      ]
     },
     "execution_count": 29,
     "metadata": {},
     "output_type": "execute_result"
    }
   ],
   "source": [
    "def solution(depths):\n",
    "    return sum([window_sum(depths, i)<window_sum(depths, i+1) for i in range(len(depths)-3)])\n",
    "\n",
    "solution(test_depths)\n",
    "# Expecting 5"
   ]
  },
  {
   "cell_type": "code",
   "execution_count": 31,
   "id": "4ad91e03",
   "metadata": {
    "ExecuteTime": {
     "end_time": "2021-12-01T15:04:13.092159Z",
     "start_time": "2021-12-01T15:04:13.084189Z"
    }
   },
   "outputs": [
    {
     "data": {
      "text/plain": [
       "1618"
      ]
     },
     "execution_count": 31,
     "metadata": {},
     "output_type": "execute_result"
    }
   ],
   "source": [
    "# Let's give it a go!\n",
    "solution(depths)"
   ]
  },
  {
   "cell_type": "markdown",
   "id": "14dc2298",
   "metadata": {},
   "source": [
    "Woot! Got it!\n",
    "\n",
    "Just for kicks, let's see if I can write it all in just one line."
   ]
  },
  {
   "cell_type": "code",
   "execution_count": 33,
   "id": "3d8ec645",
   "metadata": {
    "ExecuteTime": {
     "end_time": "2021-12-01T15:09:29.816567Z",
     "start_time": "2021-12-01T15:09:29.807978Z"
    }
   },
   "outputs": [
    {
     "data": {
      "text/plain": [
       "1618"
      ]
     },
     "execution_count": 33,
     "metadata": {},
     "output_type": "execute_result"
    }
   ],
   "source": [
    "sum([sum([depths[i+j] for j in range(3)]) < sum([depths[i+1+k] for k in range(3)]) for i in range(len(depths)-3)])"
   ]
  },
  {
   "cell_type": "markdown",
   "id": "8c81a001",
   "metadata": {},
   "source": [
    "Looks pretty gross though, not sure I'd ever want to actually write or interpret something like that. Yuck."
   ]
  },
  {
   "cell_type": "code",
   "execution_count": null,
   "id": "c7895d98",
   "metadata": {},
   "outputs": [],
   "source": []
  }
 ],
 "metadata": {
  "kernelspec": {
   "display_name": "Python 3 (ipykernel)",
   "language": "python",
   "name": "python3"
  },
  "language_info": {
   "codemirror_mode": {
    "name": "ipython",
    "version": 3
   },
   "file_extension": ".py",
   "mimetype": "text/x-python",
   "name": "python",
   "nbconvert_exporter": "python",
   "pygments_lexer": "ipython3",
   "version": "3.8.12"
  }
 },
 "nbformat": 4,
 "nbformat_minor": 5
}
